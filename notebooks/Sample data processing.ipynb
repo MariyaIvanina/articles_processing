{
 "cells": [
  {
   "cell_type": "code",
   "execution_count": 1,
   "id": "40041077",
   "metadata": {},
   "outputs": [],
   "source": [
    "import pandas as pd\n",
    "import requests\n",
    "import json\n",
    "import re\n",
    "import sys\n",
    "import numpy as np\n",
    "import os\n",
    "import nltk\n",
    "import pickle\n",
    "from sklearn.utils import shuffle\n",
    "from importlib import reload\n",
    "from langdetect import detect\n",
    "from nltk.stem.snowball import SnowballStemmer\n",
    "from nltk.stem.wordnet import WordNetLemmatizer\n",
    "from dateutil.parser import parse\n",
    "import spacy\n",
    "from time import time\n",
    "\n",
    "sys.path.append('../src')\n",
    "\n",
    "from commons import elastic\n",
    "from text_processing import text_normalizer\n",
    "text_normalizer = reload(text_normalizer)\n",
    "from text_processing import duplicate_finder\n",
    "from utilities import excel_writer, excel_reader, utils\n",
    "from text_processing import abbreviations_resolver\n",
    "abbreviations_resolver = reload(abbreviations_resolver)\n",
    "\n",
    "stemmer = SnowballStemmer(\"english\")\n",
    "lmtzr = WordNetLemmatizer()\n",
    "nlp = spacy.load('en_core_web_sm')\n",
    "\n",
    "_abbreviations_resolver = abbreviations_resolver.AbbreviationsResolver([])\n",
    "_abbreviations_resolver.load_model(\"../model/abbreviations_dicts\")"
   ]
  },
  {
   "cell_type": "markdown",
   "id": "81220b5a",
   "metadata": {},
   "source": [
    "# Load dataset"
   ]
  },
  {
   "cell_type": "code",
   "execution_count": 2,
   "id": "9af9c19b",
   "metadata": {},
   "outputs": [
    {
     "name": "stdout",
     "output_type": "stream",
     "text": [
      "Read file ../tmp/sample_reaper.xlsx: 0.03s\n",
      "Processed file ../tmp/sample_reaper.xlsx: 0.02s\n"
     ]
    }
   ],
   "source": [
    "df = excel_reader.ExcelReader().read_df_from_excel(\"../tmp/sample_reaper.xlsx\")"
   ]
  },
  {
   "cell_type": "code",
   "execution_count": 3,
   "id": "f640780a",
   "metadata": {},
   "outputs": [
    {
     "name": "stdout",
     "output_type": "stream",
     "text": [
      "Number of articles:  291\n",
      "Available columns:  Index(['abstract', 'affiliation', 'authors', 'journal_name', 'keywords',\n",
      "       'publisher', 'title', 'url', 'year'],\n",
      "      dtype='object')\n"
     ]
    },
    {
     "data": {
      "text/html": [
       "<div>\n",
       "<style scoped>\n",
       "    .dataframe tbody tr th:only-of-type {\n",
       "        vertical-align: middle;\n",
       "    }\n",
       "\n",
       "    .dataframe tbody tr th {\n",
       "        vertical-align: top;\n",
       "    }\n",
       "\n",
       "    .dataframe thead th {\n",
       "        text-align: right;\n",
       "    }\n",
       "</style>\n",
       "<table border=\"1\" class=\"dataframe\">\n",
       "  <thead>\n",
       "    <tr style=\"text-align: right;\">\n",
       "      <th></th>\n",
       "      <th>abstract</th>\n",
       "      <th>affiliation</th>\n",
       "      <th>authors</th>\n",
       "      <th>journal_name</th>\n",
       "      <th>keywords</th>\n",
       "      <th>publisher</th>\n",
       "      <th>title</th>\n",
       "      <th>url</th>\n",
       "      <th>year</th>\n",
       "    </tr>\n",
       "  </thead>\n",
       "  <tbody>\n",
       "    <tr>\n",
       "      <th>0</th>\n",
       "      <td>​The International Fund for Agricultural Devel...</td>\n",
       "      <td></td>\n",
       "      <td></td>\n",
       "      <td></td>\n",
       "      <td>Climate action;The R4 Rural Resilience Initiat...</td>\n",
       "      <td></td>\n",
       "      <td>2018- Using insurance to protect farmers again...</td>\n",
       "      <td>https://docs.wfp.org/api/documents/WFP-0000073...</td>\n",
       "      <td>2018</td>\n",
       "    </tr>\n",
       "    <tr>\n",
       "      <th>1</th>\n",
       "      <td>&lt;b&gt;Problem statement:&lt;/b&gt; Contract Farming (CF...</td>\n",
       "      <td>Department of Agriculture Crop Production and ...</td>\n",
       "      <td>Norsida Man;Nolila M. Nawi</td>\n",
       "      <td></td>\n",
       "      <td></td>\n",
       "      <td></td>\n",
       "      <td>The Practices of Contract Farming Among Fresh ...</td>\n",
       "      <td>http://agris.fao.org/agris-search/search.do?re...</td>\n",
       "      <td>2010</td>\n",
       "    </tr>\n",
       "    <tr>\n",
       "      <th>2</th>\n",
       "      <td>A farm business advisor for the Malawi Ministr...</td>\n",
       "      <td>Division of Social Sciences and Training, ICAR...</td>\n",
       "      <td>CTA;Technical Centre for Agricultural and Rura...</td>\n",
       "      <td></td>\n",
       "      <td></td>\n",
       "      <td></td>\n",
       "      <td>Competing in the open market</td>\n",
       "      <td>http://agris.fao.org/agris-search/search.do?re...</td>\n",
       "      <td>2002</td>\n",
       "    </tr>\n",
       "    <tr>\n",
       "      <th>3</th>\n",
       "      <td>A number of the commercially available maize c...</td>\n",
       "      <td>History Institute, Leiden University/African S...</td>\n",
       "      <td>Mphundi, Patricia Makuzana</td>\n",
       "      <td></td>\n",
       "      <td>Dissertation (M.Sc.Agric. (Soil, Crop and Clim...</td>\n",
       "      <td>University of the Free State</td>\n",
       "      <td>Factors affecting maize (Zea mays L.) sensitiv...</td>\n",
       "      <td>http://hdl.handle.net/11660/1701</td>\n",
       "      <td>2009</td>\n",
       "    </tr>\n",
       "    <tr>\n",
       "      <th>4</th>\n",
       "      <td>A recently commercialized natural bio-stimulan...</td>\n",
       "      <td>Department of Global Health and Population, Ha...</td>\n",
       "      <td>Hüster, Thomas</td>\n",
       "      <td></td>\n",
       "      <td>Thesis (Ph.D. (Soil, Crop and Climate Sciences...</td>\n",
       "      <td>University of the Free State</td>\n",
       "      <td>Growth and yield response of selected crops to...</td>\n",
       "      <td>http://hdl.handle.net/11660/986</td>\n",
       "      <td>2011</td>\n",
       "    </tr>\n",
       "  </tbody>\n",
       "</table>\n",
       "</div>"
      ],
      "text/plain": [
       "                                            abstract  \\\n",
       "0  ​The International Fund for Agricultural Devel...   \n",
       "1  <b>Problem statement:</b> Contract Farming (CF...   \n",
       "2  A farm business advisor for the Malawi Ministr...   \n",
       "3  A number of the commercially available maize c...   \n",
       "4  A recently commercialized natural bio-stimulan...   \n",
       "\n",
       "                                         affiliation  \\\n",
       "0                                                      \n",
       "1  Department of Agriculture Crop Production and ...   \n",
       "2  Division of Social Sciences and Training, ICAR...   \n",
       "3  History Institute, Leiden University/African S...   \n",
       "4  Department of Global Health and Population, Ha...   \n",
       "\n",
       "                                             authors journal_name  \\\n",
       "0                                                                   \n",
       "1                         Norsida Man;Nolila M. Nawi                \n",
       "2  CTA;Technical Centre for Agricultural and Rura...                \n",
       "3                         Mphundi, Patricia Makuzana                \n",
       "4                                     Hüster, Thomas                \n",
       "\n",
       "                                            keywords  \\\n",
       "0  Climate action;The R4 Rural Resilience Initiat...   \n",
       "1                                                      \n",
       "2                                                      \n",
       "3  Dissertation (M.Sc.Agric. (Soil, Crop and Clim...   \n",
       "4  Thesis (Ph.D. (Soil, Crop and Climate Sciences...   \n",
       "\n",
       "                      publisher  \\\n",
       "0                                 \n",
       "1                                 \n",
       "2                                 \n",
       "3  University of the Free State   \n",
       "4  University of the Free State   \n",
       "\n",
       "                                               title  \\\n",
       "0  2018- Using insurance to protect farmers again...   \n",
       "1  The Practices of Contract Farming Among Fresh ...   \n",
       "2                       Competing in the open market   \n",
       "3  Factors affecting maize (Zea mays L.) sensitiv...   \n",
       "4  Growth and yield response of selected crops to...   \n",
       "\n",
       "                                                 url  year  \n",
       "0  https://docs.wfp.org/api/documents/WFP-0000073...  2018  \n",
       "1  http://agris.fao.org/agris-search/search.do?re...  2010  \n",
       "2  http://agris.fao.org/agris-search/search.do?re...  2002  \n",
       "3                   http://hdl.handle.net/11660/1701  2009  \n",
       "4                    http://hdl.handle.net/11660/986  2011  "
      ]
     },
     "execution_count": 3,
     "metadata": {},
     "output_type": "execute_result"
    }
   ],
   "source": [
    "print(\"Number of articles: \", len(df))\n",
    "print(\"Available columns: \", df.columns)\n",
    "df.head()"
   ]
  },
  {
   "cell_type": "markdown",
   "id": "af725770",
   "metadata": {},
   "source": [
    "# Data cleaning and processing"
   ]
  },
  {
   "cell_type": "code",
   "execution_count": 4,
   "id": "7b0e9705",
   "metadata": {},
   "outputs": [
    {
     "name": "stdout",
     "output_type": "stream",
     "text": [
      "0.05032753944396973\n",
      "0.8974392414093018\n",
      "Year 2018: 29 items\n",
      "Year 2010: 16 items\n",
      "Year 2002: 7 items\n",
      "Year 2009: 18 items\n",
      "Year 2011: 24 items\n",
      "Year 2015: 31 items\n",
      "Year 2012: 16 items\n",
      "Year 2016: 22 items\n",
      "Year 2019: 7 items\n",
      "Year 2014: 20 items\n",
      "Year 2008: 11 items\n",
      "Year 2005: 2 items\n",
      "Year 2004: 9 items\n",
      "Year 2006: 11 items\n",
      "Year 2017: 26 items\n",
      "Year 2003: 5 items\n",
      "Year 2013: 19 items\n",
      "Year 2007: 5 items\n",
      "Year 2001: 2 items\n",
      "Checked all articles\n",
      "Saving...\n",
      "Saved to ../tmp/duplicate_reaper_info/duplicate_in_one_dataset_1628757131.xlsx\n",
      "Merged file\n",
      "Filtered dataset\n",
      "After deduplication:  285\n"
     ]
    }
   ],
   "source": [
    "_duplicate_finder = duplicate_finder.DuplicateFinder(\"../tmp/duplicate_reaper_info\")\n",
    "df = _duplicate_finder.remove_duplicates_in_one_df_by_title(df, [])\n",
    "print(\"After deduplication: \", len(df))"
   ]
  },
  {
   "cell_type": "code",
   "execution_count": 5,
   "id": "38390d90",
   "metadata": {},
   "outputs": [
    {
     "name": "stdout",
     "output_type": "stream",
     "text": [
      "Started processing  {'column_filler_class': 'AdvancedTextNormalizer', 'full_normalization': True}\n",
      "Processed 0 articles\n",
      "Processed 284 articles\n",
      "Processed 0 articles\n",
      "Processed 284 articles\n",
      "Processed 0 articles\n",
      "Processed 284 articles\n",
      "the agriculturethe\n",
      "the thestudy\n",
      "with withagricultural\n",
      "were weredata\n",
      "agriculturethe ### agriculture the ### agriculturethe ### the\n",
      "withagricultural ### with agricultural ### withagricultural ### with\n",
      "weredata ### were data ### weredata ### were\n",
      "Processed for 7.987416505813599s\n"
     ]
    }
   ],
   "source": [
    "from text_processing import advanced_text_normalization\n",
    "advanced_text_normalization = reload(advanced_text_normalization)\n",
    "from text_processing import all_column_filler\n",
    "all_column_filler = reload(all_column_filler)\n",
    "\n",
    "_all_column_filler = all_column_filler.AllColumnFiller()\n",
    "df = _all_column_filler.fill_columns_for_df(df, [], _abbreviations_resolver,settings_json = {\"columns\":[\n",
    "    {\"column_filler_class\":\"AdvancedTextNormalizer\",\"full_normalization\":True}\n",
    "]})"
   ]
  },
  {
   "cell_type": "code",
   "execution_count": 21,
   "id": "6c5eb5c8",
   "metadata": {},
   "outputs": [],
   "source": [
    "df[\"raw_affiliation\"] = df[\"affiliation\"]\n",
    "df[\"raw_authors\"] = df[\"authors\"]\n",
    "df[\"identificators\"] = \"\"\n",
    "df = df.rename({\"journal_name\": \"journal\"}, axis=1)"
   ]
  },
  {
   "cell_type": "code",
   "execution_count": 22,
   "id": "84fcf2ae",
   "metadata": {},
   "outputs": [
    {
     "name": "stdout",
     "output_type": "stream",
     "text": [
      "Saving...\n",
      "Saved to ../tmp/sample_reaper_cleaned.xlsx\n"
     ]
    }
   ],
   "source": [
    "excel_writer.ExcelWriter().save_df_in_excel(df, \"../tmp/sample_reaper_cleaned.xlsx\")"
   ]
  },
  {
   "cell_type": "markdown",
   "id": "24cf9bbb",
   "metadata": {},
   "source": [
    "# Enriching the dataset with different extraction/classification parts"
   ]
  },
  {
   "cell_type": "code",
   "execution_count": 34,
   "id": "0da1be16",
   "metadata": {},
   "outputs": [
    {
     "name": "stdout",
     "output_type": "stream",
     "text": [
      "Read file ../tmp/sample_reaper_cleaned.xlsx: 0.04s\n",
      "Processed file ../tmp/sample_reaper_cleaned.xlsx: 0.02s\n"
     ]
    }
   ],
   "source": [
    "df = excel_reader.ExcelReader().read_df_from_excel(\"../tmp/sample_reaper_cleaned.xlsx\")"
   ]
  },
  {
   "cell_type": "code",
   "execution_count": 36,
   "id": "8757a142",
   "metadata": {},
   "outputs": [
    {
     "data": {
      "text/plain": [
       "Index(['abstract', 'affiliation', 'authors', 'journal', 'keywords',\n",
       "       'publisher', 'title', 'url', 'year', 'raw_affiliation', 'raw_authors',\n",
       "       'identificators'],\n",
       "      dtype='object')"
      ]
     },
     "execution_count": 36,
     "metadata": {},
     "output_type": "execute_result"
    }
   ],
   "source": [
    "df.columns"
   ]
  },
  {
   "cell_type": "code",
   "execution_count": 25,
   "id": "08e213d6",
   "metadata": {},
   "outputs": [],
   "source": [
    "from text_processing import search_engine_insensitive_to_spelling\n",
    "search_engine_insensitive_to_spelling = reload(search_engine_insensitive_to_spelling)\n",
    "\n",
    "folder_with_index = \"../model/index_sample_reaper\"\n",
    "search_engine_inverted_index = search_engine_insensitive_to_spelling.SearchEngineInsensitiveToSpelling(\n",
    "    load_abbreviations = True)\n",
    "if os.path.exists(folder_with_index):\n",
    "    search_engine_inverted_index.load_model(folder_with_index)\n",
    "else:\n",
    "    search_engine_inverted_index.create_inverted_index(df)\n",
    "    search_engine_inverted_index.save_model(folder_with_index)"
   ]
  },
  {
   "cell_type": "markdown",
   "id": "d3b4cce8",
   "metadata": {},
   "source": [
    "## Data extraction\n",
    "Columns in which PICOS can be found\n",
    "Population - population tags, gender_age_population_tags\n",
    "Intervention - interventions_found(using our taxonomy), extracted_interventions(using NER model for intervention extraction + classification, done for previous work for USAID)\n",
    "Countries - countries_mentioned, geo_regions, world_bankdivision_regions, provinces, districts\n",
    "Outcomes - outcomes_found\n",
    "Study design type - study_type"
   ]
  },
  {
   "cell_type": "code",
   "execution_count": 37,
   "id": "67f1b5c8",
   "metadata": {},
   "outputs": [
    {
     "name": "stdout",
     "output_type": "stream",
     "text": [
      "Started processing  {'column_filler_class': 'KeywordNormalizer'}\n",
      "Processed for 0.04533863067626953s\n",
      "Started processing  {'column_filler_class': 'JournalNormalizer'}\n",
      "Processed for 0.0036058425903320312s\n",
      "Started processing  {'column_filler_class': 'AuthorAndAuthorAffiliationExtractor', 'author_mapping': {'raw_authors': 'authors'}, 'affiliations_mapping': {'raw_affiliation': 'affiliation'}}\n",
      "Read file ../data/provinces.xlsx: 1.53s\n",
      "Processed file ../data/provinces.xlsx: 1.49s\n",
      "Read file ../data/districts.xlsx: 1.53s\n",
      "Processed file ../data/districts.xlsx: 1.51s\n",
      "Read file ../data/map_affiliations.xlsx: 0.01s\n",
      "Processed file ../data/map_affiliations.xlsx: 0.00s\n",
      "Read file ../data/map_clipped_words.xlsx: 0.01s\n",
      "Processed file ../data/map_clipped_words.xlsx: 0.00s\n",
      "Length of map of affiliations: 114\n",
      "Count of unique normalized affiliations: 109\n",
      "started affiliation processing\n",
      "Process 0 articles\n",
      "Process 284 articles\n",
      "done in 3.240s.\n",
      "Processed 0 articles\n",
      "Processed 284 articles\n",
      "Processed for 15.609480142593384s\n",
      "Started processing  {'column_filler_class': 'GeoNameFinder'}\n",
      "Read file ../data/provinces.xlsx: 2.17s\n",
      "Processed file ../data/provinces.xlsx: 1.43s\n",
      "Read file ../data/districts.xlsx: 1.54s\n",
      "Processed file ../data/districts.xlsx: 1.52s\n",
      "Processed 0 items\n",
      "Processed 284 items\n",
      "Processed for 40.76433205604553s\n",
      "Started processing  {'column_filler_class': 'CropsSearch', 'file_dictionary': '../data/map_plant_products.xlsx', 'column_name': 'plant_products_search'}\n",
      "Read file ../data/map_plant_products.xlsx: 0.03s\n",
      "Processed file ../data/map_plant_products.xlsx: 0.02s\n",
      "Found crops: plant_products_search\n",
      "Number of articles that have plant_products_search : 170\n",
      "Processed for 0.6357228755950928s\n",
      "Started processing  {'column_filler_class': 'CropsSearch', 'file_dictionary': '../data/map_animal_products.xlsx', 'column_name': 'animal_products_search'}\n",
      "Read file ../data/map_animal_products.xlsx: 0.01s\n",
      "Processed file ../data/map_animal_products.xlsx: 0.00s\n",
      "Found crops: animal_products_search\n",
      "Number of articles that have animal_products_search : 52\n",
      "Processed for 0.049040794372558594s\n",
      "Started processing  {'column_filler_class': 'CropsSearch', 'column_name': 'animals_found', 'keep_hierarchy': False, 'file_dictionary': '../data/map_animals.xlsx'}\n",
      "Read file ../data/map_animals.xlsx: 0.05s\n",
      "Processed file ../data/map_animals.xlsx: 0.05s\n",
      "Found crops: animals_found\n",
      "Number of articles that have animals_found : 65\n",
      "Processed for 0.8281171321868896s\n",
      "Started processing  {'column_filler_class': 'PopulationTagsFinder'}\n",
      "Processed for 0.07267498970031738s\n",
      "Started processing  {'column_filler_class': 'ColumnFiller', 'column_name': 'gender_age_population_tags', 'keep_hierarchy': False, 'column_dictionary': '../data/population_tags.xlsx'}\n",
      "High level label: women\n",
      "High level label: men\n",
      "High level label: youth\n",
      "High level label: adults\n",
      "High level label: senior citizens\n",
      "Labelled articles with outcomes: 34\n",
      "Processed for 0.030385971069335938s\n",
      "Started processing  {'column_filler_class': 'InterventionsSearchForLabeling', 'file': '../tmp/interventions.xlsx'}\n",
      "Read file ../tmp/interventions.xlsx: 0.69s\n",
      "Processed file ../tmp/interventions.xlsx: 0.78s\n",
      "Processed for 42.79127383232117s\n",
      "Started processing  {'column_filler_class': 'MeasurementsLabeler', 'model_folder': '../model/bert_measurements_model', 'folder_with_measurements': '../tmp/sample_reaper_measurements', 'mappings_for_measurements': {'interventions_found_raw': 'measurements_for_interventions', 'plant_products_search_details': 'measurements_for_crops', 'animal_products_search_details': 'measurements_for_crops', 'animals_found_details': 'measurements_for_animals'}}\n",
      "Started BERT\n",
      "Started tokenizer loading\n",
      "Used gpu 0\n",
      "INFO:tensorflow:Saver not created because there are no variables in the graph to restore\n"
     ]
    },
    {
     "name": "stderr",
     "output_type": "stream",
     "text": [
      "INFO:tensorflow:Saver not created because there are no variables in the graph to restore\n"
     ]
    },
    {
     "name": "stdout",
     "output_type": "stream",
     "text": [
      "Model partly loaded\n",
      "Tokenizrer loaded\n",
      "0\n",
      "INFO:tensorflow:Using config: {'_model_dir': '../model/bert_measurements_model', '_tf_random_seed': None, '_save_summary_steps': 100, '_save_checkpoints_steps': 500, '_save_checkpoints_secs': None, '_session_config': allow_soft_placement: true\n",
      "graph_options {\n",
      "  rewrite_options {\n",
      "    meta_optimizer_iterations: ONE\n",
      "  }\n",
      "}\n",
      ", '_keep_checkpoint_max': 5, '_keep_checkpoint_every_n_hours': 10000, '_log_step_count_steps': 100, '_train_distribute': None, '_device_fn': None, '_protocol': None, '_eval_distribute': None, '_experimental_distribute': None, '_service': None, '_cluster_spec': <tensorflow.python.training.server_lib.ClusterSpec object at 0x7f8fbd7c91d0>, '_task_type': 'worker', '_task_id': 0, '_global_id_in_cluster': 0, '_master': '', '_evaluation_master': '', '_is_chief': True, '_num_ps_replicas': 0, '_num_worker_replicas': 1}\n"
     ]
    },
    {
     "name": "stderr",
     "output_type": "stream",
     "text": [
      "INFO:tensorflow:Using config: {'_model_dir': '../model/bert_measurements_model', '_tf_random_seed': None, '_save_summary_steps': 100, '_save_checkpoints_steps': 500, '_save_checkpoints_secs': None, '_session_config': allow_soft_placement: true\n",
      "graph_options {\n",
      "  rewrite_options {\n",
      "    meta_optimizer_iterations: ONE\n",
      "  }\n",
      "}\n",
      ", '_keep_checkpoint_max': 5, '_keep_checkpoint_every_n_hours': 10000, '_log_step_count_steps': 100, '_train_distribute': None, '_device_fn': None, '_protocol': None, '_eval_distribute': None, '_experimental_distribute': None, '_service': None, '_cluster_spec': <tensorflow.python.training.server_lib.ClusterSpec object at 0x7f8fbd7c91d0>, '_task_type': 'worker', '_task_id': 0, '_global_id_in_cluster': 0, '_master': '', '_evaluation_master': '', '_is_chief': True, '_num_ps_replicas': 0, '_num_worker_replicas': 1}\n"
     ]
    },
    {
     "name": "stdout",
     "output_type": "stream",
     "text": [
      "Config is done\n",
      "interventions_found_raw\n",
      "plant_products_search_details\n",
      "animal_products_search_details\n",
      "animals_found_details\n",
      "Processed for 2.959887742996216s\n",
      "Started processing  {'column_filler_class': 'ProgramExtractor', 'column_name': 'programs_found', 'model_type': 'model', 'model_folder': '../model/programs_extraction_model_2619', 'columns_to_process': ['title', 'abstract']}\n",
      "Processed for 11.878375053405762s\n",
      "Started processing  {'column_filler_class': 'StudyTypeLabeller', 'folder': '../model/study_type_multi', 'meta_folder': '../model/study_type_multi_meta_agg', 'scibert_model_folder': '../model/scibert_scivocab_uncased'}\n",
      "Started tokenizer loading\n",
      "Used gpu 0\n",
      "Tokenizrer loaded\n",
      "0\n",
      "../model/scibert_scivocab_uncased\n",
      "INFO:tensorflow:Using config: {'_model_dir': '../model/study_type_multi', '_tf_random_seed': None, '_save_summary_steps': 100, '_save_checkpoints_steps': 500, '_save_checkpoints_secs': None, '_session_config': allow_soft_placement: true\n",
      "graph_options {\n",
      "  rewrite_options {\n",
      "    meta_optimizer_iterations: ONE\n",
      "  }\n",
      "}\n",
      ", '_keep_checkpoint_max': 5, '_keep_checkpoint_every_n_hours': 10000, '_log_step_count_steps': 100, '_train_distribute': None, '_device_fn': None, '_protocol': None, '_eval_distribute': None, '_experimental_distribute': None, '_service': None, '_cluster_spec': <tensorflow.python.training.server_lib.ClusterSpec object at 0x7f8fbd8296a0>, '_task_type': 'worker', '_task_id': 0, '_global_id_in_cluster': 0, '_master': '', '_evaluation_master': '', '_is_chief': True, '_num_ps_replicas': 0, '_num_worker_replicas': 1}\n"
     ]
    },
    {
     "name": "stderr",
     "output_type": "stream",
     "text": [
      "INFO:tensorflow:Using config: {'_model_dir': '../model/study_type_multi', '_tf_random_seed': None, '_save_summary_steps': 100, '_save_checkpoints_steps': 500, '_save_checkpoints_secs': None, '_session_config': allow_soft_placement: true\n",
      "graph_options {\n",
      "  rewrite_options {\n",
      "    meta_optimizer_iterations: ONE\n",
      "  }\n",
      "}\n",
      ", '_keep_checkpoint_max': 5, '_keep_checkpoint_every_n_hours': 10000, '_log_step_count_steps': 100, '_train_distribute': None, '_device_fn': None, '_protocol': None, '_eval_distribute': None, '_experimental_distribute': None, '_service': None, '_cluster_spec': <tensorflow.python.training.server_lib.ClusterSpec object at 0x7f8fbd8296a0>, '_task_type': 'worker', '_task_id': 0, '_global_id_in_cluster': 0, '_master': '', '_evaluation_master': '', '_is_chief': True, '_num_ps_replicas': 0, '_num_worker_replicas': 1}\n"
     ]
    },
    {
     "name": "stdout",
     "output_type": "stream",
     "text": [
      "Config is done\n",
      "INFO:tensorflow:Writing example 0 of 285\n"
     ]
    },
    {
     "name": "stderr",
     "output_type": "stream",
     "text": [
      "INFO:tensorflow:Writing example 0 of 285\n"
     ]
    },
    {
     "name": "stdout",
     "output_type": "stream",
     "text": [
      "INFO:tensorflow:*** Example ***\n"
     ]
    },
    {
     "name": "stderr",
     "output_type": "stream",
     "text": [
      "INFO:tensorflow:*** Example ***\n"
     ]
    },
    {
     "name": "stdout",
     "output_type": "stream",
     "text": [
      "INFO:tensorflow:guid: \n"
     ]
    },
    {
     "name": "stderr",
     "output_type": "stream",
     "text": [
      "INFO:tensorflow:guid: \n"
     ]
    },
    {
     "name": "stdout",
     "output_type": "stream",
     "text": [
      "INFO:tensorflow:tokens: [CLS] 2018 - using insurance to protect farmers against drought in sen ##eg ##al [SEP] the international fund for agricultural development ( if ##ad ) and the world food programme ( wf ##p ) have joined forces to help make weather index insurance available to farmers in sen ##eg ##al . read more about how index insurance is an important tool that helps poor small ##holder farmers cope with increasing climate risks and provides support when crop losses occur as a result of drought [SEP]\n"
     ]
    },
    {
     "name": "stderr",
     "output_type": "stream",
     "text": [
      "INFO:tensorflow:tokens: [CLS] 2018 - using insurance to protect farmers against drought in sen ##eg ##al [SEP] the international fund for agricultural development ( if ##ad ) and the world food programme ( wf ##p ) have joined forces to help make weather index insurance available to farmers in sen ##eg ##al . read more about how index insurance is an important tool that helps poor small ##holder farmers cope with increasing climate risks and provides support when crop losses occur as a result of drought [SEP]\n"
     ]
    },
    {
     "name": "stdout",
     "output_type": "stream",
     "text": [
      "INFO:tensorflow:input_ids: 102 7491 579 487 8564 147 8986 12288 2089 13509 121 1311 4980 120 103 111 2565 2244 168 7675 1120 145 543 213 546 137 111 2399 2599 8547 145 18190 30121 546 360 18149 5862 147 2279 2113 10844 2018 8564 1427 147 12288 121 1311 4980 120 205 1757 475 1011 539 2018 8564 165 130 1060 3130 198 8978 3228 952 13643 12288 14649 190 1953 6002 6733 137 2315 1385 603 8501 6914 1259 188 106 1186 131 13509 103 0 0 0 0 0 0 0 0 0 0 0 0 0 0 0 0 0 0 0 0 0 0 0 0 0 0 0 0 0 0 0 0 0 0 0 0 0 0 0 0 0 0 0 0 0 0 0 0 0 0 0 0 0 0 0 0 0 0 0 0 0 0 0 0 0 0 0 0 0 0 0 0 0 0 0 0 0 0 0 0 0 0 0 0 0 0 0 0 0 0 0 0 0 0 0 0 0 0 0 0 0 0 0 0 0 0 0 0 0 0 0 0 0 0 0 0 0 0 0 0 0 0 0 0 0 0 0 0 0 0 0 0 0 0 0 0 0 0 0 0 0 0 0 0 0 0 0 0 0 0 0 0 0 0 0 0 0 0 0 0 0 0 0 0 0 0 0 0 0 0 0\n"
     ]
    },
    {
     "name": "stderr",
     "output_type": "stream",
     "text": [
      "INFO:tensorflow:input_ids: 102 7491 579 487 8564 147 8986 12288 2089 13509 121 1311 4980 120 103 111 2565 2244 168 7675 1120 145 543 213 546 137 111 2399 2599 8547 145 18190 30121 546 360 18149 5862 147 2279 2113 10844 2018 8564 1427 147 12288 121 1311 4980 120 205 1757 475 1011 539 2018 8564 165 130 1060 3130 198 8978 3228 952 13643 12288 14649 190 1953 6002 6733 137 2315 1385 603 8501 6914 1259 188 106 1186 131 13509 103 0 0 0 0 0 0 0 0 0 0 0 0 0 0 0 0 0 0 0 0 0 0 0 0 0 0 0 0 0 0 0 0 0 0 0 0 0 0 0 0 0 0 0 0 0 0 0 0 0 0 0 0 0 0 0 0 0 0 0 0 0 0 0 0 0 0 0 0 0 0 0 0 0 0 0 0 0 0 0 0 0 0 0 0 0 0 0 0 0 0 0 0 0 0 0 0 0 0 0 0 0 0 0 0 0 0 0 0 0 0 0 0 0 0 0 0 0 0 0 0 0 0 0 0 0 0 0 0 0 0 0 0 0 0 0 0 0 0 0 0 0 0 0 0 0 0 0 0 0 0 0 0 0 0 0 0 0 0 0 0 0 0 0 0 0 0 0 0 0 0 0\n"
     ]
    },
    {
     "name": "stdout",
     "output_type": "stream",
     "text": [
      "INFO:tensorflow:input_mask: 1 1 1 1 1 1 1 1 1 1 1 1 1 1 1 1 1 1 1 1 1 1 1 1 1 1 1 1 1 1 1 1 1 1 1 1 1 1 1 1 1 1 1 1 1 1 1 1 1 1 1 1 1 1 1 1 1 1 1 1 1 1 1 1 1 1 1 1 1 1 1 1 1 1 1 1 1 1 1 1 1 1 1 1 1 0 0 0 0 0 0 0 0 0 0 0 0 0 0 0 0 0 0 0 0 0 0 0 0 0 0 0 0 0 0 0 0 0 0 0 0 0 0 0 0 0 0 0 0 0 0 0 0 0 0 0 0 0 0 0 0 0 0 0 0 0 0 0 0 0 0 0 0 0 0 0 0 0 0 0 0 0 0 0 0 0 0 0 0 0 0 0 0 0 0 0 0 0 0 0 0 0 0 0 0 0 0 0 0 0 0 0 0 0 0 0 0 0 0 0 0 0 0 0 0 0 0 0 0 0 0 0 0 0 0 0 0 0 0 0 0 0 0 0 0 0 0 0 0 0 0 0 0 0 0 0 0 0 0 0 0 0 0 0 0 0 0 0 0 0 0 0 0 0 0 0\n"
     ]
    },
    {
     "name": "stderr",
     "output_type": "stream",
     "text": [
      "INFO:tensorflow:input_mask: 1 1 1 1 1 1 1 1 1 1 1 1 1 1 1 1 1 1 1 1 1 1 1 1 1 1 1 1 1 1 1 1 1 1 1 1 1 1 1 1 1 1 1 1 1 1 1 1 1 1 1 1 1 1 1 1 1 1 1 1 1 1 1 1 1 1 1 1 1 1 1 1 1 1 1 1 1 1 1 1 1 1 1 1 1 0 0 0 0 0 0 0 0 0 0 0 0 0 0 0 0 0 0 0 0 0 0 0 0 0 0 0 0 0 0 0 0 0 0 0 0 0 0 0 0 0 0 0 0 0 0 0 0 0 0 0 0 0 0 0 0 0 0 0 0 0 0 0 0 0 0 0 0 0 0 0 0 0 0 0 0 0 0 0 0 0 0 0 0 0 0 0 0 0 0 0 0 0 0 0 0 0 0 0 0 0 0 0 0 0 0 0 0 0 0 0 0 0 0 0 0 0 0 0 0 0 0 0 0 0 0 0 0 0 0 0 0 0 0 0 0 0 0 0 0 0 0 0 0 0 0 0 0 0 0 0 0 0 0 0 0 0 0 0 0 0 0 0 0 0 0 0 0 0 0 0\n"
     ]
    },
    {
     "name": "stdout",
     "output_type": "stream",
     "text": [
      "INFO:tensorflow:segment_ids: 0 0 0 0 0 0 0 0 0 0 0 0 0 0 0 1 1 1 1 1 1 1 1 1 1 1 1 1 1 1 1 1 1 1 1 1 1 1 1 1 1 1 1 1 1 1 1 1 1 1 1 1 1 1 1 1 1 1 1 1 1 1 1 1 1 1 1 1 1 1 1 1 1 1 1 1 1 1 1 1 1 1 1 1 1 0 0 0 0 0 0 0 0 0 0 0 0 0 0 0 0 0 0 0 0 0 0 0 0 0 0 0 0 0 0 0 0 0 0 0 0 0 0 0 0 0 0 0 0 0 0 0 0 0 0 0 0 0 0 0 0 0 0 0 0 0 0 0 0 0 0 0 0 0 0 0 0 0 0 0 0 0 0 0 0 0 0 0 0 0 0 0 0 0 0 0 0 0 0 0 0 0 0 0 0 0 0 0 0 0 0 0 0 0 0 0 0 0 0 0 0 0 0 0 0 0 0 0 0 0 0 0 0 0 0 0 0 0 0 0 0 0 0 0 0 0 0 0 0 0 0 0 0 0 0 0 0 0 0 0 0 0 0 0 0 0 0 0 0 0 0 0 0 0 0 0\n"
     ]
    },
    {
     "name": "stderr",
     "output_type": "stream",
     "text": [
      "INFO:tensorflow:segment_ids: 0 0 0 0 0 0 0 0 0 0 0 0 0 0 0 1 1 1 1 1 1 1 1 1 1 1 1 1 1 1 1 1 1 1 1 1 1 1 1 1 1 1 1 1 1 1 1 1 1 1 1 1 1 1 1 1 1 1 1 1 1 1 1 1 1 1 1 1 1 1 1 1 1 1 1 1 1 1 1 1 1 1 1 1 1 0 0 0 0 0 0 0 0 0 0 0 0 0 0 0 0 0 0 0 0 0 0 0 0 0 0 0 0 0 0 0 0 0 0 0 0 0 0 0 0 0 0 0 0 0 0 0 0 0 0 0 0 0 0 0 0 0 0 0 0 0 0 0 0 0 0 0 0 0 0 0 0 0 0 0 0 0 0 0 0 0 0 0 0 0 0 0 0 0 0 0 0 0 0 0 0 0 0 0 0 0 0 0 0 0 0 0 0 0 0 0 0 0 0 0 0 0 0 0 0 0 0 0 0 0 0 0 0 0 0 0 0 0 0 0 0 0 0 0 0 0 0 0 0 0 0 0 0 0 0 0 0 0 0 0 0 0 0 0 0 0 0 0 0 0 0 0 0 0 0 0\n"
     ]
    },
    {
     "name": "stdout",
     "output_type": "stream",
     "text": [
      "INFO:tensorflow:label: [0, 0, 0, 0, 0] (id = [0, 0, 0, 0, 0])\n"
     ]
    },
    {
     "name": "stderr",
     "output_type": "stream",
     "text": [
      "INFO:tensorflow:label: [0, 0, 0, 0, 0] (id = [0, 0, 0, 0, 0])\n"
     ]
    },
    {
     "name": "stdout",
     "output_type": "stream",
     "text": [
      "INFO:tensorflow:*** Example ***\n"
     ]
    },
    {
     "name": "stderr",
     "output_type": "stream",
     "text": [
      "INFO:tensorflow:*** Example ***\n"
     ]
    },
    {
     "name": "stdout",
     "output_type": "stream",
     "text": [
      "INFO:tensorflow:guid: \n"
     ]
    },
    {
     "name": "stderr",
     "output_type": "stream",
     "text": [
      "INFO:tensorflow:guid: \n"
     ]
    },
    {
     "name": "stdout",
     "output_type": "stream",
     "text": [
      "INFO:tensorflow:tokens: [CLS] the practices of contract farming among fresh fruit and vegetable suppliers in malaysia [SEP] problem statement : contract farming ( cf ) concept is an agreement between buyers and producers , where by producers agree to produce and supply agriculture products according to the agreed quantity , quality , variety , grade , type of packaging and time of delivery . the two parties will mutually agree on the pricing of product , either on a contract price or a market price . therefore , cf is seen as a tool for foster ##ing small ##holder participation in new high - value product markets and improving quality standards , thus increasing and stabilizing small ##holder incomes . in malaysia , cf has been identified as a system capable of stimulating agricultural production and was given a central role in the latest strategy by government to improve the vegetable and fruit production . approach : the overall objective of this study was to examine cf as the new marketing practice among selected vegetable and fruit suppliers . the specific objectives of the study were : ( 1 ) to examine the respondents perception towards cf ; ( 2 ) to identify respondents practices toward the cf and ( 3 ) to suggest a policy to ensure the sustainability of cf . results : out of 208 of the total respondents selected in the study , 41 suppliers were involved in cf . the data were analyzed using spss to describe the respondents profile and current [SEP]\n"
     ]
    },
    {
     "name": "stderr",
     "output_type": "stream",
     "text": [
      "INFO:tensorflow:tokens: [CLS] the practices of contract farming among fresh fruit and vegetable suppliers in malaysia [SEP] problem statement : contract farming ( cf ) concept is an agreement between buyers and producers , where by producers agree to produce and supply agriculture products according to the agreed quantity , quality , variety , grade , type of packaging and time of delivery . the two parties will mutually agree on the pricing of product , either on a contract price or a market price . therefore , cf is seen as a tool for foster ##ing small ##holder participation in new high - value product markets and improving quality standards , thus increasing and stabilizing small ##holder incomes . in malaysia , cf has been identified as a system capable of stimulating agricultural production and was given a central role in the latest strategy by government to improve the vegetable and fruit production . approach : the overall objective of this study was to examine cf as the new marketing practice among selected vegetable and fruit suppliers . the specific objectives of the study were : ( 1 ) to examine the respondents perception towards cf ; ( 2 ) to identify respondents practices toward the cf and ( 3 ) to suggest a policy to ensure the sustainability of cf . results : out of 208 of the total respondents selected in the study , 41 suppliers were involved in cf . the data were analyzed using spss to describe the respondents profile and current [SEP]\n"
     ]
    },
    {
     "name": "stdout",
     "output_type": "stream",
     "text": [
      "INFO:tensorflow:input_ids: 102 111 5423 131 6610 19323 1247 5893 8235 137 20288 17199 121 17761 103 1167 6098 862 6610 19323 145 4645 546 2614 165 130 4111 467 22810 137 15793 422 582 214 15793 8298 147 3299 137 4494 9879 2800 1425 147 111 11759 6725 422 1671 422 3835 422 5415 422 1211 131 17204 137 532 131 4277 205 111 502 10393 650 14853 8298 191 111 12775 131 2378 422 1676 191 106 6610 4048 234 106 2753 4048 205 1104 422 4645 165 2187 188 106 3130 168 13916 140 952 13643 6163 121 758 597 579 973 2378 7838 137 6017 1671 5103 422 959 1953 137 18419 952 13643 25596 205 121 17761 422 4645 434 528 1887 188 106 429 5917 131 14559 7675 1865 137 241 906 106 2435 1447 121 111 13905 2691 214 4270 147 1658 111 20288 137 8235 1865 205 1139 862 111 2103 3201 131 238 527 241 147 4423 4645 188 111 758 10644 2794 1247 2350 20288 137 8235 17199 205 111 1154 6454 131 111 527 267 862 145 158 546 147 4423 111 6634 6028 3834 4645 1814 145 170 546 147 2743 6634 5423 2536 111 4645 137 145 239 546 147 1739 106 2951 147 4207 111 13591 131 4645 205 545 862 556 131 20645 131 111 1114 6634 2350 121 111 527 422 5220 17199 267 2296 121 4645 205 111 453 267 2549 487 13303 147 3401 111 6634 3822 137 1073 103\n"
     ]
    },
    {
     "name": "stderr",
     "output_type": "stream",
     "text": [
      "INFO:tensorflow:input_ids: 102 111 5423 131 6610 19323 1247 5893 8235 137 20288 17199 121 17761 103 1167 6098 862 6610 19323 145 4645 546 2614 165 130 4111 467 22810 137 15793 422 582 214 15793 8298 147 3299 137 4494 9879 2800 1425 147 111 11759 6725 422 1671 422 3835 422 5415 422 1211 131 17204 137 532 131 4277 205 111 502 10393 650 14853 8298 191 111 12775 131 2378 422 1676 191 106 6610 4048 234 106 2753 4048 205 1104 422 4645 165 2187 188 106 3130 168 13916 140 952 13643 6163 121 758 597 579 973 2378 7838 137 6017 1671 5103 422 959 1953 137 18419 952 13643 25596 205 121 17761 422 4645 434 528 1887 188 106 429 5917 131 14559 7675 1865 137 241 906 106 2435 1447 121 111 13905 2691 214 4270 147 1658 111 20288 137 8235 1865 205 1139 862 111 2103 3201 131 238 527 241 147 4423 4645 188 111 758 10644 2794 1247 2350 20288 137 8235 17199 205 111 1154 6454 131 111 527 267 862 145 158 546 147 4423 111 6634 6028 3834 4645 1814 145 170 546 147 2743 6634 5423 2536 111 4645 137 145 239 546 147 1739 106 2951 147 4207 111 13591 131 4645 205 545 862 556 131 20645 131 111 1114 6634 2350 121 111 527 422 5220 17199 267 2296 121 4645 205 111 453 267 2549 487 13303 147 3401 111 6634 3822 137 1073 103\n"
     ]
    },
    {
     "name": "stdout",
     "output_type": "stream",
     "text": [
      "INFO:tensorflow:input_mask: 1 1 1 1 1 1 1 1 1 1 1 1 1 1 1 1 1 1 1 1 1 1 1 1 1 1 1 1 1 1 1 1 1 1 1 1 1 1 1 1 1 1 1 1 1 1 1 1 1 1 1 1 1 1 1 1 1 1 1 1 1 1 1 1 1 1 1 1 1 1 1 1 1 1 1 1 1 1 1 1 1 1 1 1 1 1 1 1 1 1 1 1 1 1 1 1 1 1 1 1 1 1 1 1 1 1 1 1 1 1 1 1 1 1 1 1 1 1 1 1 1 1 1 1 1 1 1 1 1 1 1 1 1 1 1 1 1 1 1 1 1 1 1 1 1 1 1 1 1 1 1 1 1 1 1 1 1 1 1 1 1 1 1 1 1 1 1 1 1 1 1 1 1 1 1 1 1 1 1 1 1 1 1 1 1 1 1 1 1 1 1 1 1 1 1 1 1 1 1 1 1 1 1 1 1 1 1 1 1 1 1 1 1 1 1 1 1 1 1 1 1 1 1 1 1 1 1 1 1 1 1 1 1 1 1 1 1 1 1 1 1 1 1 1 1 1 1 1 1 1 1 1 1 1 1 1\n"
     ]
    },
    {
     "name": "stderr",
     "output_type": "stream",
     "text": [
      "INFO:tensorflow:input_mask: 1 1 1 1 1 1 1 1 1 1 1 1 1 1 1 1 1 1 1 1 1 1 1 1 1 1 1 1 1 1 1 1 1 1 1 1 1 1 1 1 1 1 1 1 1 1 1 1 1 1 1 1 1 1 1 1 1 1 1 1 1 1 1 1 1 1 1 1 1 1 1 1 1 1 1 1 1 1 1 1 1 1 1 1 1 1 1 1 1 1 1 1 1 1 1 1 1 1 1 1 1 1 1 1 1 1 1 1 1 1 1 1 1 1 1 1 1 1 1 1 1 1 1 1 1 1 1 1 1 1 1 1 1 1 1 1 1 1 1 1 1 1 1 1 1 1 1 1 1 1 1 1 1 1 1 1 1 1 1 1 1 1 1 1 1 1 1 1 1 1 1 1 1 1 1 1 1 1 1 1 1 1 1 1 1 1 1 1 1 1 1 1 1 1 1 1 1 1 1 1 1 1 1 1 1 1 1 1 1 1 1 1 1 1 1 1 1 1 1 1 1 1 1 1 1 1 1 1 1 1 1 1 1 1 1 1 1 1 1 1 1 1 1 1 1 1 1 1 1 1 1 1 1 1 1 1\n"
     ]
    },
    {
     "name": "stdout",
     "output_type": "stream",
     "text": [
      "INFO:tensorflow:segment_ids: 0 0 0 0 0 0 0 0 0 0 0 0 0 0 0 1 1 1 1 1 1 1 1 1 1 1 1 1 1 1 1 1 1 1 1 1 1 1 1 1 1 1 1 1 1 1 1 1 1 1 1 1 1 1 1 1 1 1 1 1 1 1 1 1 1 1 1 1 1 1 1 1 1 1 1 1 1 1 1 1 1 1 1 1 1 1 1 1 1 1 1 1 1 1 1 1 1 1 1 1 1 1 1 1 1 1 1 1 1 1 1 1 1 1 1 1 1 1 1 1 1 1 1 1 1 1 1 1 1 1 1 1 1 1 1 1 1 1 1 1 1 1 1 1 1 1 1 1 1 1 1 1 1 1 1 1 1 1 1 1 1 1 1 1 1 1 1 1 1 1 1 1 1 1 1 1 1 1 1 1 1 1 1 1 1 1 1 1 1 1 1 1 1 1 1 1 1 1 1 1 1 1 1 1 1 1 1 1 1 1 1 1 1 1 1 1 1 1 1 1 1 1 1 1 1 1 1 1 1 1 1 1 1 1 1 1 1 1 1 1 1 1 1 1 1 1 1 1 1 1 1 1 1 1 1 1\n"
     ]
    },
    {
     "name": "stderr",
     "output_type": "stream",
     "text": [
      "INFO:tensorflow:segment_ids: 0 0 0 0 0 0 0 0 0 0 0 0 0 0 0 1 1 1 1 1 1 1 1 1 1 1 1 1 1 1 1 1 1 1 1 1 1 1 1 1 1 1 1 1 1 1 1 1 1 1 1 1 1 1 1 1 1 1 1 1 1 1 1 1 1 1 1 1 1 1 1 1 1 1 1 1 1 1 1 1 1 1 1 1 1 1 1 1 1 1 1 1 1 1 1 1 1 1 1 1 1 1 1 1 1 1 1 1 1 1 1 1 1 1 1 1 1 1 1 1 1 1 1 1 1 1 1 1 1 1 1 1 1 1 1 1 1 1 1 1 1 1 1 1 1 1 1 1 1 1 1 1 1 1 1 1 1 1 1 1 1 1 1 1 1 1 1 1 1 1 1 1 1 1 1 1 1 1 1 1 1 1 1 1 1 1 1 1 1 1 1 1 1 1 1 1 1 1 1 1 1 1 1 1 1 1 1 1 1 1 1 1 1 1 1 1 1 1 1 1 1 1 1 1 1 1 1 1 1 1 1 1 1 1 1 1 1 1 1 1 1 1 1 1 1 1 1 1 1 1 1 1 1 1 1 1\n"
     ]
    },
    {
     "name": "stdout",
     "output_type": "stream",
     "text": [
      "INFO:tensorflow:label: [0, 0, 0, 0, 0] (id = [0, 0, 0, 0, 0])\n"
     ]
    },
    {
     "name": "stderr",
     "output_type": "stream",
     "text": [
      "INFO:tensorflow:label: [0, 0, 0, 0, 0] (id = [0, 0, 0, 0, 0])\n"
     ]
    },
    {
     "name": "stdout",
     "output_type": "stream",
     "text": [
      "INFO:tensorflow:*** Example ***\n"
     ]
    },
    {
     "name": "stderr",
     "output_type": "stream",
     "text": [
      "INFO:tensorflow:*** Example ***\n"
     ]
    },
    {
     "name": "stdout",
     "output_type": "stream",
     "text": [
      "INFO:tensorflow:guid: \n"
     ]
    },
    {
     "name": "stderr",
     "output_type": "stream",
     "text": [
      "INFO:tensorflow:guid: \n"
     ]
    },
    {
     "name": "stdout",
     "output_type": "stream",
     "text": [
      "INFO:tensorflow:tokens: [CLS] competing in the open market [SEP] a farm business advis ##or for the mal ##awi ministry of agriculture explains how the opening of borders to zi ##mb ##ab ##we ##an egg producers has affected mal ##awi ##an farmers . he encourages farmers to form groups in order to increase their competitiveness , and to reduce their reliance on imported inputs , such as chicken feeds [SEP]\n"
     ]
    },
    {
     "name": "stderr",
     "output_type": "stream",
     "text": [
      "INFO:tensorflow:tokens: [CLS] competing in the open market [SEP] a farm business advis ##or for the mal ##awi ministry of agriculture explains how the opening of borders to zi ##mb ##ab ##we ##an egg producers has affected mal ##awi ##an farmers . he encourages farmers to form groups in order to increase their competitiveness , and to reduce their reliance on imported inputs , such as chicken feeds [SEP]\n"
     ]
    },
    {
     "name": "stdout",
     "output_type": "stream",
     "text": [
      "INFO:tensorflow:input_ids: 102 7269 121 111 1937 2753 103 106 5947 3948 14863 122 168 111 1774 18265 9795 131 9879 11175 539 111 9562 131 19487 147 10053 9111 201 1587 133 6913 15793 434 3407 1774 18265 133 12288 205 299 27162 12288 147 592 1302 121 993 147 1242 547 23035 422 137 147 2637 547 22321 191 19987 5671 422 555 188 14935 24258 103 0 0 0 0 0 0 0 0 0 0 0 0 0 0 0 0 0 0 0 0 0 0 0 0 0 0 0 0 0 0 0 0 0 0 0 0 0 0 0 0 0 0 0 0 0 0 0 0 0 0 0 0 0 0 0 0 0 0 0 0 0 0 0 0 0 0 0 0 0 0 0 0 0 0 0 0 0 0 0 0 0 0 0 0 0 0 0 0 0 0 0 0 0 0 0 0 0 0 0 0 0 0 0 0 0 0 0 0 0 0 0 0 0 0 0 0 0 0 0 0 0 0 0 0 0 0 0 0 0 0 0 0 0 0 0 0 0 0 0 0 0 0 0 0 0 0 0 0 0 0 0 0 0 0 0 0 0 0 0 0 0 0 0 0 0 0 0 0 0 0 0 0 0 0 0 0 0 0 0 0 0 0 0 0 0 0 0 0 0\n"
     ]
    },
    {
     "name": "stderr",
     "output_type": "stream",
     "text": [
      "INFO:tensorflow:input_ids: 102 7269 121 111 1937 2753 103 106 5947 3948 14863 122 168 111 1774 18265 9795 131 9879 11175 539 111 9562 131 19487 147 10053 9111 201 1587 133 6913 15793 434 3407 1774 18265 133 12288 205 299 27162 12288 147 592 1302 121 993 147 1242 547 23035 422 137 147 2637 547 22321 191 19987 5671 422 555 188 14935 24258 103 0 0 0 0 0 0 0 0 0 0 0 0 0 0 0 0 0 0 0 0 0 0 0 0 0 0 0 0 0 0 0 0 0 0 0 0 0 0 0 0 0 0 0 0 0 0 0 0 0 0 0 0 0 0 0 0 0 0 0 0 0 0 0 0 0 0 0 0 0 0 0 0 0 0 0 0 0 0 0 0 0 0 0 0 0 0 0 0 0 0 0 0 0 0 0 0 0 0 0 0 0 0 0 0 0 0 0 0 0 0 0 0 0 0 0 0 0 0 0 0 0 0 0 0 0 0 0 0 0 0 0 0 0 0 0 0 0 0 0 0 0 0 0 0 0 0 0 0 0 0 0 0 0 0 0 0 0 0 0 0 0 0 0 0 0 0 0 0 0 0 0 0 0 0 0 0 0 0 0 0 0 0 0 0 0 0 0 0 0\n"
     ]
    },
    {
     "name": "stdout",
     "output_type": "stream",
     "text": [
      "INFO:tensorflow:input_mask: 1 1 1 1 1 1 1 1 1 1 1 1 1 1 1 1 1 1 1 1 1 1 1 1 1 1 1 1 1 1 1 1 1 1 1 1 1 1 1 1 1 1 1 1 1 1 1 1 1 1 1 1 1 1 1 1 1 1 1 1 1 1 1 1 1 1 1 0 0 0 0 0 0 0 0 0 0 0 0 0 0 0 0 0 0 0 0 0 0 0 0 0 0 0 0 0 0 0 0 0 0 0 0 0 0 0 0 0 0 0 0 0 0 0 0 0 0 0 0 0 0 0 0 0 0 0 0 0 0 0 0 0 0 0 0 0 0 0 0 0 0 0 0 0 0 0 0 0 0 0 0 0 0 0 0 0 0 0 0 0 0 0 0 0 0 0 0 0 0 0 0 0 0 0 0 0 0 0 0 0 0 0 0 0 0 0 0 0 0 0 0 0 0 0 0 0 0 0 0 0 0 0 0 0 0 0 0 0 0 0 0 0 0 0 0 0 0 0 0 0 0 0 0 0 0 0 0 0 0 0 0 0 0 0 0 0 0 0 0 0 0 0 0 0 0 0 0 0 0 0 0 0 0 0 0 0\n"
     ]
    },
    {
     "name": "stderr",
     "output_type": "stream",
     "text": [
      "INFO:tensorflow:input_mask: 1 1 1 1 1 1 1 1 1 1 1 1 1 1 1 1 1 1 1 1 1 1 1 1 1 1 1 1 1 1 1 1 1 1 1 1 1 1 1 1 1 1 1 1 1 1 1 1 1 1 1 1 1 1 1 1 1 1 1 1 1 1 1 1 1 1 1 0 0 0 0 0 0 0 0 0 0 0 0 0 0 0 0 0 0 0 0 0 0 0 0 0 0 0 0 0 0 0 0 0 0 0 0 0 0 0 0 0 0 0 0 0 0 0 0 0 0 0 0 0 0 0 0 0 0 0 0 0 0 0 0 0 0 0 0 0 0 0 0 0 0 0 0 0 0 0 0 0 0 0 0 0 0 0 0 0 0 0 0 0 0 0 0 0 0 0 0 0 0 0 0 0 0 0 0 0 0 0 0 0 0 0 0 0 0 0 0 0 0 0 0 0 0 0 0 0 0 0 0 0 0 0 0 0 0 0 0 0 0 0 0 0 0 0 0 0 0 0 0 0 0 0 0 0 0 0 0 0 0 0 0 0 0 0 0 0 0 0 0 0 0 0 0 0 0 0 0 0 0 0 0 0 0 0 0 0\n"
     ]
    },
    {
     "name": "stdout",
     "output_type": "stream",
     "text": [
      "INFO:tensorflow:segment_ids: 0 0 0 0 0 0 0 1 1 1 1 1 1 1 1 1 1 1 1 1 1 1 1 1 1 1 1 1 1 1 1 1 1 1 1 1 1 1 1 1 1 1 1 1 1 1 1 1 1 1 1 1 1 1 1 1 1 1 1 1 1 1 1 1 1 1 1 0 0 0 0 0 0 0 0 0 0 0 0 0 0 0 0 0 0 0 0 0 0 0 0 0 0 0 0 0 0 0 0 0 0 0 0 0 0 0 0 0 0 0 0 0 0 0 0 0 0 0 0 0 0 0 0 0 0 0 0 0 0 0 0 0 0 0 0 0 0 0 0 0 0 0 0 0 0 0 0 0 0 0 0 0 0 0 0 0 0 0 0 0 0 0 0 0 0 0 0 0 0 0 0 0 0 0 0 0 0 0 0 0 0 0 0 0 0 0 0 0 0 0 0 0 0 0 0 0 0 0 0 0 0 0 0 0 0 0 0 0 0 0 0 0 0 0 0 0 0 0 0 0 0 0 0 0 0 0 0 0 0 0 0 0 0 0 0 0 0 0 0 0 0 0 0 0 0 0 0 0 0 0 0 0 0 0 0 0\n"
     ]
    },
    {
     "name": "stderr",
     "output_type": "stream",
     "text": [
      "INFO:tensorflow:segment_ids: 0 0 0 0 0 0 0 1 1 1 1 1 1 1 1 1 1 1 1 1 1 1 1 1 1 1 1 1 1 1 1 1 1 1 1 1 1 1 1 1 1 1 1 1 1 1 1 1 1 1 1 1 1 1 1 1 1 1 1 1 1 1 1 1 1 1 1 0 0 0 0 0 0 0 0 0 0 0 0 0 0 0 0 0 0 0 0 0 0 0 0 0 0 0 0 0 0 0 0 0 0 0 0 0 0 0 0 0 0 0 0 0 0 0 0 0 0 0 0 0 0 0 0 0 0 0 0 0 0 0 0 0 0 0 0 0 0 0 0 0 0 0 0 0 0 0 0 0 0 0 0 0 0 0 0 0 0 0 0 0 0 0 0 0 0 0 0 0 0 0 0 0 0 0 0 0 0 0 0 0 0 0 0 0 0 0 0 0 0 0 0 0 0 0 0 0 0 0 0 0 0 0 0 0 0 0 0 0 0 0 0 0 0 0 0 0 0 0 0 0 0 0 0 0 0 0 0 0 0 0 0 0 0 0 0 0 0 0 0 0 0 0 0 0 0 0 0 0 0 0 0 0 0 0 0 0\n"
     ]
    },
    {
     "name": "stdout",
     "output_type": "stream",
     "text": [
      "INFO:tensorflow:label: [0, 0, 0, 0, 0] (id = [0, 0, 0, 0, 0])\n"
     ]
    },
    {
     "name": "stderr",
     "output_type": "stream",
     "text": [
      "INFO:tensorflow:label: [0, 0, 0, 0, 0] (id = [0, 0, 0, 0, 0])\n"
     ]
    },
    {
     "name": "stdout",
     "output_type": "stream",
     "text": [
      "INFO:tensorflow:*** Example ***\n"
     ]
    },
    {
     "name": "stderr",
     "output_type": "stream",
     "text": [
      "INFO:tensorflow:*** Example ***\n"
     ]
    },
    {
     "name": "stdout",
     "output_type": "stream",
     "text": [
      "INFO:tensorflow:guid: \n"
     ]
    },
    {
     "name": "stderr",
     "output_type": "stream",
     "text": [
      "INFO:tensorflow:guid: \n"
     ]
    },
    {
     "name": "stdout",
     "output_type": "stream",
     "text": [
      "INFO:tensorflow:tokens: [CLS] factors affecting maize ( ze ##a may ##s l . ) sensitivity to acet ##ochlor [SEP] a number of the commercially available maize cultivars were screened in order to establish their tolerance to acet ##ochlor . these cultivars demonstrated significant differences in their tolerance , with some cultivars being tolerant and others sensitive to the herb ##icide . the cultivar pan ##6 ##q ##52 ##1 ##r was the most tolerant and dk ##c 73 - 76 ##r was the most sensitive , while most other cultivars were intermediate in their sensitivity . this indicates that maize tolerance to acet ##ochlor is genetically controlled . the influence of planting depth on maize tolerance to acet ##ochlor was investigated using these two cultivars . both cultivars were found to be more sensitive as the planting depth increased to 45 mm . however , seedlings of dk ##c 73 - 76 ##r exhibited more phyto ##toxic ##ity than pan ##q ##65 ##21 ##r at all planting depths . the effect of seed size on acet ##ochlor tolerance could not be determined with any clarity . cultivar sensitivity to the herb ##icide as well as seed shape appeared to also play a role . in dk ##c 73 - 76 ##r it appeared as though large flat seeds produced plants more tolerant to acet ##ochlor than smaller flat seeds . the effect of soil type on acet ##ochlor phyto ##toxic ##ity on a tolerant ( pan ##q ##65 ##21 ##r ) and sensitive ( dk ##c 73 - [SEP]\n"
     ]
    },
    {
     "name": "stderr",
     "output_type": "stream",
     "text": [
      "INFO:tensorflow:tokens: [CLS] factors affecting maize ( ze ##a may ##s l . ) sensitivity to acet ##ochlor [SEP] a number of the commercially available maize cultivars were screened in order to establish their tolerance to acet ##ochlor . these cultivars demonstrated significant differences in their tolerance , with some cultivars being tolerant and others sensitive to the herb ##icide . the cultivar pan ##6 ##q ##52 ##1 ##r was the most tolerant and dk ##c 73 - 76 ##r was the most sensitive , while most other cultivars were intermediate in their sensitivity . this indicates that maize tolerance to acet ##ochlor is genetically controlled . the influence of planting depth on maize tolerance to acet ##ochlor was investigated using these two cultivars . both cultivars were found to be more sensitive as the planting depth increased to 45 mm . however , seedlings of dk ##c 73 - 76 ##r exhibited more phyto ##toxic ##ity than pan ##q ##65 ##21 ##r at all planting depths . the effect of seed size on acet ##ochlor tolerance could not be determined with any clarity . cultivar sensitivity to the herb ##icide as well as seed shape appeared to also play a role . in dk ##c 73 - 76 ##r it appeared as though large flat seeds produced plants more tolerant to acet ##ochlor than smaller flat seeds . the effect of soil type on acet ##ochlor phyto ##toxic ##ity on a tolerant ( pan ##q ##65 ##21 ##r ) and sensitive ( dk ##c 73 - [SEP]\n"
     ]
    },
    {
     "name": "stdout",
     "output_type": "stream",
     "text": [
      "INFO:tensorflow:input_ids: 102 1391 7586 13156 145 3889 30110 552 30113 152 205 546 2949 147 4090 26399 103 106 649 131 111 12604 1427 13156 17019 267 12216 121 993 147 3897 547 6303 147 4090 26399 205 407 17019 2275 684 1595 121 547 6303 422 190 693 17019 1558 19195 137 2968 4232 147 111 10703 22408 205 111 26493 3103 30142 30147 8074 30130 30114 241 111 755 19195 137 10600 30116 8095 579 8116 30114 241 111 755 4232 422 969 755 494 17019 267 4959 121 547 2949 205 238 3322 198 13156 6303 147 4090 26399 165 13086 3643 205 111 2496 131 26225 3826 191 13156 6303 147 4090 26399 241 3003 487 407 502 17019 205 655 17019 267 797 147 195 475 4232 188 111 26225 3826 1175 147 3044 1100 205 694 422 13912 131 10600 30116 8095 579 8116 30114 5781 475 14432 28271 208 506 3103 30147 2591 2076 30114 235 355 26225 16177 205 111 907 131 3678 1243 191 4090 26399 6303 968 302 195 1822 190 843 16585 205 26493 2949 147 111 10703 22408 188 804 188 3678 3540 5844 147 469 2250 106 1447 205 121 10600 30116 8095 579 8116 30114 256 5844 188 2461 1135 6455 9182 2772 3528 475 19195 147 4090 26399 506 3039 6455 9182 205 111 907 131 3115 1211 191 4090 26399 14432 28271 208 191 106 19195 145 3103 30147 2591 2076 30114 546 137 4232 145 10600 30116 8095 579 103\n"
     ]
    },
    {
     "name": "stderr",
     "output_type": "stream",
     "text": [
      "INFO:tensorflow:input_ids: 102 1391 7586 13156 145 3889 30110 552 30113 152 205 546 2949 147 4090 26399 103 106 649 131 111 12604 1427 13156 17019 267 12216 121 993 147 3897 547 6303 147 4090 26399 205 407 17019 2275 684 1595 121 547 6303 422 190 693 17019 1558 19195 137 2968 4232 147 111 10703 22408 205 111 26493 3103 30142 30147 8074 30130 30114 241 111 755 19195 137 10600 30116 8095 579 8116 30114 241 111 755 4232 422 969 755 494 17019 267 4959 121 547 2949 205 238 3322 198 13156 6303 147 4090 26399 165 13086 3643 205 111 2496 131 26225 3826 191 13156 6303 147 4090 26399 241 3003 487 407 502 17019 205 655 17019 267 797 147 195 475 4232 188 111 26225 3826 1175 147 3044 1100 205 694 422 13912 131 10600 30116 8095 579 8116 30114 5781 475 14432 28271 208 506 3103 30147 2591 2076 30114 235 355 26225 16177 205 111 907 131 3678 1243 191 4090 26399 6303 968 302 195 1822 190 843 16585 205 26493 2949 147 111 10703 22408 188 804 188 3678 3540 5844 147 469 2250 106 1447 205 121 10600 30116 8095 579 8116 30114 256 5844 188 2461 1135 6455 9182 2772 3528 475 19195 147 4090 26399 506 3039 6455 9182 205 111 907 131 3115 1211 191 4090 26399 14432 28271 208 191 106 19195 145 3103 30147 2591 2076 30114 546 137 4232 145 10600 30116 8095 579 103\n"
     ]
    },
    {
     "name": "stdout",
     "output_type": "stream",
     "text": [
      "INFO:tensorflow:input_mask: 1 1 1 1 1 1 1 1 1 1 1 1 1 1 1 1 1 1 1 1 1 1 1 1 1 1 1 1 1 1 1 1 1 1 1 1 1 1 1 1 1 1 1 1 1 1 1 1 1 1 1 1 1 1 1 1 1 1 1 1 1 1 1 1 1 1 1 1 1 1 1 1 1 1 1 1 1 1 1 1 1 1 1 1 1 1 1 1 1 1 1 1 1 1 1 1 1 1 1 1 1 1 1 1 1 1 1 1 1 1 1 1 1 1 1 1 1 1 1 1 1 1 1 1 1 1 1 1 1 1 1 1 1 1 1 1 1 1 1 1 1 1 1 1 1 1 1 1 1 1 1 1 1 1 1 1 1 1 1 1 1 1 1 1 1 1 1 1 1 1 1 1 1 1 1 1 1 1 1 1 1 1 1 1 1 1 1 1 1 1 1 1 1 1 1 1 1 1 1 1 1 1 1 1 1 1 1 1 1 1 1 1 1 1 1 1 1 1 1 1 1 1 1 1 1 1 1 1 1 1 1 1 1 1 1 1 1 1 1 1 1 1 1 1 1 1 1 1 1 1 1 1 1 1 1 1\n"
     ]
    },
    {
     "name": "stderr",
     "output_type": "stream",
     "text": [
      "INFO:tensorflow:input_mask: 1 1 1 1 1 1 1 1 1 1 1 1 1 1 1 1 1 1 1 1 1 1 1 1 1 1 1 1 1 1 1 1 1 1 1 1 1 1 1 1 1 1 1 1 1 1 1 1 1 1 1 1 1 1 1 1 1 1 1 1 1 1 1 1 1 1 1 1 1 1 1 1 1 1 1 1 1 1 1 1 1 1 1 1 1 1 1 1 1 1 1 1 1 1 1 1 1 1 1 1 1 1 1 1 1 1 1 1 1 1 1 1 1 1 1 1 1 1 1 1 1 1 1 1 1 1 1 1 1 1 1 1 1 1 1 1 1 1 1 1 1 1 1 1 1 1 1 1 1 1 1 1 1 1 1 1 1 1 1 1 1 1 1 1 1 1 1 1 1 1 1 1 1 1 1 1 1 1 1 1 1 1 1 1 1 1 1 1 1 1 1 1 1 1 1 1 1 1 1 1 1 1 1 1 1 1 1 1 1 1 1 1 1 1 1 1 1 1 1 1 1 1 1 1 1 1 1 1 1 1 1 1 1 1 1 1 1 1 1 1 1 1 1 1 1 1 1 1 1 1 1 1 1 1 1 1\n"
     ]
    },
    {
     "name": "stdout",
     "output_type": "stream",
     "text": [
      "INFO:tensorflow:segment_ids: 0 0 0 0 0 0 0 0 0 0 0 0 0 0 0 0 0 1 1 1 1 1 1 1 1 1 1 1 1 1 1 1 1 1 1 1 1 1 1 1 1 1 1 1 1 1 1 1 1 1 1 1 1 1 1 1 1 1 1 1 1 1 1 1 1 1 1 1 1 1 1 1 1 1 1 1 1 1 1 1 1 1 1 1 1 1 1 1 1 1 1 1 1 1 1 1 1 1 1 1 1 1 1 1 1 1 1 1 1 1 1 1 1 1 1 1 1 1 1 1 1 1 1 1 1 1 1 1 1 1 1 1 1 1 1 1 1 1 1 1 1 1 1 1 1 1 1 1 1 1 1 1 1 1 1 1 1 1 1 1 1 1 1 1 1 1 1 1 1 1 1 1 1 1 1 1 1 1 1 1 1 1 1 1 1 1 1 1 1 1 1 1 1 1 1 1 1 1 1 1 1 1 1 1 1 1 1 1 1 1 1 1 1 1 1 1 1 1 1 1 1 1 1 1 1 1 1 1 1 1 1 1 1 1 1 1 1 1 1 1 1 1 1 1 1 1 1 1 1 1 1 1 1 1 1 1\n"
     ]
    },
    {
     "name": "stderr",
     "output_type": "stream",
     "text": [
      "INFO:tensorflow:segment_ids: 0 0 0 0 0 0 0 0 0 0 0 0 0 0 0 0 0 1 1 1 1 1 1 1 1 1 1 1 1 1 1 1 1 1 1 1 1 1 1 1 1 1 1 1 1 1 1 1 1 1 1 1 1 1 1 1 1 1 1 1 1 1 1 1 1 1 1 1 1 1 1 1 1 1 1 1 1 1 1 1 1 1 1 1 1 1 1 1 1 1 1 1 1 1 1 1 1 1 1 1 1 1 1 1 1 1 1 1 1 1 1 1 1 1 1 1 1 1 1 1 1 1 1 1 1 1 1 1 1 1 1 1 1 1 1 1 1 1 1 1 1 1 1 1 1 1 1 1 1 1 1 1 1 1 1 1 1 1 1 1 1 1 1 1 1 1 1 1 1 1 1 1 1 1 1 1 1 1 1 1 1 1 1 1 1 1 1 1 1 1 1 1 1 1 1 1 1 1 1 1 1 1 1 1 1 1 1 1 1 1 1 1 1 1 1 1 1 1 1 1 1 1 1 1 1 1 1 1 1 1 1 1 1 1 1 1 1 1 1 1 1 1 1 1 1 1 1 1 1 1 1 1 1 1 1 1\n"
     ]
    },
    {
     "name": "stdout",
     "output_type": "stream",
     "text": [
      "INFO:tensorflow:label: [0, 0, 0, 0, 0] (id = [0, 0, 0, 0, 0])\n"
     ]
    },
    {
     "name": "stderr",
     "output_type": "stream",
     "text": [
      "INFO:tensorflow:label: [0, 0, 0, 0, 0] (id = [0, 0, 0, 0, 0])\n"
     ]
    },
    {
     "name": "stdout",
     "output_type": "stream",
     "text": [
      "INFO:tensorflow:*** Example ***\n"
     ]
    },
    {
     "name": "stderr",
     "output_type": "stream",
     "text": [
      "INFO:tensorflow:*** Example ***\n"
     ]
    },
    {
     "name": "stdout",
     "output_type": "stream",
     "text": [
      "INFO:tensorflow:guid: \n"
     ]
    },
    {
     "name": "stderr",
     "output_type": "stream",
     "text": [
      "INFO:tensorflow:guid: \n"
     ]
    },
    {
     "name": "stdout",
     "output_type": "stream",
     "text": [
      "INFO:tensorflow:tokens: [CLS] growth and yield response of selected crops to treatment with com ##cat [SEP] a recently commercial ##ized natural bio - stimul ##ant , com ##cat ##® , that contains three active brass ##inos ##ter ##oids ( br ##s ) of which two were identified previously , was scrutin ##ized in this study for its potential to be applied in the agricultural industry . concerning objective ( 1 ) , seven biot ##ests were employed to quantify the bio - stimulatory activity of com ##cat ##® under laboratory and glass ##house conditions . the product was tested at different concentration levels and the 0 . 5 mg [UNK] - 1 application repeatedly emerged as the optimum concentration in terms of contributing towards increases in all of the parameters measured . treatment with com ##cat ##® had little or no effect on seed germination , but especially root growth of seedlings from different crops was significantly and consistently induced . concerning objective ( 2 ) , two cultivars for each of five test crops were treated with com ##cat ##® over two growing seasons under field conditions in order to ascertain their yield response . some of the test crops , but not all , showed cultivar sensitivity to treatment with com ##cat ##® . however , overall the significant yield increases measured in one or both cultivars of the five different test crops and in one or both seasons confirmed the potential of com ##cat ##® to be applied in agriculture and to contribute to [SEP]\n"
     ]
    },
    {
     "name": "stderr",
     "output_type": "stream",
     "text": [
      "INFO:tensorflow:tokens: [CLS] growth and yield response of selected crops to treatment with com ##cat [SEP] a recently commercial ##ized natural bio - stimul ##ant , com ##cat ##® , that contains three active brass ##inos ##ter ##oids ( br ##s ) of which two were identified previously , was scrutin ##ized in this study for its potential to be applied in the agricultural industry . concerning objective ( 1 ) , seven biot ##ests were employed to quantify the bio - stimulatory activity of com ##cat ##® under laboratory and glass ##house conditions . the product was tested at different concentration levels and the 0 . 5 mg [UNK] - 1 application repeatedly emerged as the optimum concentration in terms of contributing towards increases in all of the parameters measured . treatment with com ##cat ##® had little or no effect on seed germination , but especially root growth of seedlings from different crops was significantly and consistently induced . concerning objective ( 2 ) , two cultivars for each of five test crops were treated with com ##cat ##® over two growing seasons under field conditions in order to ascertain their yield response . some of the test crops , but not all , showed cultivar sensitivity to treatment with com ##cat ##® . however , overall the significant yield increases measured in one or both cultivars of the five different test crops and in one or both seasons confirmed the potential of com ##cat ##® to be applied in agriculture and to contribute to [SEP]\n"
     ]
    },
    {
     "name": "stdout",
     "output_type": "stream",
     "text": [
      "INFO:tensorflow:input_ids: 102 1503 137 2210 1278 131 2350 12760 147 922 190 209 5581 103 106 2803 5046 645 2404 4686 579 2820 268 422 209 5581 30252 422 198 3017 874 2222 23948 13083 192 4692 145 746 30113 546 131 334 502 267 1887 2049 422 241 23578 645 121 238 527 168 633 1411 147 195 1765 121 111 7675 4569 205 6275 3201 145 158 546 422 5152 5600 1499 267 4208 147 9454 111 4686 579 27089 1071 131 209 5581 30252 604 3131 137 5860 8901 1245 205 111 2378 241 2733 235 643 1840 1049 137 111 244 205 305 1529 101 579 158 1836 13939 10036 188 111 8041 1840 121 1615 131 10027 3834 2348 121 355 131 111 1496 1649 205 922 190 209 5581 30252 883 3441 234 425 907 191 3678 16171 422 563 2825 3737 1503 131 13912 263 643 12760 241 1357 137 8137 2651 205 6275 3201 145 170 546 422 502 17019 168 535 131 2539 856 12760 267 2338 190 209 5581 30252 573 502 5411 18079 604 1281 1245 121 993 147 13852 547 2210 1278 205 693 131 111 856 12760 422 563 302 355 422 1367 26493 2949 147 922 190 209 5581 30252 205 694 422 2103 111 684 2210 2348 1649 121 482 234 655 17019 131 111 2539 643 856 12760 137 121 482 234 655 18079 3804 111 1411 131 209 5581 30252 147 195 1765 121 9879 137 147 4362 147 103\n"
     ]
    },
    {
     "name": "stderr",
     "output_type": "stream",
     "text": [
      "INFO:tensorflow:input_ids: 102 1503 137 2210 1278 131 2350 12760 147 922 190 209 5581 103 106 2803 5046 645 2404 4686 579 2820 268 422 209 5581 30252 422 198 3017 874 2222 23948 13083 192 4692 145 746 30113 546 131 334 502 267 1887 2049 422 241 23578 645 121 238 527 168 633 1411 147 195 1765 121 111 7675 4569 205 6275 3201 145 158 546 422 5152 5600 1499 267 4208 147 9454 111 4686 579 27089 1071 131 209 5581 30252 604 3131 137 5860 8901 1245 205 111 2378 241 2733 235 643 1840 1049 137 111 244 205 305 1529 101 579 158 1836 13939 10036 188 111 8041 1840 121 1615 131 10027 3834 2348 121 355 131 111 1496 1649 205 922 190 209 5581 30252 883 3441 234 425 907 191 3678 16171 422 563 2825 3737 1503 131 13912 263 643 12760 241 1357 137 8137 2651 205 6275 3201 145 170 546 422 502 17019 168 535 131 2539 856 12760 267 2338 190 209 5581 30252 573 502 5411 18079 604 1281 1245 121 993 147 13852 547 2210 1278 205 693 131 111 856 12760 422 563 302 355 422 1367 26493 2949 147 922 190 209 5581 30252 205 694 422 2103 111 684 2210 2348 1649 121 482 234 655 17019 131 111 2539 643 856 12760 137 121 482 234 655 18079 3804 111 1411 131 209 5581 30252 147 195 1765 121 9879 137 147 4362 147 103\n"
     ]
    },
    {
     "name": "stdout",
     "output_type": "stream",
     "text": [
      "INFO:tensorflow:input_mask: 1 1 1 1 1 1 1 1 1 1 1 1 1 1 1 1 1 1 1 1 1 1 1 1 1 1 1 1 1 1 1 1 1 1 1 1 1 1 1 1 1 1 1 1 1 1 1 1 1 1 1 1 1 1 1 1 1 1 1 1 1 1 1 1 1 1 1 1 1 1 1 1 1 1 1 1 1 1 1 1 1 1 1 1 1 1 1 1 1 1 1 1 1 1 1 1 1 1 1 1 1 1 1 1 1 1 1 1 1 1 1 1 1 1 1 1 1 1 1 1 1 1 1 1 1 1 1 1 1 1 1 1 1 1 1 1 1 1 1 1 1 1 1 1 1 1 1 1 1 1 1 1 1 1 1 1 1 1 1 1 1 1 1 1 1 1 1 1 1 1 1 1 1 1 1 1 1 1 1 1 1 1 1 1 1 1 1 1 1 1 1 1 1 1 1 1 1 1 1 1 1 1 1 1 1 1 1 1 1 1 1 1 1 1 1 1 1 1 1 1 1 1 1 1 1 1 1 1 1 1 1 1 1 1 1 1 1 1 1 1 1 1 1 1 1 1 1 1 1 1 1 1 1 1 1 1\n"
     ]
    },
    {
     "name": "stderr",
     "output_type": "stream",
     "text": [
      "INFO:tensorflow:input_mask: 1 1 1 1 1 1 1 1 1 1 1 1 1 1 1 1 1 1 1 1 1 1 1 1 1 1 1 1 1 1 1 1 1 1 1 1 1 1 1 1 1 1 1 1 1 1 1 1 1 1 1 1 1 1 1 1 1 1 1 1 1 1 1 1 1 1 1 1 1 1 1 1 1 1 1 1 1 1 1 1 1 1 1 1 1 1 1 1 1 1 1 1 1 1 1 1 1 1 1 1 1 1 1 1 1 1 1 1 1 1 1 1 1 1 1 1 1 1 1 1 1 1 1 1 1 1 1 1 1 1 1 1 1 1 1 1 1 1 1 1 1 1 1 1 1 1 1 1 1 1 1 1 1 1 1 1 1 1 1 1 1 1 1 1 1 1 1 1 1 1 1 1 1 1 1 1 1 1 1 1 1 1 1 1 1 1 1 1 1 1 1 1 1 1 1 1 1 1 1 1 1 1 1 1 1 1 1 1 1 1 1 1 1 1 1 1 1 1 1 1 1 1 1 1 1 1 1 1 1 1 1 1 1 1 1 1 1 1 1 1 1 1 1 1 1 1 1 1 1 1 1 1 1 1 1 1\n"
     ]
    },
    {
     "name": "stdout",
     "output_type": "stream",
     "text": [
      "INFO:tensorflow:segment_ids: 0 0 0 0 0 0 0 0 0 0 0 0 0 0 1 1 1 1 1 1 1 1 1 1 1 1 1 1 1 1 1 1 1 1 1 1 1 1 1 1 1 1 1 1 1 1 1 1 1 1 1 1 1 1 1 1 1 1 1 1 1 1 1 1 1 1 1 1 1 1 1 1 1 1 1 1 1 1 1 1 1 1 1 1 1 1 1 1 1 1 1 1 1 1 1 1 1 1 1 1 1 1 1 1 1 1 1 1 1 1 1 1 1 1 1 1 1 1 1 1 1 1 1 1 1 1 1 1 1 1 1 1 1 1 1 1 1 1 1 1 1 1 1 1 1 1 1 1 1 1 1 1 1 1 1 1 1 1 1 1 1 1 1 1 1 1 1 1 1 1 1 1 1 1 1 1 1 1 1 1 1 1 1 1 1 1 1 1 1 1 1 1 1 1 1 1 1 1 1 1 1 1 1 1 1 1 1 1 1 1 1 1 1 1 1 1 1 1 1 1 1 1 1 1 1 1 1 1 1 1 1 1 1 1 1 1 1 1 1 1 1 1 1 1 1 1 1 1 1 1 1 1 1 1 1 1\n"
     ]
    },
    {
     "name": "stderr",
     "output_type": "stream",
     "text": [
      "INFO:tensorflow:segment_ids: 0 0 0 0 0 0 0 0 0 0 0 0 0 0 1 1 1 1 1 1 1 1 1 1 1 1 1 1 1 1 1 1 1 1 1 1 1 1 1 1 1 1 1 1 1 1 1 1 1 1 1 1 1 1 1 1 1 1 1 1 1 1 1 1 1 1 1 1 1 1 1 1 1 1 1 1 1 1 1 1 1 1 1 1 1 1 1 1 1 1 1 1 1 1 1 1 1 1 1 1 1 1 1 1 1 1 1 1 1 1 1 1 1 1 1 1 1 1 1 1 1 1 1 1 1 1 1 1 1 1 1 1 1 1 1 1 1 1 1 1 1 1 1 1 1 1 1 1 1 1 1 1 1 1 1 1 1 1 1 1 1 1 1 1 1 1 1 1 1 1 1 1 1 1 1 1 1 1 1 1 1 1 1 1 1 1 1 1 1 1 1 1 1 1 1 1 1 1 1 1 1 1 1 1 1 1 1 1 1 1 1 1 1 1 1 1 1 1 1 1 1 1 1 1 1 1 1 1 1 1 1 1 1 1 1 1 1 1 1 1 1 1 1 1 1 1 1 1 1 1 1 1 1 1 1 1\n"
     ]
    },
    {
     "name": "stdout",
     "output_type": "stream",
     "text": [
      "INFO:tensorflow:label: [0, 0, 0, 0, 0] (id = [0, 0, 0, 0, 0])\n"
     ]
    },
    {
     "name": "stderr",
     "output_type": "stream",
     "text": [
      "INFO:tensorflow:label: [0, 0, 0, 0, 0] (id = [0, 0, 0, 0, 0])\n"
     ]
    },
    {
     "name": "stdout",
     "output_type": "stream",
     "text": [
      "INFO:tensorflow:Calling model_fn.\n"
     ]
    },
    {
     "name": "stderr",
     "output_type": "stream",
     "text": [
      "INFO:tensorflow:Calling model_fn.\n"
     ]
    },
    {
     "name": "stdout",
     "output_type": "stream",
     "text": [
      "Used for model gpu 0\n",
      "INFO:tensorflow:Done calling model_fn.\n"
     ]
    },
    {
     "name": "stderr",
     "output_type": "stream",
     "text": [
      "INFO:tensorflow:Done calling model_fn.\n"
     ]
    },
    {
     "name": "stdout",
     "output_type": "stream",
     "text": [
      "INFO:tensorflow:Graph was finalized.\n"
     ]
    },
    {
     "name": "stderr",
     "output_type": "stream",
     "text": [
      "INFO:tensorflow:Graph was finalized.\n"
     ]
    },
    {
     "name": "stdout",
     "output_type": "stream",
     "text": [
      "INFO:tensorflow:Restoring parameters from ../model/study_type_multi/model.ckpt-2000\n"
     ]
    },
    {
     "name": "stderr",
     "output_type": "stream",
     "text": [
      "INFO:tensorflow:Restoring parameters from ../model/study_type_multi/model.ckpt-2000\n"
     ]
    },
    {
     "name": "stdout",
     "output_type": "stream",
     "text": [
      "INFO:tensorflow:Running local_init_op.\n"
     ]
    },
    {
     "name": "stderr",
     "output_type": "stream",
     "text": [
      "INFO:tensorflow:Running local_init_op.\n"
     ]
    },
    {
     "name": "stdout",
     "output_type": "stream",
     "text": [
      "INFO:tensorflow:Done running local_init_op.\n"
     ]
    },
    {
     "name": "stderr",
     "output_type": "stream",
     "text": [
      "INFO:tensorflow:Done running local_init_op.\n"
     ]
    },
    {
     "name": "stdout",
     "output_type": "stream",
     "text": [
      "INFO:tensorflow:Writing example 0 of 834\n"
     ]
    },
    {
     "name": "stderr",
     "output_type": "stream",
     "text": [
      "INFO:tensorflow:Writing example 0 of 834\n"
     ]
    },
    {
     "name": "stdout",
     "output_type": "stream",
     "text": [
      "INFO:tensorflow:*** Example ***\n"
     ]
    },
    {
     "name": "stderr",
     "output_type": "stream",
     "text": [
      "INFO:tensorflow:*** Example ***\n"
     ]
    },
    {
     "name": "stdout",
     "output_type": "stream",
     "text": [
      "INFO:tensorflow:guid: \n"
     ]
    },
    {
     "name": "stderr",
     "output_type": "stream",
     "text": [
      "INFO:tensorflow:guid: \n"
     ]
    },
    {
     "name": "stdout",
     "output_type": "stream",
     "text": [
      "INFO:tensorflow:tokens: [CLS] 2018 - using insurance to protect farmers against drought in sen ##eg ##al [SEP] the international fund for agricultural development ( if ##ad ) and the world food programme ( wf ##p ) have joined forces to help make weather index insurance available to farmers in sen ##eg ##al . read more about how index insurance is an important tool that helps poor small ##holder farmers cope with increasing climate risks and provides support when crop losses occur as a result of drought [SEP]\n"
     ]
    },
    {
     "name": "stderr",
     "output_type": "stream",
     "text": [
      "INFO:tensorflow:tokens: [CLS] 2018 - using insurance to protect farmers against drought in sen ##eg ##al [SEP] the international fund for agricultural development ( if ##ad ) and the world food programme ( wf ##p ) have joined forces to help make weather index insurance available to farmers in sen ##eg ##al . read more about how index insurance is an important tool that helps poor small ##holder farmers cope with increasing climate risks and provides support when crop losses occur as a result of drought [SEP]\n"
     ]
    },
    {
     "name": "stdout",
     "output_type": "stream",
     "text": [
      "INFO:tensorflow:input_ids: 102 7491 579 487 8564 147 8986 12288 2089 13509 121 1311 4980 120 103 111 2565 2244 168 7675 1120 145 543 213 546 137 111 2399 2599 8547 145 18190 30121 546 360 18149 5862 147 2279 2113 10844 2018 8564 1427 147 12288 121 1311 4980 120 205 1757 475 1011 539 2018 8564 165 130 1060 3130 198 8978 3228 952 13643 12288 14649 190 1953 6002 6733 137 2315 1385 603 8501 6914 1259 188 106 1186 131 13509 103 0 0 0 0 0 0 0 0 0 0 0 0 0 0 0 0 0 0 0 0 0 0 0 0 0 0 0 0 0 0 0 0 0 0 0 0 0 0 0 0 0 0 0 0 0 0 0 0 0 0 0 0 0 0 0 0 0 0 0 0 0 0 0 0 0 0 0 0 0 0 0 0 0 0 0 0 0 0 0 0 0 0 0 0 0 0 0 0 0 0 0 0 0 0 0 0 0 0 0 0 0 0 0 0 0 0 0 0 0 0 0 0 0 0 0 0 0 0 0 0 0 0 0 0 0 0 0 0 0 0 0 0 0 0 0 0 0 0 0 0 0 0 0 0 0 0 0 0 0 0 0 0 0 0 0 0 0 0 0 0 0 0 0 0 0 0 0 0 0 0 0\n"
     ]
    },
    {
     "name": "stderr",
     "output_type": "stream",
     "text": [
      "INFO:tensorflow:input_ids: 102 7491 579 487 8564 147 8986 12288 2089 13509 121 1311 4980 120 103 111 2565 2244 168 7675 1120 145 543 213 546 137 111 2399 2599 8547 145 18190 30121 546 360 18149 5862 147 2279 2113 10844 2018 8564 1427 147 12288 121 1311 4980 120 205 1757 475 1011 539 2018 8564 165 130 1060 3130 198 8978 3228 952 13643 12288 14649 190 1953 6002 6733 137 2315 1385 603 8501 6914 1259 188 106 1186 131 13509 103 0 0 0 0 0 0 0 0 0 0 0 0 0 0 0 0 0 0 0 0 0 0 0 0 0 0 0 0 0 0 0 0 0 0 0 0 0 0 0 0 0 0 0 0 0 0 0 0 0 0 0 0 0 0 0 0 0 0 0 0 0 0 0 0 0 0 0 0 0 0 0 0 0 0 0 0 0 0 0 0 0 0 0 0 0 0 0 0 0 0 0 0 0 0 0 0 0 0 0 0 0 0 0 0 0 0 0 0 0 0 0 0 0 0 0 0 0 0 0 0 0 0 0 0 0 0 0 0 0 0 0 0 0 0 0 0 0 0 0 0 0 0 0 0 0 0 0 0 0 0 0 0 0 0 0 0 0 0 0 0 0 0 0 0 0 0 0 0 0 0 0\n"
     ]
    },
    {
     "name": "stdout",
     "output_type": "stream",
     "text": [
      "INFO:tensorflow:input_mask: 1 1 1 1 1 1 1 1 1 1 1 1 1 1 1 1 1 1 1 1 1 1 1 1 1 1 1 1 1 1 1 1 1 1 1 1 1 1 1 1 1 1 1 1 1 1 1 1 1 1 1 1 1 1 1 1 1 1 1 1 1 1 1 1 1 1 1 1 1 1 1 1 1 1 1 1 1 1 1 1 1 1 1 1 1 0 0 0 0 0 0 0 0 0 0 0 0 0 0 0 0 0 0 0 0 0 0 0 0 0 0 0 0 0 0 0 0 0 0 0 0 0 0 0 0 0 0 0 0 0 0 0 0 0 0 0 0 0 0 0 0 0 0 0 0 0 0 0 0 0 0 0 0 0 0 0 0 0 0 0 0 0 0 0 0 0 0 0 0 0 0 0 0 0 0 0 0 0 0 0 0 0 0 0 0 0 0 0 0 0 0 0 0 0 0 0 0 0 0 0 0 0 0 0 0 0 0 0 0 0 0 0 0 0 0 0 0 0 0 0 0 0 0 0 0 0 0 0 0 0 0 0 0 0 0 0 0 0 0 0 0 0 0 0 0 0 0 0 0 0 0 0 0 0 0 0\n"
     ]
    },
    {
     "name": "stderr",
     "output_type": "stream",
     "text": [
      "INFO:tensorflow:input_mask: 1 1 1 1 1 1 1 1 1 1 1 1 1 1 1 1 1 1 1 1 1 1 1 1 1 1 1 1 1 1 1 1 1 1 1 1 1 1 1 1 1 1 1 1 1 1 1 1 1 1 1 1 1 1 1 1 1 1 1 1 1 1 1 1 1 1 1 1 1 1 1 1 1 1 1 1 1 1 1 1 1 1 1 1 1 0 0 0 0 0 0 0 0 0 0 0 0 0 0 0 0 0 0 0 0 0 0 0 0 0 0 0 0 0 0 0 0 0 0 0 0 0 0 0 0 0 0 0 0 0 0 0 0 0 0 0 0 0 0 0 0 0 0 0 0 0 0 0 0 0 0 0 0 0 0 0 0 0 0 0 0 0 0 0 0 0 0 0 0 0 0 0 0 0 0 0 0 0 0 0 0 0 0 0 0 0 0 0 0 0 0 0 0 0 0 0 0 0 0 0 0 0 0 0 0 0 0 0 0 0 0 0 0 0 0 0 0 0 0 0 0 0 0 0 0 0 0 0 0 0 0 0 0 0 0 0 0 0 0 0 0 0 0 0 0 0 0 0 0 0 0 0 0 0 0 0\n"
     ]
    },
    {
     "name": "stdout",
     "output_type": "stream",
     "text": [
      "INFO:tensorflow:segment_ids: 0 0 0 0 0 0 0 0 0 0 0 0 0 0 0 1 1 1 1 1 1 1 1 1 1 1 1 1 1 1 1 1 1 1 1 1 1 1 1 1 1 1 1 1 1 1 1 1 1 1 1 1 1 1 1 1 1 1 1 1 1 1 1 1 1 1 1 1 1 1 1 1 1 1 1 1 1 1 1 1 1 1 1 1 1 0 0 0 0 0 0 0 0 0 0 0 0 0 0 0 0 0 0 0 0 0 0 0 0 0 0 0 0 0 0 0 0 0 0 0 0 0 0 0 0 0 0 0 0 0 0 0 0 0 0 0 0 0 0 0 0 0 0 0 0 0 0 0 0 0 0 0 0 0 0 0 0 0 0 0 0 0 0 0 0 0 0 0 0 0 0 0 0 0 0 0 0 0 0 0 0 0 0 0 0 0 0 0 0 0 0 0 0 0 0 0 0 0 0 0 0 0 0 0 0 0 0 0 0 0 0 0 0 0 0 0 0 0 0 0 0 0 0 0 0 0 0 0 0 0 0 0 0 0 0 0 0 0 0 0 0 0 0 0 0 0 0 0 0 0 0 0 0 0 0 0\n"
     ]
    },
    {
     "name": "stderr",
     "output_type": "stream",
     "text": [
      "INFO:tensorflow:segment_ids: 0 0 0 0 0 0 0 0 0 0 0 0 0 0 0 1 1 1 1 1 1 1 1 1 1 1 1 1 1 1 1 1 1 1 1 1 1 1 1 1 1 1 1 1 1 1 1 1 1 1 1 1 1 1 1 1 1 1 1 1 1 1 1 1 1 1 1 1 1 1 1 1 1 1 1 1 1 1 1 1 1 1 1 1 1 0 0 0 0 0 0 0 0 0 0 0 0 0 0 0 0 0 0 0 0 0 0 0 0 0 0 0 0 0 0 0 0 0 0 0 0 0 0 0 0 0 0 0 0 0 0 0 0 0 0 0 0 0 0 0 0 0 0 0 0 0 0 0 0 0 0 0 0 0 0 0 0 0 0 0 0 0 0 0 0 0 0 0 0 0 0 0 0 0 0 0 0 0 0 0 0 0 0 0 0 0 0 0 0 0 0 0 0 0 0 0 0 0 0 0 0 0 0 0 0 0 0 0 0 0 0 0 0 0 0 0 0 0 0 0 0 0 0 0 0 0 0 0 0 0 0 0 0 0 0 0 0 0 0 0 0 0 0 0 0 0 0 0 0 0 0 0 0 0 0 0\n"
     ]
    },
    {
     "name": "stdout",
     "output_type": "stream",
     "text": [
      "INFO:tensorflow:label: [0, 0, 0, 0, 0] (id = [0, 0, 0, 0, 0])\n"
     ]
    },
    {
     "name": "stderr",
     "output_type": "stream",
     "text": [
      "INFO:tensorflow:label: [0, 0, 0, 0, 0] (id = [0, 0, 0, 0, 0])\n"
     ]
    },
    {
     "name": "stdout",
     "output_type": "stream",
     "text": [
      "INFO:tensorflow:*** Example ***\n"
     ]
    },
    {
     "name": "stderr",
     "output_type": "stream",
     "text": [
      "INFO:tensorflow:*** Example ***\n"
     ]
    },
    {
     "name": "stdout",
     "output_type": "stream",
     "text": [
      "INFO:tensorflow:guid: \n"
     ]
    },
    {
     "name": "stderr",
     "output_type": "stream",
     "text": [
      "INFO:tensorflow:guid: \n"
     ]
    },
    {
     "name": "stdout",
     "output_type": "stream",
     "text": [
      "INFO:tensorflow:tokens: [CLS] the practices of contract farming among fresh fruit and vegetable suppliers in malaysia [SEP] problem statement : contract farming ( cf ) concept is an agreement between buyers and producers , where by producers agree to produce and supply agriculture products according to the agreed quantity , quality , variety , grade , type of packaging and time of delivery . the two parties will mutually agree on the pricing of product , either on a contract price or a market price . therefore , cf is seen as a tool for foster ##ing small ##holder participation in new high - value product markets and improving quality standards , thus increasing and stabilizing small ##holder incomes . in malaysia , cf has been identified as a system capable of stimulating agricultural production and was given a central role in the latest strategy by government to improve the vegetable and fruit production . approach : the overall objective of this study was to examine cf as the new marketing practice among selected vegetable and fruit suppliers . the specific objectives of the study were : ( 1 ) to examine the respondents perception towards cf ; ( 2 ) to identify respondents practices toward the cf and ( 3 ) to suggest a policy to ensure the sustainability of cf . results : out of 208 of the total respondents selected in the study , 41 suppliers were involved in cf . the data were analyzed using spss to describe the respondents profile and current [SEP]\n"
     ]
    },
    {
     "name": "stderr",
     "output_type": "stream",
     "text": [
      "INFO:tensorflow:tokens: [CLS] the practices of contract farming among fresh fruit and vegetable suppliers in malaysia [SEP] problem statement : contract farming ( cf ) concept is an agreement between buyers and producers , where by producers agree to produce and supply agriculture products according to the agreed quantity , quality , variety , grade , type of packaging and time of delivery . the two parties will mutually agree on the pricing of product , either on a contract price or a market price . therefore , cf is seen as a tool for foster ##ing small ##holder participation in new high - value product markets and improving quality standards , thus increasing and stabilizing small ##holder incomes . in malaysia , cf has been identified as a system capable of stimulating agricultural production and was given a central role in the latest strategy by government to improve the vegetable and fruit production . approach : the overall objective of this study was to examine cf as the new marketing practice among selected vegetable and fruit suppliers . the specific objectives of the study were : ( 1 ) to examine the respondents perception towards cf ; ( 2 ) to identify respondents practices toward the cf and ( 3 ) to suggest a policy to ensure the sustainability of cf . results : out of 208 of the total respondents selected in the study , 41 suppliers were involved in cf . the data were analyzed using spss to describe the respondents profile and current [SEP]\n"
     ]
    },
    {
     "name": "stdout",
     "output_type": "stream",
     "text": [
      "INFO:tensorflow:input_ids: 102 111 5423 131 6610 19323 1247 5893 8235 137 20288 17199 121 17761 103 1167 6098 862 6610 19323 145 4645 546 2614 165 130 4111 467 22810 137 15793 422 582 214 15793 8298 147 3299 137 4494 9879 2800 1425 147 111 11759 6725 422 1671 422 3835 422 5415 422 1211 131 17204 137 532 131 4277 205 111 502 10393 650 14853 8298 191 111 12775 131 2378 422 1676 191 106 6610 4048 234 106 2753 4048 205 1104 422 4645 165 2187 188 106 3130 168 13916 140 952 13643 6163 121 758 597 579 973 2378 7838 137 6017 1671 5103 422 959 1953 137 18419 952 13643 25596 205 121 17761 422 4645 434 528 1887 188 106 429 5917 131 14559 7675 1865 137 241 906 106 2435 1447 121 111 13905 2691 214 4270 147 1658 111 20288 137 8235 1865 205 1139 862 111 2103 3201 131 238 527 241 147 4423 4645 188 111 758 10644 2794 1247 2350 20288 137 8235 17199 205 111 1154 6454 131 111 527 267 862 145 158 546 147 4423 111 6634 6028 3834 4645 1814 145 170 546 147 2743 6634 5423 2536 111 4645 137 145 239 546 147 1739 106 2951 147 4207 111 13591 131 4645 205 545 862 556 131 20645 131 111 1114 6634 2350 121 111 527 422 5220 17199 267 2296 121 4645 205 111 453 267 2549 487 13303 147 3401 111 6634 3822 137 1073 103\n"
     ]
    },
    {
     "name": "stderr",
     "output_type": "stream",
     "text": [
      "INFO:tensorflow:input_ids: 102 111 5423 131 6610 19323 1247 5893 8235 137 20288 17199 121 17761 103 1167 6098 862 6610 19323 145 4645 546 2614 165 130 4111 467 22810 137 15793 422 582 214 15793 8298 147 3299 137 4494 9879 2800 1425 147 111 11759 6725 422 1671 422 3835 422 5415 422 1211 131 17204 137 532 131 4277 205 111 502 10393 650 14853 8298 191 111 12775 131 2378 422 1676 191 106 6610 4048 234 106 2753 4048 205 1104 422 4645 165 2187 188 106 3130 168 13916 140 952 13643 6163 121 758 597 579 973 2378 7838 137 6017 1671 5103 422 959 1953 137 18419 952 13643 25596 205 121 17761 422 4645 434 528 1887 188 106 429 5917 131 14559 7675 1865 137 241 906 106 2435 1447 121 111 13905 2691 214 4270 147 1658 111 20288 137 8235 1865 205 1139 862 111 2103 3201 131 238 527 241 147 4423 4645 188 111 758 10644 2794 1247 2350 20288 137 8235 17199 205 111 1154 6454 131 111 527 267 862 145 158 546 147 4423 111 6634 6028 3834 4645 1814 145 170 546 147 2743 6634 5423 2536 111 4645 137 145 239 546 147 1739 106 2951 147 4207 111 13591 131 4645 205 545 862 556 131 20645 131 111 1114 6634 2350 121 111 527 422 5220 17199 267 2296 121 4645 205 111 453 267 2549 487 13303 147 3401 111 6634 3822 137 1073 103\n"
     ]
    },
    {
     "name": "stdout",
     "output_type": "stream",
     "text": [
      "INFO:tensorflow:input_mask: 1 1 1 1 1 1 1 1 1 1 1 1 1 1 1 1 1 1 1 1 1 1 1 1 1 1 1 1 1 1 1 1 1 1 1 1 1 1 1 1 1 1 1 1 1 1 1 1 1 1 1 1 1 1 1 1 1 1 1 1 1 1 1 1 1 1 1 1 1 1 1 1 1 1 1 1 1 1 1 1 1 1 1 1 1 1 1 1 1 1 1 1 1 1 1 1 1 1 1 1 1 1 1 1 1 1 1 1 1 1 1 1 1 1 1 1 1 1 1 1 1 1 1 1 1 1 1 1 1 1 1 1 1 1 1 1 1 1 1 1 1 1 1 1 1 1 1 1 1 1 1 1 1 1 1 1 1 1 1 1 1 1 1 1 1 1 1 1 1 1 1 1 1 1 1 1 1 1 1 1 1 1 1 1 1 1 1 1 1 1 1 1 1 1 1 1 1 1 1 1 1 1 1 1 1 1 1 1 1 1 1 1 1 1 1 1 1 1 1 1 1 1 1 1 1 1 1 1 1 1 1 1 1 1 1 1 1 1 1 1 1 1 1 1 1 1 1 1 1 1 1 1 1 1 1 1\n"
     ]
    },
    {
     "name": "stderr",
     "output_type": "stream",
     "text": [
      "INFO:tensorflow:input_mask: 1 1 1 1 1 1 1 1 1 1 1 1 1 1 1 1 1 1 1 1 1 1 1 1 1 1 1 1 1 1 1 1 1 1 1 1 1 1 1 1 1 1 1 1 1 1 1 1 1 1 1 1 1 1 1 1 1 1 1 1 1 1 1 1 1 1 1 1 1 1 1 1 1 1 1 1 1 1 1 1 1 1 1 1 1 1 1 1 1 1 1 1 1 1 1 1 1 1 1 1 1 1 1 1 1 1 1 1 1 1 1 1 1 1 1 1 1 1 1 1 1 1 1 1 1 1 1 1 1 1 1 1 1 1 1 1 1 1 1 1 1 1 1 1 1 1 1 1 1 1 1 1 1 1 1 1 1 1 1 1 1 1 1 1 1 1 1 1 1 1 1 1 1 1 1 1 1 1 1 1 1 1 1 1 1 1 1 1 1 1 1 1 1 1 1 1 1 1 1 1 1 1 1 1 1 1 1 1 1 1 1 1 1 1 1 1 1 1 1 1 1 1 1 1 1 1 1 1 1 1 1 1 1 1 1 1 1 1 1 1 1 1 1 1 1 1 1 1 1 1 1 1 1 1 1 1\n"
     ]
    },
    {
     "name": "stdout",
     "output_type": "stream",
     "text": [
      "INFO:tensorflow:segment_ids: 0 0 0 0 0 0 0 0 0 0 0 0 0 0 0 1 1 1 1 1 1 1 1 1 1 1 1 1 1 1 1 1 1 1 1 1 1 1 1 1 1 1 1 1 1 1 1 1 1 1 1 1 1 1 1 1 1 1 1 1 1 1 1 1 1 1 1 1 1 1 1 1 1 1 1 1 1 1 1 1 1 1 1 1 1 1 1 1 1 1 1 1 1 1 1 1 1 1 1 1 1 1 1 1 1 1 1 1 1 1 1 1 1 1 1 1 1 1 1 1 1 1 1 1 1 1 1 1 1 1 1 1 1 1 1 1 1 1 1 1 1 1 1 1 1 1 1 1 1 1 1 1 1 1 1 1 1 1 1 1 1 1 1 1 1 1 1 1 1 1 1 1 1 1 1 1 1 1 1 1 1 1 1 1 1 1 1 1 1 1 1 1 1 1 1 1 1 1 1 1 1 1 1 1 1 1 1 1 1 1 1 1 1 1 1 1 1 1 1 1 1 1 1 1 1 1 1 1 1 1 1 1 1 1 1 1 1 1 1 1 1 1 1 1 1 1 1 1 1 1 1 1 1 1 1 1\n"
     ]
    },
    {
     "name": "stderr",
     "output_type": "stream",
     "text": [
      "INFO:tensorflow:segment_ids: 0 0 0 0 0 0 0 0 0 0 0 0 0 0 0 1 1 1 1 1 1 1 1 1 1 1 1 1 1 1 1 1 1 1 1 1 1 1 1 1 1 1 1 1 1 1 1 1 1 1 1 1 1 1 1 1 1 1 1 1 1 1 1 1 1 1 1 1 1 1 1 1 1 1 1 1 1 1 1 1 1 1 1 1 1 1 1 1 1 1 1 1 1 1 1 1 1 1 1 1 1 1 1 1 1 1 1 1 1 1 1 1 1 1 1 1 1 1 1 1 1 1 1 1 1 1 1 1 1 1 1 1 1 1 1 1 1 1 1 1 1 1 1 1 1 1 1 1 1 1 1 1 1 1 1 1 1 1 1 1 1 1 1 1 1 1 1 1 1 1 1 1 1 1 1 1 1 1 1 1 1 1 1 1 1 1 1 1 1 1 1 1 1 1 1 1 1 1 1 1 1 1 1 1 1 1 1 1 1 1 1 1 1 1 1 1 1 1 1 1 1 1 1 1 1 1 1 1 1 1 1 1 1 1 1 1 1 1 1 1 1 1 1 1 1 1 1 1 1 1 1 1 1 1 1 1\n"
     ]
    },
    {
     "name": "stdout",
     "output_type": "stream",
     "text": [
      "INFO:tensorflow:label: [0, 0, 0, 0, 0] (id = [0, 0, 0, 0, 0])\n"
     ]
    },
    {
     "name": "stderr",
     "output_type": "stream",
     "text": [
      "INFO:tensorflow:label: [0, 0, 0, 0, 0] (id = [0, 0, 0, 0, 0])\n"
     ]
    },
    {
     "name": "stdout",
     "output_type": "stream",
     "text": [
      "INFO:tensorflow:*** Example ***\n"
     ]
    },
    {
     "name": "stderr",
     "output_type": "stream",
     "text": [
      "INFO:tensorflow:*** Example ***\n"
     ]
    },
    {
     "name": "stdout",
     "output_type": "stream",
     "text": [
      "INFO:tensorflow:guid: \n"
     ]
    },
    {
     "name": "stderr",
     "output_type": "stream",
     "text": [
      "INFO:tensorflow:guid: \n"
     ]
    },
    {
     "name": "stdout",
     "output_type": "stream",
     "text": [
      "INFO:tensorflow:tokens: [CLS] the practices of contract farming among fresh fruit and vegetable suppliers in malaysia [SEP] as the new marketing practice among selected vegetable and fruit suppliers . the specific objectives of the study were : ( 1 ) to examine the respondents perception towards cf ; ( 2 ) to identify respondents practices toward the cf and ( 3 ) to suggest a policy to ensure the sustainability of cf . results : out of 208 of the total respondents selected in the study , 41 suppliers were involved in cf . the data were analyzed using spss to describe the respondents profile and current supply chain practices . at present , the suppliers have a contract agreement with federal agriculture marketing authority ( fam ##a ) and fam ##a has a contr act agreement with hyper ##market ##s . it is presumed that there is a new supply chain network but the contract was not according to the fa ##o definition . the production and marketing contracts exist in non - formal or mainly verbal agreement . the production contract respondents also did not follow the criteria of cf . conclusion : because of this , all the non - formal production contracts in this survey are categorized into marketing contracts . this study concludes with the absence of proper farming contract between farmers and hyper ##market ##s [SEP]\n"
     ]
    },
    {
     "name": "stderr",
     "output_type": "stream",
     "text": [
      "INFO:tensorflow:tokens: [CLS] the practices of contract farming among fresh fruit and vegetable suppliers in malaysia [SEP] as the new marketing practice among selected vegetable and fruit suppliers . the specific objectives of the study were : ( 1 ) to examine the respondents perception towards cf ; ( 2 ) to identify respondents practices toward the cf and ( 3 ) to suggest a policy to ensure the sustainability of cf . results : out of 208 of the total respondents selected in the study , 41 suppliers were involved in cf . the data were analyzed using spss to describe the respondents profile and current supply chain practices . at present , the suppliers have a contract agreement with federal agriculture marketing authority ( fam ##a ) and fam ##a has a contr act agreement with hyper ##market ##s . it is presumed that there is a new supply chain network but the contract was not according to the fa ##o definition . the production and marketing contracts exist in non - formal or mainly verbal agreement . the production contract respondents also did not follow the criteria of cf . conclusion : because of this , all the non - formal production contracts in this survey are categorized into marketing contracts . this study concludes with the absence of proper farming contract between farmers and hyper ##market ##s [SEP]\n"
     ]
    },
    {
     "name": "stdout",
     "output_type": "stream",
     "text": [
      "INFO:tensorflow:input_ids: 102 111 5423 131 6610 19323 1247 5893 8235 137 20288 17199 121 17761 103 188 111 758 10644 2794 1247 2350 20288 137 8235 17199 205 111 1154 6454 131 111 527 267 862 145 158 546 147 4423 111 6634 6028 3834 4645 1814 145 170 546 147 2743 6634 5423 2536 111 4645 137 145 239 546 147 1739 106 2951 147 4207 111 13591 131 4645 205 545 862 556 131 20645 131 111 1114 6634 2350 121 111 527 422 5220 17199 267 2296 121 4645 205 111 453 267 2549 487 13303 147 3401 111 6634 3822 137 1073 4494 3590 5423 205 235 709 422 111 17199 360 106 6610 4111 190 8012 9879 10644 11226 145 1651 30110 546 137 1651 30110 434 106 1253 1438 4111 190 1884 19425 30113 205 256 165 18515 198 461 165 106 758 4494 3590 934 563 111 6610 241 302 1425 147 111 2016 30112 2248 205 111 1865 137 10644 13612 1730 121 699 579 3805 234 3680 10774 4111 205 111 1865 6610 6634 469 1544 302 589 111 3009 131 4645 205 1705 862 923 131 238 422 355 111 699 579 3805 1865 13612 121 238 3241 220 12622 690 10644 13612 205 238 527 13868 190 111 3334 131 1193 19323 6610 467 12288 137 1884 19425 30113 103 0 0 0 0 0 0 0 0 0 0 0 0 0 0 0 0 0 0 0 0 0 0 0 0 0 0\n"
     ]
    },
    {
     "name": "stderr",
     "output_type": "stream",
     "text": [
      "INFO:tensorflow:input_ids: 102 111 5423 131 6610 19323 1247 5893 8235 137 20288 17199 121 17761 103 188 111 758 10644 2794 1247 2350 20288 137 8235 17199 205 111 1154 6454 131 111 527 267 862 145 158 546 147 4423 111 6634 6028 3834 4645 1814 145 170 546 147 2743 6634 5423 2536 111 4645 137 145 239 546 147 1739 106 2951 147 4207 111 13591 131 4645 205 545 862 556 131 20645 131 111 1114 6634 2350 121 111 527 422 5220 17199 267 2296 121 4645 205 111 453 267 2549 487 13303 147 3401 111 6634 3822 137 1073 4494 3590 5423 205 235 709 422 111 17199 360 106 6610 4111 190 8012 9879 10644 11226 145 1651 30110 546 137 1651 30110 434 106 1253 1438 4111 190 1884 19425 30113 205 256 165 18515 198 461 165 106 758 4494 3590 934 563 111 6610 241 302 1425 147 111 2016 30112 2248 205 111 1865 137 10644 13612 1730 121 699 579 3805 234 3680 10774 4111 205 111 1865 6610 6634 469 1544 302 589 111 3009 131 4645 205 1705 862 923 131 238 422 355 111 699 579 3805 1865 13612 121 238 3241 220 12622 690 10644 13612 205 238 527 13868 190 111 3334 131 1193 19323 6610 467 12288 137 1884 19425 30113 103 0 0 0 0 0 0 0 0 0 0 0 0 0 0 0 0 0 0 0 0 0 0 0 0 0 0\n"
     ]
    },
    {
     "name": "stdout",
     "output_type": "stream",
     "text": [
      "INFO:tensorflow:input_mask: 1 1 1 1 1 1 1 1 1 1 1 1 1 1 1 1 1 1 1 1 1 1 1 1 1 1 1 1 1 1 1 1 1 1 1 1 1 1 1 1 1 1 1 1 1 1 1 1 1 1 1 1 1 1 1 1 1 1 1 1 1 1 1 1 1 1 1 1 1 1 1 1 1 1 1 1 1 1 1 1 1 1 1 1 1 1 1 1 1 1 1 1 1 1 1 1 1 1 1 1 1 1 1 1 1 1 1 1 1 1 1 1 1 1 1 1 1 1 1 1 1 1 1 1 1 1 1 1 1 1 1 1 1 1 1 1 1 1 1 1 1 1 1 1 1 1 1 1 1 1 1 1 1 1 1 1 1 1 1 1 1 1 1 1 1 1 1 1 1 1 1 1 1 1 1 1 1 1 1 1 1 1 1 1 1 1 1 1 1 1 1 1 1 1 1 1 1 1 1 1 1 1 1 1 1 1 1 1 1 1 1 1 1 1 1 1 1 1 1 1 1 1 1 1 1 1 1 1 1 1 0 0 0 0 0 0 0 0 0 0 0 0 0 0 0 0 0 0 0 0 0 0 0 0 0 0\n"
     ]
    },
    {
     "name": "stderr",
     "output_type": "stream",
     "text": [
      "INFO:tensorflow:input_mask: 1 1 1 1 1 1 1 1 1 1 1 1 1 1 1 1 1 1 1 1 1 1 1 1 1 1 1 1 1 1 1 1 1 1 1 1 1 1 1 1 1 1 1 1 1 1 1 1 1 1 1 1 1 1 1 1 1 1 1 1 1 1 1 1 1 1 1 1 1 1 1 1 1 1 1 1 1 1 1 1 1 1 1 1 1 1 1 1 1 1 1 1 1 1 1 1 1 1 1 1 1 1 1 1 1 1 1 1 1 1 1 1 1 1 1 1 1 1 1 1 1 1 1 1 1 1 1 1 1 1 1 1 1 1 1 1 1 1 1 1 1 1 1 1 1 1 1 1 1 1 1 1 1 1 1 1 1 1 1 1 1 1 1 1 1 1 1 1 1 1 1 1 1 1 1 1 1 1 1 1 1 1 1 1 1 1 1 1 1 1 1 1 1 1 1 1 1 1 1 1 1 1 1 1 1 1 1 1 1 1 1 1 1 1 1 1 1 1 1 1 1 1 1 1 1 1 1 1 1 1 0 0 0 0 0 0 0 0 0 0 0 0 0 0 0 0 0 0 0 0 0 0 0 0 0 0\n"
     ]
    },
    {
     "name": "stdout",
     "output_type": "stream",
     "text": [
      "INFO:tensorflow:segment_ids: 0 0 0 0 0 0 0 0 0 0 0 0 0 0 0 1 1 1 1 1 1 1 1 1 1 1 1 1 1 1 1 1 1 1 1 1 1 1 1 1 1 1 1 1 1 1 1 1 1 1 1 1 1 1 1 1 1 1 1 1 1 1 1 1 1 1 1 1 1 1 1 1 1 1 1 1 1 1 1 1 1 1 1 1 1 1 1 1 1 1 1 1 1 1 1 1 1 1 1 1 1 1 1 1 1 1 1 1 1 1 1 1 1 1 1 1 1 1 1 1 1 1 1 1 1 1 1 1 1 1 1 1 1 1 1 1 1 1 1 1 1 1 1 1 1 1 1 1 1 1 1 1 1 1 1 1 1 1 1 1 1 1 1 1 1 1 1 1 1 1 1 1 1 1 1 1 1 1 1 1 1 1 1 1 1 1 1 1 1 1 1 1 1 1 1 1 1 1 1 1 1 1 1 1 1 1 1 1 1 1 1 1 1 1 1 1 1 1 1 1 1 1 1 1 1 1 1 1 1 1 0 0 0 0 0 0 0 0 0 0 0 0 0 0 0 0 0 0 0 0 0 0 0 0 0 0\n"
     ]
    },
    {
     "name": "stderr",
     "output_type": "stream",
     "text": [
      "INFO:tensorflow:segment_ids: 0 0 0 0 0 0 0 0 0 0 0 0 0 0 0 1 1 1 1 1 1 1 1 1 1 1 1 1 1 1 1 1 1 1 1 1 1 1 1 1 1 1 1 1 1 1 1 1 1 1 1 1 1 1 1 1 1 1 1 1 1 1 1 1 1 1 1 1 1 1 1 1 1 1 1 1 1 1 1 1 1 1 1 1 1 1 1 1 1 1 1 1 1 1 1 1 1 1 1 1 1 1 1 1 1 1 1 1 1 1 1 1 1 1 1 1 1 1 1 1 1 1 1 1 1 1 1 1 1 1 1 1 1 1 1 1 1 1 1 1 1 1 1 1 1 1 1 1 1 1 1 1 1 1 1 1 1 1 1 1 1 1 1 1 1 1 1 1 1 1 1 1 1 1 1 1 1 1 1 1 1 1 1 1 1 1 1 1 1 1 1 1 1 1 1 1 1 1 1 1 1 1 1 1 1 1 1 1 1 1 1 1 1 1 1 1 1 1 1 1 1 1 1 1 1 1 1 1 1 1 0 0 0 0 0 0 0 0 0 0 0 0 0 0 0 0 0 0 0 0 0 0 0 0 0 0\n"
     ]
    },
    {
     "name": "stdout",
     "output_type": "stream",
     "text": [
      "INFO:tensorflow:label: [0, 0, 0, 0, 0] (id = [0, 0, 0, 0, 0])\n"
     ]
    },
    {
     "name": "stderr",
     "output_type": "stream",
     "text": [
      "INFO:tensorflow:label: [0, 0, 0, 0, 0] (id = [0, 0, 0, 0, 0])\n"
     ]
    },
    {
     "name": "stdout",
     "output_type": "stream",
     "text": [
      "INFO:tensorflow:*** Example ***\n"
     ]
    },
    {
     "name": "stderr",
     "output_type": "stream",
     "text": [
      "INFO:tensorflow:*** Example ***\n"
     ]
    },
    {
     "name": "stdout",
     "output_type": "stream",
     "text": [
      "INFO:tensorflow:guid: \n"
     ]
    },
    {
     "name": "stderr",
     "output_type": "stream",
     "text": [
      "INFO:tensorflow:guid: \n"
     ]
    },
    {
     "name": "stdout",
     "output_type": "stream",
     "text": [
      "INFO:tensorflow:tokens: [CLS] the practices of contract farming among fresh fruit and vegetable suppliers in malaysia [SEP] contracts exist in non - formal or mainly verbal agreement . the production contract respondents also did not follow the criteria of cf . conclusion : because of this , all the non - formal production contracts in this survey are categorized into marketing contracts . this study concludes with the absence of proper farming contract between farmers and hyper ##market ##s [SEP]\n"
     ]
    },
    {
     "name": "stderr",
     "output_type": "stream",
     "text": [
      "INFO:tensorflow:tokens: [CLS] the practices of contract farming among fresh fruit and vegetable suppliers in malaysia [SEP] contracts exist in non - formal or mainly verbal agreement . the production contract respondents also did not follow the criteria of cf . conclusion : because of this , all the non - formal production contracts in this survey are categorized into marketing contracts . this study concludes with the absence of proper farming contract between farmers and hyper ##market ##s [SEP]\n"
     ]
    },
    {
     "name": "stdout",
     "output_type": "stream",
     "text": [
      "INFO:tensorflow:input_ids: 102 111 5423 131 6610 19323 1247 5893 8235 137 20288 17199 121 17761 103 13612 1730 121 699 579 3805 234 3680 10774 4111 205 111 1865 6610 6634 469 1544 302 589 111 3009 131 4645 205 1705 862 923 131 238 422 355 111 699 579 3805 1865 13612 121 238 3241 220 12622 690 10644 13612 205 238 527 13868 190 111 3334 131 1193 19323 6610 467 12288 137 1884 19425 30113 103 0 0 0 0 0 0 0 0 0 0 0 0 0 0 0 0 0 0 0 0 0 0 0 0 0 0 0 0 0 0 0 0 0 0 0 0 0 0 0 0 0 0 0 0 0 0 0 0 0 0 0 0 0 0 0 0 0 0 0 0 0 0 0 0 0 0 0 0 0 0 0 0 0 0 0 0 0 0 0 0 0 0 0 0 0 0 0 0 0 0 0 0 0 0 0 0 0 0 0 0 0 0 0 0 0 0 0 0 0 0 0 0 0 0 0 0 0 0 0 0 0 0 0 0 0 0 0 0 0 0 0 0 0 0 0 0 0 0 0 0 0 0 0 0 0 0 0 0 0 0 0 0 0 0 0 0 0 0 0 0 0 0 0 0 0 0 0 0 0 0 0 0 0 0 0 0 0 0\n"
     ]
    },
    {
     "name": "stderr",
     "output_type": "stream",
     "text": [
      "INFO:tensorflow:input_ids: 102 111 5423 131 6610 19323 1247 5893 8235 137 20288 17199 121 17761 103 13612 1730 121 699 579 3805 234 3680 10774 4111 205 111 1865 6610 6634 469 1544 302 589 111 3009 131 4645 205 1705 862 923 131 238 422 355 111 699 579 3805 1865 13612 121 238 3241 220 12622 690 10644 13612 205 238 527 13868 190 111 3334 131 1193 19323 6610 467 12288 137 1884 19425 30113 103 0 0 0 0 0 0 0 0 0 0 0 0 0 0 0 0 0 0 0 0 0 0 0 0 0 0 0 0 0 0 0 0 0 0 0 0 0 0 0 0 0 0 0 0 0 0 0 0 0 0 0 0 0 0 0 0 0 0 0 0 0 0 0 0 0 0 0 0 0 0 0 0 0 0 0 0 0 0 0 0 0 0 0 0 0 0 0 0 0 0 0 0 0 0 0 0 0 0 0 0 0 0 0 0 0 0 0 0 0 0 0 0 0 0 0 0 0 0 0 0 0 0 0 0 0 0 0 0 0 0 0 0 0 0 0 0 0 0 0 0 0 0 0 0 0 0 0 0 0 0 0 0 0 0 0 0 0 0 0 0 0 0 0 0 0 0 0 0 0 0 0 0 0 0 0 0 0 0\n"
     ]
    },
    {
     "name": "stdout",
     "output_type": "stream",
     "text": [
      "INFO:tensorflow:input_mask: 1 1 1 1 1 1 1 1 1 1 1 1 1 1 1 1 1 1 1 1 1 1 1 1 1 1 1 1 1 1 1 1 1 1 1 1 1 1 1 1 1 1 1 1 1 1 1 1 1 1 1 1 1 1 1 1 1 1 1 1 1 1 1 1 1 1 1 1 1 1 1 1 1 1 1 1 1 1 0 0 0 0 0 0 0 0 0 0 0 0 0 0 0 0 0 0 0 0 0 0 0 0 0 0 0 0 0 0 0 0 0 0 0 0 0 0 0 0 0 0 0 0 0 0 0 0 0 0 0 0 0 0 0 0 0 0 0 0 0 0 0 0 0 0 0 0 0 0 0 0 0 0 0 0 0 0 0 0 0 0 0 0 0 0 0 0 0 0 0 0 0 0 0 0 0 0 0 0 0 0 0 0 0 0 0 0 0 0 0 0 0 0 0 0 0 0 0 0 0 0 0 0 0 0 0 0 0 0 0 0 0 0 0 0 0 0 0 0 0 0 0 0 0 0 0 0 0 0 0 0 0 0 0 0 0 0 0 0 0 0 0 0 0 0 0 0 0 0 0 0 0 0 0 0 0 0\n"
     ]
    },
    {
     "name": "stderr",
     "output_type": "stream",
     "text": [
      "INFO:tensorflow:input_mask: 1 1 1 1 1 1 1 1 1 1 1 1 1 1 1 1 1 1 1 1 1 1 1 1 1 1 1 1 1 1 1 1 1 1 1 1 1 1 1 1 1 1 1 1 1 1 1 1 1 1 1 1 1 1 1 1 1 1 1 1 1 1 1 1 1 1 1 1 1 1 1 1 1 1 1 1 1 1 0 0 0 0 0 0 0 0 0 0 0 0 0 0 0 0 0 0 0 0 0 0 0 0 0 0 0 0 0 0 0 0 0 0 0 0 0 0 0 0 0 0 0 0 0 0 0 0 0 0 0 0 0 0 0 0 0 0 0 0 0 0 0 0 0 0 0 0 0 0 0 0 0 0 0 0 0 0 0 0 0 0 0 0 0 0 0 0 0 0 0 0 0 0 0 0 0 0 0 0 0 0 0 0 0 0 0 0 0 0 0 0 0 0 0 0 0 0 0 0 0 0 0 0 0 0 0 0 0 0 0 0 0 0 0 0 0 0 0 0 0 0 0 0 0 0 0 0 0 0 0 0 0 0 0 0 0 0 0 0 0 0 0 0 0 0 0 0 0 0 0 0 0 0 0 0 0 0\n"
     ]
    },
    {
     "name": "stdout",
     "output_type": "stream",
     "text": [
      "INFO:tensorflow:segment_ids: 0 0 0 0 0 0 0 0 0 0 0 0 0 0 0 1 1 1 1 1 1 1 1 1 1 1 1 1 1 1 1 1 1 1 1 1 1 1 1 1 1 1 1 1 1 1 1 1 1 1 1 1 1 1 1 1 1 1 1 1 1 1 1 1 1 1 1 1 1 1 1 1 1 1 1 1 1 1 0 0 0 0 0 0 0 0 0 0 0 0 0 0 0 0 0 0 0 0 0 0 0 0 0 0 0 0 0 0 0 0 0 0 0 0 0 0 0 0 0 0 0 0 0 0 0 0 0 0 0 0 0 0 0 0 0 0 0 0 0 0 0 0 0 0 0 0 0 0 0 0 0 0 0 0 0 0 0 0 0 0 0 0 0 0 0 0 0 0 0 0 0 0 0 0 0 0 0 0 0 0 0 0 0 0 0 0 0 0 0 0 0 0 0 0 0 0 0 0 0 0 0 0 0 0 0 0 0 0 0 0 0 0 0 0 0 0 0 0 0 0 0 0 0 0 0 0 0 0 0 0 0 0 0 0 0 0 0 0 0 0 0 0 0 0 0 0 0 0 0 0 0 0 0 0 0 0\n"
     ]
    },
    {
     "name": "stderr",
     "output_type": "stream",
     "text": [
      "INFO:tensorflow:segment_ids: 0 0 0 0 0 0 0 0 0 0 0 0 0 0 0 1 1 1 1 1 1 1 1 1 1 1 1 1 1 1 1 1 1 1 1 1 1 1 1 1 1 1 1 1 1 1 1 1 1 1 1 1 1 1 1 1 1 1 1 1 1 1 1 1 1 1 1 1 1 1 1 1 1 1 1 1 1 1 0 0 0 0 0 0 0 0 0 0 0 0 0 0 0 0 0 0 0 0 0 0 0 0 0 0 0 0 0 0 0 0 0 0 0 0 0 0 0 0 0 0 0 0 0 0 0 0 0 0 0 0 0 0 0 0 0 0 0 0 0 0 0 0 0 0 0 0 0 0 0 0 0 0 0 0 0 0 0 0 0 0 0 0 0 0 0 0 0 0 0 0 0 0 0 0 0 0 0 0 0 0 0 0 0 0 0 0 0 0 0 0 0 0 0 0 0 0 0 0 0 0 0 0 0 0 0 0 0 0 0 0 0 0 0 0 0 0 0 0 0 0 0 0 0 0 0 0 0 0 0 0 0 0 0 0 0 0 0 0 0 0 0 0 0 0 0 0 0 0 0 0 0 0 0 0 0 0\n"
     ]
    },
    {
     "name": "stdout",
     "output_type": "stream",
     "text": [
      "INFO:tensorflow:label: [0, 0, 0, 0, 0] (id = [0, 0, 0, 0, 0])\n"
     ]
    },
    {
     "name": "stderr",
     "output_type": "stream",
     "text": [
      "INFO:tensorflow:label: [0, 0, 0, 0, 0] (id = [0, 0, 0, 0, 0])\n"
     ]
    },
    {
     "name": "stdout",
     "output_type": "stream",
     "text": [
      "INFO:tensorflow:*** Example ***\n"
     ]
    },
    {
     "name": "stderr",
     "output_type": "stream",
     "text": [
      "INFO:tensorflow:*** Example ***\n"
     ]
    },
    {
     "name": "stdout",
     "output_type": "stream",
     "text": [
      "INFO:tensorflow:guid: \n"
     ]
    },
    {
     "name": "stderr",
     "output_type": "stream",
     "text": [
      "INFO:tensorflow:guid: \n"
     ]
    },
    {
     "name": "stdout",
     "output_type": "stream",
     "text": [
      "INFO:tensorflow:tokens: [CLS] competing in the open market [SEP] a farm business advis ##or for the mal ##awi ministry of agriculture explains how the opening of borders to zi ##mb ##ab ##we ##an egg producers has affected mal ##awi ##an farmers . he encourages farmers to form groups in order to increase their competitiveness , and to reduce their reliance on imported inputs , such as chicken feeds [SEP]\n"
     ]
    },
    {
     "name": "stderr",
     "output_type": "stream",
     "text": [
      "INFO:tensorflow:tokens: [CLS] competing in the open market [SEP] a farm business advis ##or for the mal ##awi ministry of agriculture explains how the opening of borders to zi ##mb ##ab ##we ##an egg producers has affected mal ##awi ##an farmers . he encourages farmers to form groups in order to increase their competitiveness , and to reduce their reliance on imported inputs , such as chicken feeds [SEP]\n"
     ]
    },
    {
     "name": "stdout",
     "output_type": "stream",
     "text": [
      "INFO:tensorflow:input_ids: 102 7269 121 111 1937 2753 103 106 5947 3948 14863 122 168 111 1774 18265 9795 131 9879 11175 539 111 9562 131 19487 147 10053 9111 201 1587 133 6913 15793 434 3407 1774 18265 133 12288 205 299 27162 12288 147 592 1302 121 993 147 1242 547 23035 422 137 147 2637 547 22321 191 19987 5671 422 555 188 14935 24258 103 0 0 0 0 0 0 0 0 0 0 0 0 0 0 0 0 0 0 0 0 0 0 0 0 0 0 0 0 0 0 0 0 0 0 0 0 0 0 0 0 0 0 0 0 0 0 0 0 0 0 0 0 0 0 0 0 0 0 0 0 0 0 0 0 0 0 0 0 0 0 0 0 0 0 0 0 0 0 0 0 0 0 0 0 0 0 0 0 0 0 0 0 0 0 0 0 0 0 0 0 0 0 0 0 0 0 0 0 0 0 0 0 0 0 0 0 0 0 0 0 0 0 0 0 0 0 0 0 0 0 0 0 0 0 0 0 0 0 0 0 0 0 0 0 0 0 0 0 0 0 0 0 0 0 0 0 0 0 0 0 0 0 0 0 0 0 0 0 0 0 0 0 0 0 0 0 0 0 0 0 0 0 0 0 0 0 0 0 0\n"
     ]
    },
    {
     "name": "stderr",
     "output_type": "stream",
     "text": [
      "INFO:tensorflow:input_ids: 102 7269 121 111 1937 2753 103 106 5947 3948 14863 122 168 111 1774 18265 9795 131 9879 11175 539 111 9562 131 19487 147 10053 9111 201 1587 133 6913 15793 434 3407 1774 18265 133 12288 205 299 27162 12288 147 592 1302 121 993 147 1242 547 23035 422 137 147 2637 547 22321 191 19987 5671 422 555 188 14935 24258 103 0 0 0 0 0 0 0 0 0 0 0 0 0 0 0 0 0 0 0 0 0 0 0 0 0 0 0 0 0 0 0 0 0 0 0 0 0 0 0 0 0 0 0 0 0 0 0 0 0 0 0 0 0 0 0 0 0 0 0 0 0 0 0 0 0 0 0 0 0 0 0 0 0 0 0 0 0 0 0 0 0 0 0 0 0 0 0 0 0 0 0 0 0 0 0 0 0 0 0 0 0 0 0 0 0 0 0 0 0 0 0 0 0 0 0 0 0 0 0 0 0 0 0 0 0 0 0 0 0 0 0 0 0 0 0 0 0 0 0 0 0 0 0 0 0 0 0 0 0 0 0 0 0 0 0 0 0 0 0 0 0 0 0 0 0 0 0 0 0 0 0 0 0 0 0 0 0 0 0 0 0 0 0 0 0 0 0 0 0\n"
     ]
    },
    {
     "name": "stdout",
     "output_type": "stream",
     "text": [
      "INFO:tensorflow:input_mask: 1 1 1 1 1 1 1 1 1 1 1 1 1 1 1 1 1 1 1 1 1 1 1 1 1 1 1 1 1 1 1 1 1 1 1 1 1 1 1 1 1 1 1 1 1 1 1 1 1 1 1 1 1 1 1 1 1 1 1 1 1 1 1 1 1 1 1 0 0 0 0 0 0 0 0 0 0 0 0 0 0 0 0 0 0 0 0 0 0 0 0 0 0 0 0 0 0 0 0 0 0 0 0 0 0 0 0 0 0 0 0 0 0 0 0 0 0 0 0 0 0 0 0 0 0 0 0 0 0 0 0 0 0 0 0 0 0 0 0 0 0 0 0 0 0 0 0 0 0 0 0 0 0 0 0 0 0 0 0 0 0 0 0 0 0 0 0 0 0 0 0 0 0 0 0 0 0 0 0 0 0 0 0 0 0 0 0 0 0 0 0 0 0 0 0 0 0 0 0 0 0 0 0 0 0 0 0 0 0 0 0 0 0 0 0 0 0 0 0 0 0 0 0 0 0 0 0 0 0 0 0 0 0 0 0 0 0 0 0 0 0 0 0 0 0 0 0 0 0 0 0 0 0 0 0 0\n"
     ]
    },
    {
     "name": "stderr",
     "output_type": "stream",
     "text": [
      "INFO:tensorflow:input_mask: 1 1 1 1 1 1 1 1 1 1 1 1 1 1 1 1 1 1 1 1 1 1 1 1 1 1 1 1 1 1 1 1 1 1 1 1 1 1 1 1 1 1 1 1 1 1 1 1 1 1 1 1 1 1 1 1 1 1 1 1 1 1 1 1 1 1 1 0 0 0 0 0 0 0 0 0 0 0 0 0 0 0 0 0 0 0 0 0 0 0 0 0 0 0 0 0 0 0 0 0 0 0 0 0 0 0 0 0 0 0 0 0 0 0 0 0 0 0 0 0 0 0 0 0 0 0 0 0 0 0 0 0 0 0 0 0 0 0 0 0 0 0 0 0 0 0 0 0 0 0 0 0 0 0 0 0 0 0 0 0 0 0 0 0 0 0 0 0 0 0 0 0 0 0 0 0 0 0 0 0 0 0 0 0 0 0 0 0 0 0 0 0 0 0 0 0 0 0 0 0 0 0 0 0 0 0 0 0 0 0 0 0 0 0 0 0 0 0 0 0 0 0 0 0 0 0 0 0 0 0 0 0 0 0 0 0 0 0 0 0 0 0 0 0 0 0 0 0 0 0 0 0 0 0 0 0\n"
     ]
    },
    {
     "name": "stdout",
     "output_type": "stream",
     "text": [
      "INFO:tensorflow:segment_ids: 0 0 0 0 0 0 0 1 1 1 1 1 1 1 1 1 1 1 1 1 1 1 1 1 1 1 1 1 1 1 1 1 1 1 1 1 1 1 1 1 1 1 1 1 1 1 1 1 1 1 1 1 1 1 1 1 1 1 1 1 1 1 1 1 1 1 1 0 0 0 0 0 0 0 0 0 0 0 0 0 0 0 0 0 0 0 0 0 0 0 0 0 0 0 0 0 0 0 0 0 0 0 0 0 0 0 0 0 0 0 0 0 0 0 0 0 0 0 0 0 0 0 0 0 0 0 0 0 0 0 0 0 0 0 0 0 0 0 0 0 0 0 0 0 0 0 0 0 0 0 0 0 0 0 0 0 0 0 0 0 0 0 0 0 0 0 0 0 0 0 0 0 0 0 0 0 0 0 0 0 0 0 0 0 0 0 0 0 0 0 0 0 0 0 0 0 0 0 0 0 0 0 0 0 0 0 0 0 0 0 0 0 0 0 0 0 0 0 0 0 0 0 0 0 0 0 0 0 0 0 0 0 0 0 0 0 0 0 0 0 0 0 0 0 0 0 0 0 0 0 0 0 0 0 0 0\n"
     ]
    },
    {
     "name": "stderr",
     "output_type": "stream",
     "text": [
      "INFO:tensorflow:segment_ids: 0 0 0 0 0 0 0 1 1 1 1 1 1 1 1 1 1 1 1 1 1 1 1 1 1 1 1 1 1 1 1 1 1 1 1 1 1 1 1 1 1 1 1 1 1 1 1 1 1 1 1 1 1 1 1 1 1 1 1 1 1 1 1 1 1 1 1 0 0 0 0 0 0 0 0 0 0 0 0 0 0 0 0 0 0 0 0 0 0 0 0 0 0 0 0 0 0 0 0 0 0 0 0 0 0 0 0 0 0 0 0 0 0 0 0 0 0 0 0 0 0 0 0 0 0 0 0 0 0 0 0 0 0 0 0 0 0 0 0 0 0 0 0 0 0 0 0 0 0 0 0 0 0 0 0 0 0 0 0 0 0 0 0 0 0 0 0 0 0 0 0 0 0 0 0 0 0 0 0 0 0 0 0 0 0 0 0 0 0 0 0 0 0 0 0 0 0 0 0 0 0 0 0 0 0 0 0 0 0 0 0 0 0 0 0 0 0 0 0 0 0 0 0 0 0 0 0 0 0 0 0 0 0 0 0 0 0 0 0 0 0 0 0 0 0 0 0 0 0 0 0 0 0 0 0 0\n"
     ]
    },
    {
     "name": "stdout",
     "output_type": "stream",
     "text": [
      "INFO:tensorflow:label: [0, 0, 0, 0, 0] (id = [0, 0, 0, 0, 0])\n"
     ]
    },
    {
     "name": "stderr",
     "output_type": "stream",
     "text": [
      "INFO:tensorflow:label: [0, 0, 0, 0, 0] (id = [0, 0, 0, 0, 0])\n"
     ]
    },
    {
     "name": "stdout",
     "output_type": "stream",
     "text": [
      "INFO:tensorflow:Calling model_fn.\n"
     ]
    },
    {
     "name": "stderr",
     "output_type": "stream",
     "text": [
      "INFO:tensorflow:Calling model_fn.\n"
     ]
    },
    {
     "name": "stdout",
     "output_type": "stream",
     "text": [
      "Used for model gpu 0\n",
      "INFO:tensorflow:Done calling model_fn.\n"
     ]
    },
    {
     "name": "stderr",
     "output_type": "stream",
     "text": [
      "INFO:tensorflow:Done calling model_fn.\n"
     ]
    },
    {
     "name": "stdout",
     "output_type": "stream",
     "text": [
      "INFO:tensorflow:Graph was finalized.\n"
     ]
    },
    {
     "name": "stderr",
     "output_type": "stream",
     "text": [
      "INFO:tensorflow:Graph was finalized.\n"
     ]
    },
    {
     "name": "stdout",
     "output_type": "stream",
     "text": [
      "INFO:tensorflow:Restoring parameters from ../model/study_type_multi/model.ckpt-2000\n"
     ]
    },
    {
     "name": "stderr",
     "output_type": "stream",
     "text": [
      "INFO:tensorflow:Restoring parameters from ../model/study_type_multi/model.ckpt-2000\n"
     ]
    },
    {
     "name": "stdout",
     "output_type": "stream",
     "text": [
      "INFO:tensorflow:Running local_init_op.\n"
     ]
    },
    {
     "name": "stderr",
     "output_type": "stream",
     "text": [
      "INFO:tensorflow:Running local_init_op.\n"
     ]
    },
    {
     "name": "stdout",
     "output_type": "stream",
     "text": [
      "INFO:tensorflow:Done running local_init_op.\n"
     ]
    },
    {
     "name": "stderr",
     "output_type": "stream",
     "text": [
      "INFO:tensorflow:Done running local_init_op.\n"
     ]
    },
    {
     "name": "stdout",
     "output_type": "stream",
     "text": [
      "INFO:tensorflow:Writing example 0 of 285\n"
     ]
    },
    {
     "name": "stderr",
     "output_type": "stream",
     "text": [
      "INFO:tensorflow:Writing example 0 of 285\n"
     ]
    },
    {
     "name": "stdout",
     "output_type": "stream",
     "text": [
      "INFO:tensorflow:*** Example ***\n"
     ]
    },
    {
     "name": "stderr",
     "output_type": "stream",
     "text": [
      "INFO:tensorflow:*** Example ***\n"
     ]
    },
    {
     "name": "stdout",
     "output_type": "stream",
     "text": [
      "INFO:tensorflow:guid: \n"
     ]
    },
    {
     "name": "stderr",
     "output_type": "stream",
     "text": [
      "INFO:tensorflow:guid: \n"
     ]
    },
    {
     "name": "stdout",
     "output_type": "stream",
     "text": [
      "INFO:tensorflow:tokens: [CLS] 2018 - using insurance to protect farmers against drought in sen ##eg ##al [SEP] the international fund for agricultural development ( if ##ad ) and the world food programme ( wf ##p ) have joined forces to help make weather index insurance available to farmers in sen ##eg ##al . read more about how index insurance is an important tool that helps poor small ##holder farmers cope with increasing climate risks and provides support when crop losses occur as a result of drought [SEP]\n"
     ]
    },
    {
     "name": "stderr",
     "output_type": "stream",
     "text": [
      "INFO:tensorflow:tokens: [CLS] 2018 - using insurance to protect farmers against drought in sen ##eg ##al [SEP] the international fund for agricultural development ( if ##ad ) and the world food programme ( wf ##p ) have joined forces to help make weather index insurance available to farmers in sen ##eg ##al . read more about how index insurance is an important tool that helps poor small ##holder farmers cope with increasing climate risks and provides support when crop losses occur as a result of drought [SEP]\n"
     ]
    },
    {
     "name": "stdout",
     "output_type": "stream",
     "text": [
      "INFO:tensorflow:input_ids: 102 7491 579 487 8564 147 8986 12288 2089 13509 121 1311 4980 120 103 111 2565 2244 168 7675 1120 145 543 213 546 137 111 2399 2599 8547 145 18190 30121 546 360 18149 5862 147 2279 2113 10844 2018 8564 1427 147 12288 121 1311 4980 120 205 1757 475 1011 539 2018 8564 165 130 1060 3130 198 8978 3228 952 13643 12288 14649 190 1953 6002 6733 137 2315 1385 603 8501 6914 1259 188 106 1186 131 13509 103 0 0 0 0 0 0 0 0 0 0 0 0 0 0 0 0 0 0 0 0 0 0 0 0 0 0 0 0 0 0 0 0 0 0 0 0 0 0 0 0 0 0 0 0 0 0 0 0 0 0 0 0 0 0 0 0 0 0 0 0 0 0 0 0 0 0 0 0 0 0 0 0 0 0 0 0 0 0 0 0 0 0 0 0 0 0 0 0 0 0 0 0 0 0 0 0 0 0 0 0 0 0 0 0 0 0 0 0 0 0 0 0 0 0 0 0 0 0 0 0 0 0 0 0 0 0 0 0 0 0 0 0 0 0 0 0 0 0 0 0 0 0 0 0 0 0 0 0 0 0 0 0 0 0 0 0 0 0 0 0 0 0 0 0 0 0 0 0 0 0 0\n"
     ]
    },
    {
     "name": "stderr",
     "output_type": "stream",
     "text": [
      "INFO:tensorflow:input_ids: 102 7491 579 487 8564 147 8986 12288 2089 13509 121 1311 4980 120 103 111 2565 2244 168 7675 1120 145 543 213 546 137 111 2399 2599 8547 145 18190 30121 546 360 18149 5862 147 2279 2113 10844 2018 8564 1427 147 12288 121 1311 4980 120 205 1757 475 1011 539 2018 8564 165 130 1060 3130 198 8978 3228 952 13643 12288 14649 190 1953 6002 6733 137 2315 1385 603 8501 6914 1259 188 106 1186 131 13509 103 0 0 0 0 0 0 0 0 0 0 0 0 0 0 0 0 0 0 0 0 0 0 0 0 0 0 0 0 0 0 0 0 0 0 0 0 0 0 0 0 0 0 0 0 0 0 0 0 0 0 0 0 0 0 0 0 0 0 0 0 0 0 0 0 0 0 0 0 0 0 0 0 0 0 0 0 0 0 0 0 0 0 0 0 0 0 0 0 0 0 0 0 0 0 0 0 0 0 0 0 0 0 0 0 0 0 0 0 0 0 0 0 0 0 0 0 0 0 0 0 0 0 0 0 0 0 0 0 0 0 0 0 0 0 0 0 0 0 0 0 0 0 0 0 0 0 0 0 0 0 0 0 0 0 0 0 0 0 0 0 0 0 0 0 0 0 0 0 0 0 0\n"
     ]
    },
    {
     "name": "stdout",
     "output_type": "stream",
     "text": [
      "INFO:tensorflow:input_mask: 1 1 1 1 1 1 1 1 1 1 1 1 1 1 1 1 1 1 1 1 1 1 1 1 1 1 1 1 1 1 1 1 1 1 1 1 1 1 1 1 1 1 1 1 1 1 1 1 1 1 1 1 1 1 1 1 1 1 1 1 1 1 1 1 1 1 1 1 1 1 1 1 1 1 1 1 1 1 1 1 1 1 1 1 1 0 0 0 0 0 0 0 0 0 0 0 0 0 0 0 0 0 0 0 0 0 0 0 0 0 0 0 0 0 0 0 0 0 0 0 0 0 0 0 0 0 0 0 0 0 0 0 0 0 0 0 0 0 0 0 0 0 0 0 0 0 0 0 0 0 0 0 0 0 0 0 0 0 0 0 0 0 0 0 0 0 0 0 0 0 0 0 0 0 0 0 0 0 0 0 0 0 0 0 0 0 0 0 0 0 0 0 0 0 0 0 0 0 0 0 0 0 0 0 0 0 0 0 0 0 0 0 0 0 0 0 0 0 0 0 0 0 0 0 0 0 0 0 0 0 0 0 0 0 0 0 0 0 0 0 0 0 0 0 0 0 0 0 0 0 0 0 0 0 0 0\n"
     ]
    },
    {
     "name": "stderr",
     "output_type": "stream",
     "text": [
      "INFO:tensorflow:input_mask: 1 1 1 1 1 1 1 1 1 1 1 1 1 1 1 1 1 1 1 1 1 1 1 1 1 1 1 1 1 1 1 1 1 1 1 1 1 1 1 1 1 1 1 1 1 1 1 1 1 1 1 1 1 1 1 1 1 1 1 1 1 1 1 1 1 1 1 1 1 1 1 1 1 1 1 1 1 1 1 1 1 1 1 1 1 0 0 0 0 0 0 0 0 0 0 0 0 0 0 0 0 0 0 0 0 0 0 0 0 0 0 0 0 0 0 0 0 0 0 0 0 0 0 0 0 0 0 0 0 0 0 0 0 0 0 0 0 0 0 0 0 0 0 0 0 0 0 0 0 0 0 0 0 0 0 0 0 0 0 0 0 0 0 0 0 0 0 0 0 0 0 0 0 0 0 0 0 0 0 0 0 0 0 0 0 0 0 0 0 0 0 0 0 0 0 0 0 0 0 0 0 0 0 0 0 0 0 0 0 0 0 0 0 0 0 0 0 0 0 0 0 0 0 0 0 0 0 0 0 0 0 0 0 0 0 0 0 0 0 0 0 0 0 0 0 0 0 0 0 0 0 0 0 0 0 0\n"
     ]
    },
    {
     "name": "stdout",
     "output_type": "stream",
     "text": [
      "INFO:tensorflow:segment_ids: 0 0 0 0 0 0 0 0 0 0 0 0 0 0 0 1 1 1 1 1 1 1 1 1 1 1 1 1 1 1 1 1 1 1 1 1 1 1 1 1 1 1 1 1 1 1 1 1 1 1 1 1 1 1 1 1 1 1 1 1 1 1 1 1 1 1 1 1 1 1 1 1 1 1 1 1 1 1 1 1 1 1 1 1 1 0 0 0 0 0 0 0 0 0 0 0 0 0 0 0 0 0 0 0 0 0 0 0 0 0 0 0 0 0 0 0 0 0 0 0 0 0 0 0 0 0 0 0 0 0 0 0 0 0 0 0 0 0 0 0 0 0 0 0 0 0 0 0 0 0 0 0 0 0 0 0 0 0 0 0 0 0 0 0 0 0 0 0 0 0 0 0 0 0 0 0 0 0 0 0 0 0 0 0 0 0 0 0 0 0 0 0 0 0 0 0 0 0 0 0 0 0 0 0 0 0 0 0 0 0 0 0 0 0 0 0 0 0 0 0 0 0 0 0 0 0 0 0 0 0 0 0 0 0 0 0 0 0 0 0 0 0 0 0 0 0 0 0 0 0 0 0 0 0 0 0\n"
     ]
    },
    {
     "name": "stderr",
     "output_type": "stream",
     "text": [
      "INFO:tensorflow:segment_ids: 0 0 0 0 0 0 0 0 0 0 0 0 0 0 0 1 1 1 1 1 1 1 1 1 1 1 1 1 1 1 1 1 1 1 1 1 1 1 1 1 1 1 1 1 1 1 1 1 1 1 1 1 1 1 1 1 1 1 1 1 1 1 1 1 1 1 1 1 1 1 1 1 1 1 1 1 1 1 1 1 1 1 1 1 1 0 0 0 0 0 0 0 0 0 0 0 0 0 0 0 0 0 0 0 0 0 0 0 0 0 0 0 0 0 0 0 0 0 0 0 0 0 0 0 0 0 0 0 0 0 0 0 0 0 0 0 0 0 0 0 0 0 0 0 0 0 0 0 0 0 0 0 0 0 0 0 0 0 0 0 0 0 0 0 0 0 0 0 0 0 0 0 0 0 0 0 0 0 0 0 0 0 0 0 0 0 0 0 0 0 0 0 0 0 0 0 0 0 0 0 0 0 0 0 0 0 0 0 0 0 0 0 0 0 0 0 0 0 0 0 0 0 0 0 0 0 0 0 0 0 0 0 0 0 0 0 0 0 0 0 0 0 0 0 0 0 0 0 0 0 0 0 0 0 0 0\n"
     ]
    },
    {
     "name": "stdout",
     "output_type": "stream",
     "text": [
      "INFO:tensorflow:label: [0, 0, 0, 0, 0] (id = [0, 0, 0, 0, 0])\n"
     ]
    },
    {
     "name": "stderr",
     "output_type": "stream",
     "text": [
      "INFO:tensorflow:label: [0, 0, 0, 0, 0] (id = [0, 0, 0, 0, 0])\n"
     ]
    },
    {
     "name": "stdout",
     "output_type": "stream",
     "text": [
      "INFO:tensorflow:*** Example ***\n"
     ]
    },
    {
     "name": "stderr",
     "output_type": "stream",
     "text": [
      "INFO:tensorflow:*** Example ***\n"
     ]
    },
    {
     "name": "stdout",
     "output_type": "stream",
     "text": [
      "INFO:tensorflow:guid: \n"
     ]
    },
    {
     "name": "stderr",
     "output_type": "stream",
     "text": [
      "INFO:tensorflow:guid: \n"
     ]
    },
    {
     "name": "stdout",
     "output_type": "stream",
     "text": [
      "INFO:tensorflow:tokens: [CLS] the practices of contract farming among fresh fruit and vegetable suppliers in malaysia [SEP] in the latest strategy by government to improve the vegetable and fruit production . approach : the overall objective of this study was to examine cf as the new marketing practice among selected vegetable and fruit suppliers . the specific objectives of the study were : ( 1 ) to examine the respondents perception towards cf ; ( 2 ) to identify respondents practices toward the cf and ( 3 ) to suggest a policy to ensure the sustainability of cf . results : out of 208 of the total respondents selected in the study , 41 suppliers were involved in cf . the data were analyzed using spss to describe the respondents profile and current supply chain practices . at present , the suppliers have a contract agreement with federal agriculture marketing authority ( fam ##a ) and fam ##a has a contr act agreement with hyper ##market ##s . it is presumed that there is a new supply chain network but the contract was not according to the fa ##o definition . the production and marketing contracts exist in non - formal or mainly verbal agreement . the production contract respondents also did not follow the criteria of cf . conclusion : because of this , all the non - formal production contracts in this survey are categorized into marketing contracts . this study concludes with the absence of proper farming contract between farmers and hyper ##market ##s [SEP]\n"
     ]
    },
    {
     "name": "stderr",
     "output_type": "stream",
     "text": [
      "INFO:tensorflow:tokens: [CLS] the practices of contract farming among fresh fruit and vegetable suppliers in malaysia [SEP] in the latest strategy by government to improve the vegetable and fruit production . approach : the overall objective of this study was to examine cf as the new marketing practice among selected vegetable and fruit suppliers . the specific objectives of the study were : ( 1 ) to examine the respondents perception towards cf ; ( 2 ) to identify respondents practices toward the cf and ( 3 ) to suggest a policy to ensure the sustainability of cf . results : out of 208 of the total respondents selected in the study , 41 suppliers were involved in cf . the data were analyzed using spss to describe the respondents profile and current supply chain practices . at present , the suppliers have a contract agreement with federal agriculture marketing authority ( fam ##a ) and fam ##a has a contr act agreement with hyper ##market ##s . it is presumed that there is a new supply chain network but the contract was not according to the fa ##o definition . the production and marketing contracts exist in non - formal or mainly verbal agreement . the production contract respondents also did not follow the criteria of cf . conclusion : because of this , all the non - formal production contracts in this survey are categorized into marketing contracts . this study concludes with the absence of proper farming contract between farmers and hyper ##market ##s [SEP]\n"
     ]
    },
    {
     "name": "stdout",
     "output_type": "stream",
     "text": [
      "INFO:tensorflow:input_ids: 102 111 5423 131 6610 19323 1247 5893 8235 137 20288 17199 121 17761 103 121 111 13905 2691 214 4270 147 1658 111 20288 137 8235 1865 205 1139 862 111 2103 3201 131 238 527 241 147 4423 4645 188 111 758 10644 2794 1247 2350 20288 137 8235 17199 205 111 1154 6454 131 111 527 267 862 145 158 546 147 4423 111 6634 6028 3834 4645 1814 145 170 546 147 2743 6634 5423 2536 111 4645 137 145 239 546 147 1739 106 2951 147 4207 111 13591 131 4645 205 545 862 556 131 20645 131 111 1114 6634 2350 121 111 527 422 5220 17199 267 2296 121 4645 205 111 453 267 2549 487 13303 147 3401 111 6634 3822 137 1073 4494 3590 5423 205 235 709 422 111 17199 360 106 6610 4111 190 8012 9879 10644 11226 145 1651 30110 546 137 1651 30110 434 106 1253 1438 4111 190 1884 19425 30113 205 256 165 18515 198 461 165 106 758 4494 3590 934 563 111 6610 241 302 1425 147 111 2016 30112 2248 205 111 1865 137 10644 13612 1730 121 699 579 3805 234 3680 10774 4111 205 111 1865 6610 6634 469 1544 302 589 111 3009 131 4645 205 1705 862 923 131 238 422 355 111 699 579 3805 1865 13612 121 238 3241 220 12622 690 10644 13612 205 238 527 13868 190 111 3334 131 1193 19323 6610 467 12288 137 1884 19425 30113 103\n"
     ]
    },
    {
     "name": "stderr",
     "output_type": "stream",
     "text": [
      "INFO:tensorflow:input_ids: 102 111 5423 131 6610 19323 1247 5893 8235 137 20288 17199 121 17761 103 121 111 13905 2691 214 4270 147 1658 111 20288 137 8235 1865 205 1139 862 111 2103 3201 131 238 527 241 147 4423 4645 188 111 758 10644 2794 1247 2350 20288 137 8235 17199 205 111 1154 6454 131 111 527 267 862 145 158 546 147 4423 111 6634 6028 3834 4645 1814 145 170 546 147 2743 6634 5423 2536 111 4645 137 145 239 546 147 1739 106 2951 147 4207 111 13591 131 4645 205 545 862 556 131 20645 131 111 1114 6634 2350 121 111 527 422 5220 17199 267 2296 121 4645 205 111 453 267 2549 487 13303 147 3401 111 6634 3822 137 1073 4494 3590 5423 205 235 709 422 111 17199 360 106 6610 4111 190 8012 9879 10644 11226 145 1651 30110 546 137 1651 30110 434 106 1253 1438 4111 190 1884 19425 30113 205 256 165 18515 198 461 165 106 758 4494 3590 934 563 111 6610 241 302 1425 147 111 2016 30112 2248 205 111 1865 137 10644 13612 1730 121 699 579 3805 234 3680 10774 4111 205 111 1865 6610 6634 469 1544 302 589 111 3009 131 4645 205 1705 862 923 131 238 422 355 111 699 579 3805 1865 13612 121 238 3241 220 12622 690 10644 13612 205 238 527 13868 190 111 3334 131 1193 19323 6610 467 12288 137 1884 19425 30113 103\n"
     ]
    },
    {
     "name": "stdout",
     "output_type": "stream",
     "text": [
      "INFO:tensorflow:input_mask: 1 1 1 1 1 1 1 1 1 1 1 1 1 1 1 1 1 1 1 1 1 1 1 1 1 1 1 1 1 1 1 1 1 1 1 1 1 1 1 1 1 1 1 1 1 1 1 1 1 1 1 1 1 1 1 1 1 1 1 1 1 1 1 1 1 1 1 1 1 1 1 1 1 1 1 1 1 1 1 1 1 1 1 1 1 1 1 1 1 1 1 1 1 1 1 1 1 1 1 1 1 1 1 1 1 1 1 1 1 1 1 1 1 1 1 1 1 1 1 1 1 1 1 1 1 1 1 1 1 1 1 1 1 1 1 1 1 1 1 1 1 1 1 1 1 1 1 1 1 1 1 1 1 1 1 1 1 1 1 1 1 1 1 1 1 1 1 1 1 1 1 1 1 1 1 1 1 1 1 1 1 1 1 1 1 1 1 1 1 1 1 1 1 1 1 1 1 1 1 1 1 1 1 1 1 1 1 1 1 1 1 1 1 1 1 1 1 1 1 1 1 1 1 1 1 1 1 1 1 1 1 1 1 1 1 1 1 1 1 1 1 1 1 1 1 1 1 1 1 1 1 1 1 1 1 1\n"
     ]
    },
    {
     "name": "stderr",
     "output_type": "stream",
     "text": [
      "INFO:tensorflow:input_mask: 1 1 1 1 1 1 1 1 1 1 1 1 1 1 1 1 1 1 1 1 1 1 1 1 1 1 1 1 1 1 1 1 1 1 1 1 1 1 1 1 1 1 1 1 1 1 1 1 1 1 1 1 1 1 1 1 1 1 1 1 1 1 1 1 1 1 1 1 1 1 1 1 1 1 1 1 1 1 1 1 1 1 1 1 1 1 1 1 1 1 1 1 1 1 1 1 1 1 1 1 1 1 1 1 1 1 1 1 1 1 1 1 1 1 1 1 1 1 1 1 1 1 1 1 1 1 1 1 1 1 1 1 1 1 1 1 1 1 1 1 1 1 1 1 1 1 1 1 1 1 1 1 1 1 1 1 1 1 1 1 1 1 1 1 1 1 1 1 1 1 1 1 1 1 1 1 1 1 1 1 1 1 1 1 1 1 1 1 1 1 1 1 1 1 1 1 1 1 1 1 1 1 1 1 1 1 1 1 1 1 1 1 1 1 1 1 1 1 1 1 1 1 1 1 1 1 1 1 1 1 1 1 1 1 1 1 1 1 1 1 1 1 1 1 1 1 1 1 1 1 1 1 1 1 1 1\n"
     ]
    },
    {
     "name": "stdout",
     "output_type": "stream",
     "text": [
      "INFO:tensorflow:segment_ids: 0 0 0 0 0 0 0 0 0 0 0 0 0 0 0 1 1 1 1 1 1 1 1 1 1 1 1 1 1 1 1 1 1 1 1 1 1 1 1 1 1 1 1 1 1 1 1 1 1 1 1 1 1 1 1 1 1 1 1 1 1 1 1 1 1 1 1 1 1 1 1 1 1 1 1 1 1 1 1 1 1 1 1 1 1 1 1 1 1 1 1 1 1 1 1 1 1 1 1 1 1 1 1 1 1 1 1 1 1 1 1 1 1 1 1 1 1 1 1 1 1 1 1 1 1 1 1 1 1 1 1 1 1 1 1 1 1 1 1 1 1 1 1 1 1 1 1 1 1 1 1 1 1 1 1 1 1 1 1 1 1 1 1 1 1 1 1 1 1 1 1 1 1 1 1 1 1 1 1 1 1 1 1 1 1 1 1 1 1 1 1 1 1 1 1 1 1 1 1 1 1 1 1 1 1 1 1 1 1 1 1 1 1 1 1 1 1 1 1 1 1 1 1 1 1 1 1 1 1 1 1 1 1 1 1 1 1 1 1 1 1 1 1 1 1 1 1 1 1 1 1 1 1 1 1 1\n"
     ]
    },
    {
     "name": "stderr",
     "output_type": "stream",
     "text": [
      "INFO:tensorflow:segment_ids: 0 0 0 0 0 0 0 0 0 0 0 0 0 0 0 1 1 1 1 1 1 1 1 1 1 1 1 1 1 1 1 1 1 1 1 1 1 1 1 1 1 1 1 1 1 1 1 1 1 1 1 1 1 1 1 1 1 1 1 1 1 1 1 1 1 1 1 1 1 1 1 1 1 1 1 1 1 1 1 1 1 1 1 1 1 1 1 1 1 1 1 1 1 1 1 1 1 1 1 1 1 1 1 1 1 1 1 1 1 1 1 1 1 1 1 1 1 1 1 1 1 1 1 1 1 1 1 1 1 1 1 1 1 1 1 1 1 1 1 1 1 1 1 1 1 1 1 1 1 1 1 1 1 1 1 1 1 1 1 1 1 1 1 1 1 1 1 1 1 1 1 1 1 1 1 1 1 1 1 1 1 1 1 1 1 1 1 1 1 1 1 1 1 1 1 1 1 1 1 1 1 1 1 1 1 1 1 1 1 1 1 1 1 1 1 1 1 1 1 1 1 1 1 1 1 1 1 1 1 1 1 1 1 1 1 1 1 1 1 1 1 1 1 1 1 1 1 1 1 1 1 1 1 1 1 1\n"
     ]
    },
    {
     "name": "stdout",
     "output_type": "stream",
     "text": [
      "INFO:tensorflow:label: [0, 0, 0, 0, 0] (id = [0, 0, 0, 0, 0])\n"
     ]
    },
    {
     "name": "stderr",
     "output_type": "stream",
     "text": [
      "INFO:tensorflow:label: [0, 0, 0, 0, 0] (id = [0, 0, 0, 0, 0])\n"
     ]
    },
    {
     "name": "stdout",
     "output_type": "stream",
     "text": [
      "INFO:tensorflow:*** Example ***\n"
     ]
    },
    {
     "name": "stderr",
     "output_type": "stream",
     "text": [
      "INFO:tensorflow:*** Example ***\n"
     ]
    },
    {
     "name": "stdout",
     "output_type": "stream",
     "text": [
      "INFO:tensorflow:guid: \n"
     ]
    },
    {
     "name": "stderr",
     "output_type": "stream",
     "text": [
      "INFO:tensorflow:guid: \n"
     ]
    },
    {
     "name": "stdout",
     "output_type": "stream",
     "text": [
      "INFO:tensorflow:tokens: [CLS] competing in the open market [SEP] a farm business advis ##or for the mal ##awi ministry of agriculture explains how the opening of borders to zi ##mb ##ab ##we ##an egg producers has affected mal ##awi ##an farmers . he encourages farmers to form groups in order to increase their competitiveness , and to reduce their reliance on imported inputs , such as chicken feeds [SEP]\n"
     ]
    },
    {
     "name": "stderr",
     "output_type": "stream",
     "text": [
      "INFO:tensorflow:tokens: [CLS] competing in the open market [SEP] a farm business advis ##or for the mal ##awi ministry of agriculture explains how the opening of borders to zi ##mb ##ab ##we ##an egg producers has affected mal ##awi ##an farmers . he encourages farmers to form groups in order to increase their competitiveness , and to reduce their reliance on imported inputs , such as chicken feeds [SEP]\n"
     ]
    },
    {
     "name": "stdout",
     "output_type": "stream",
     "text": [
      "INFO:tensorflow:input_ids: 102 7269 121 111 1937 2753 103 106 5947 3948 14863 122 168 111 1774 18265 9795 131 9879 11175 539 111 9562 131 19487 147 10053 9111 201 1587 133 6913 15793 434 3407 1774 18265 133 12288 205 299 27162 12288 147 592 1302 121 993 147 1242 547 23035 422 137 147 2637 547 22321 191 19987 5671 422 555 188 14935 24258 103 0 0 0 0 0 0 0 0 0 0 0 0 0 0 0 0 0 0 0 0 0 0 0 0 0 0 0 0 0 0 0 0 0 0 0 0 0 0 0 0 0 0 0 0 0 0 0 0 0 0 0 0 0 0 0 0 0 0 0 0 0 0 0 0 0 0 0 0 0 0 0 0 0 0 0 0 0 0 0 0 0 0 0 0 0 0 0 0 0 0 0 0 0 0 0 0 0 0 0 0 0 0 0 0 0 0 0 0 0 0 0 0 0 0 0 0 0 0 0 0 0 0 0 0 0 0 0 0 0 0 0 0 0 0 0 0 0 0 0 0 0 0 0 0 0 0 0 0 0 0 0 0 0 0 0 0 0 0 0 0 0 0 0 0 0 0 0 0 0 0 0 0 0 0 0 0 0 0 0 0 0 0 0 0 0 0 0 0 0\n"
     ]
    },
    {
     "name": "stderr",
     "output_type": "stream",
     "text": [
      "INFO:tensorflow:input_ids: 102 7269 121 111 1937 2753 103 106 5947 3948 14863 122 168 111 1774 18265 9795 131 9879 11175 539 111 9562 131 19487 147 10053 9111 201 1587 133 6913 15793 434 3407 1774 18265 133 12288 205 299 27162 12288 147 592 1302 121 993 147 1242 547 23035 422 137 147 2637 547 22321 191 19987 5671 422 555 188 14935 24258 103 0 0 0 0 0 0 0 0 0 0 0 0 0 0 0 0 0 0 0 0 0 0 0 0 0 0 0 0 0 0 0 0 0 0 0 0 0 0 0 0 0 0 0 0 0 0 0 0 0 0 0 0 0 0 0 0 0 0 0 0 0 0 0 0 0 0 0 0 0 0 0 0 0 0 0 0 0 0 0 0 0 0 0 0 0 0 0 0 0 0 0 0 0 0 0 0 0 0 0 0 0 0 0 0 0 0 0 0 0 0 0 0 0 0 0 0 0 0 0 0 0 0 0 0 0 0 0 0 0 0 0 0 0 0 0 0 0 0 0 0 0 0 0 0 0 0 0 0 0 0 0 0 0 0 0 0 0 0 0 0 0 0 0 0 0 0 0 0 0 0 0 0 0 0 0 0 0 0 0 0 0 0 0 0 0 0 0 0 0\n"
     ]
    },
    {
     "name": "stdout",
     "output_type": "stream",
     "text": [
      "INFO:tensorflow:input_mask: 1 1 1 1 1 1 1 1 1 1 1 1 1 1 1 1 1 1 1 1 1 1 1 1 1 1 1 1 1 1 1 1 1 1 1 1 1 1 1 1 1 1 1 1 1 1 1 1 1 1 1 1 1 1 1 1 1 1 1 1 1 1 1 1 1 1 1 0 0 0 0 0 0 0 0 0 0 0 0 0 0 0 0 0 0 0 0 0 0 0 0 0 0 0 0 0 0 0 0 0 0 0 0 0 0 0 0 0 0 0 0 0 0 0 0 0 0 0 0 0 0 0 0 0 0 0 0 0 0 0 0 0 0 0 0 0 0 0 0 0 0 0 0 0 0 0 0 0 0 0 0 0 0 0 0 0 0 0 0 0 0 0 0 0 0 0 0 0 0 0 0 0 0 0 0 0 0 0 0 0 0 0 0 0 0 0 0 0 0 0 0 0 0 0 0 0 0 0 0 0 0 0 0 0 0 0 0 0 0 0 0 0 0 0 0 0 0 0 0 0 0 0 0 0 0 0 0 0 0 0 0 0 0 0 0 0 0 0 0 0 0 0 0 0 0 0 0 0 0 0 0 0 0 0 0 0\n"
     ]
    },
    {
     "name": "stderr",
     "output_type": "stream",
     "text": [
      "INFO:tensorflow:input_mask: 1 1 1 1 1 1 1 1 1 1 1 1 1 1 1 1 1 1 1 1 1 1 1 1 1 1 1 1 1 1 1 1 1 1 1 1 1 1 1 1 1 1 1 1 1 1 1 1 1 1 1 1 1 1 1 1 1 1 1 1 1 1 1 1 1 1 1 0 0 0 0 0 0 0 0 0 0 0 0 0 0 0 0 0 0 0 0 0 0 0 0 0 0 0 0 0 0 0 0 0 0 0 0 0 0 0 0 0 0 0 0 0 0 0 0 0 0 0 0 0 0 0 0 0 0 0 0 0 0 0 0 0 0 0 0 0 0 0 0 0 0 0 0 0 0 0 0 0 0 0 0 0 0 0 0 0 0 0 0 0 0 0 0 0 0 0 0 0 0 0 0 0 0 0 0 0 0 0 0 0 0 0 0 0 0 0 0 0 0 0 0 0 0 0 0 0 0 0 0 0 0 0 0 0 0 0 0 0 0 0 0 0 0 0 0 0 0 0 0 0 0 0 0 0 0 0 0 0 0 0 0 0 0 0 0 0 0 0 0 0 0 0 0 0 0 0 0 0 0 0 0 0 0 0 0 0\n"
     ]
    },
    {
     "name": "stdout",
     "output_type": "stream",
     "text": [
      "INFO:tensorflow:segment_ids: 0 0 0 0 0 0 0 1 1 1 1 1 1 1 1 1 1 1 1 1 1 1 1 1 1 1 1 1 1 1 1 1 1 1 1 1 1 1 1 1 1 1 1 1 1 1 1 1 1 1 1 1 1 1 1 1 1 1 1 1 1 1 1 1 1 1 1 0 0 0 0 0 0 0 0 0 0 0 0 0 0 0 0 0 0 0 0 0 0 0 0 0 0 0 0 0 0 0 0 0 0 0 0 0 0 0 0 0 0 0 0 0 0 0 0 0 0 0 0 0 0 0 0 0 0 0 0 0 0 0 0 0 0 0 0 0 0 0 0 0 0 0 0 0 0 0 0 0 0 0 0 0 0 0 0 0 0 0 0 0 0 0 0 0 0 0 0 0 0 0 0 0 0 0 0 0 0 0 0 0 0 0 0 0 0 0 0 0 0 0 0 0 0 0 0 0 0 0 0 0 0 0 0 0 0 0 0 0 0 0 0 0 0 0 0 0 0 0 0 0 0 0 0 0 0 0 0 0 0 0 0 0 0 0 0 0 0 0 0 0 0 0 0 0 0 0 0 0 0 0 0 0 0 0 0 0\n"
     ]
    },
    {
     "name": "stderr",
     "output_type": "stream",
     "text": [
      "INFO:tensorflow:segment_ids: 0 0 0 0 0 0 0 1 1 1 1 1 1 1 1 1 1 1 1 1 1 1 1 1 1 1 1 1 1 1 1 1 1 1 1 1 1 1 1 1 1 1 1 1 1 1 1 1 1 1 1 1 1 1 1 1 1 1 1 1 1 1 1 1 1 1 1 0 0 0 0 0 0 0 0 0 0 0 0 0 0 0 0 0 0 0 0 0 0 0 0 0 0 0 0 0 0 0 0 0 0 0 0 0 0 0 0 0 0 0 0 0 0 0 0 0 0 0 0 0 0 0 0 0 0 0 0 0 0 0 0 0 0 0 0 0 0 0 0 0 0 0 0 0 0 0 0 0 0 0 0 0 0 0 0 0 0 0 0 0 0 0 0 0 0 0 0 0 0 0 0 0 0 0 0 0 0 0 0 0 0 0 0 0 0 0 0 0 0 0 0 0 0 0 0 0 0 0 0 0 0 0 0 0 0 0 0 0 0 0 0 0 0 0 0 0 0 0 0 0 0 0 0 0 0 0 0 0 0 0 0 0 0 0 0 0 0 0 0 0 0 0 0 0 0 0 0 0 0 0 0 0 0 0 0 0\n"
     ]
    },
    {
     "name": "stdout",
     "output_type": "stream",
     "text": [
      "INFO:tensorflow:label: [0, 0, 0, 0, 0] (id = [0, 0, 0, 0, 0])\n"
     ]
    },
    {
     "name": "stderr",
     "output_type": "stream",
     "text": [
      "INFO:tensorflow:label: [0, 0, 0, 0, 0] (id = [0, 0, 0, 0, 0])\n"
     ]
    },
    {
     "name": "stdout",
     "output_type": "stream",
     "text": [
      "INFO:tensorflow:*** Example ***\n"
     ]
    },
    {
     "name": "stderr",
     "output_type": "stream",
     "text": [
      "INFO:tensorflow:*** Example ***\n"
     ]
    },
    {
     "name": "stdout",
     "output_type": "stream",
     "text": [
      "INFO:tensorflow:guid: \n"
     ]
    },
    {
     "name": "stderr",
     "output_type": "stream",
     "text": [
      "INFO:tensorflow:guid: \n"
     ]
    },
    {
     "name": "stdout",
     "output_type": "stream",
     "text": [
      "INFO:tensorflow:tokens: [CLS] factors affecting maize ( ze ##a may ##s l . ) sensitivity to acet ##ochlor [SEP] vo ##orge ##kom . bio ##akt ##iw ##ite ##it was so ##ort ##gel ##yk op alle gron ##de in die twe ##ede pro ##ef , al ##hoe ##we ##l dit straw ##wer was op die sand ##gro ##nd . hier ##die het ‘ n aa ##nd ##ui ##ding ge ##ge ##e dat die aa ##nb ##ev ##ole toe ##die ##nings ##pe ##il op die sand ##eri ##ge gron ##d moon ##tl ##ik aa ##ng ##epa ##s beh ##oor ##t te word . temper ##at ##uu ##r se inv ##lo ##ed op die verd ##ra ##ags ##aa ##mh ##ei ##d van mi ##eli ##ec ##ulti ##var ##s teen ##oor ase ##toc ##hl ##or is get ##oe ##ts by sub - optimal ##e ( 15 / 8 ##° ##c ) , optimal ##e - ( 25 / 18 ##° ##c ) en supra - optimal ##e ( 35 / 28 ##° ) temper ##at ##uu ##r regimes ( dag - / nag ##tem ##per ##at ##uu ##r ) . sa ##ailing ##gro ##ei van bei ##de cultivars is bet ##ek ##eni ##sv ##ol ond ##er ##dr ##uk de ##ur die on ##kr ##ui ##dd ##oder by die optimal ##e temper ##at ##uu ##r regime . alle result ##ate het aa ##ng ##edu ##i dat die cultivar dk ##c 73 - 76 ##r me ##er sensi ##tie ##f is teen ##oor ase ##toc ##hl ##or as pan ##6 ##q ##52 ##1 [SEP]\n"
     ]
    },
    {
     "name": "stderr",
     "output_type": "stream",
     "text": [
      "INFO:tensorflow:tokens: [CLS] factors affecting maize ( ze ##a may ##s l . ) sensitivity to acet ##ochlor [SEP] vo ##orge ##kom . bio ##akt ##iw ##ite ##it was so ##ort ##gel ##yk op alle gron ##de in die twe ##ede pro ##ef , al ##hoe ##we ##l dit straw ##wer was op die sand ##gro ##nd . hier ##die het ‘ n aa ##nd ##ui ##ding ge ##ge ##e dat die aa ##nb ##ev ##ole toe ##die ##nings ##pe ##il op die sand ##eri ##ge gron ##d moon ##tl ##ik aa ##ng ##epa ##s beh ##oor ##t te word . temper ##at ##uu ##r se inv ##lo ##ed op die verd ##ra ##ags ##aa ##mh ##ei ##d van mi ##eli ##ec ##ulti ##var ##s teen ##oor ase ##toc ##hl ##or is get ##oe ##ts by sub - optimal ##e ( 15 / 8 ##° ##c ) , optimal ##e - ( 25 / 18 ##° ##c ) en supra - optimal ##e ( 35 / 28 ##° ) temper ##at ##uu ##r regimes ( dag - / nag ##tem ##per ##at ##uu ##r ) . sa ##ailing ##gro ##ei van bei ##de cultivars is bet ##ek ##eni ##sv ##ol ond ##er ##dr ##uk de ##ur die on ##kr ##ui ##dd ##oder by die optimal ##e temper ##at ##uu ##r regime . alle result ##ate het aa ##ng ##edu ##i dat die cultivar dk ##c 73 - 76 ##r me ##er sensi ##tie ##f is teen ##oor ase ##toc ##hl ##or as pan ##6 ##q ##52 ##1 [SEP]\n"
     ]
    },
    {
     "name": "stdout",
     "output_type": "stream",
     "text": [
      "INFO:tensorflow:input_ids: 102 1391 7586 13156 145 3889 30110 552 30113 152 205 546 2949 147 4090 26399 103 5034 12220 23040 205 4686 11626 24787 585 135 241 564 887 7770 16623 561 3566 29368 799 121 1321 15737 19453 178 5730 422 186 17584 1587 30115 25709 21021 6802 241 561 1321 6429 20218 3710 205 4105 17256 22054 1384 146 5390 3710 6288 5882 1240 303 30107 397 1321 5390 13220 4767 2178 22487 17256 10990 1417 174 561 1321 6429 17000 303 29368 30118 22867 6687 614 5390 5733 25069 30113 4873 11889 30108 1094 3824 205 1399 126 24858 30114 262 593 609 119 561 1321 23629 1942 23363 4871 19441 6422 30118 3310 4323 19478 155 24102 12355 30113 20005 11889 19807 18226 4697 122 165 2744 3732 203 214 414 579 2409 30107 145 884 1352 493 30200 30116 546 422 2409 30107 579 145 1552 1352 1178 30200 30116 546 279 10299 579 2409 30107 145 2638 1352 2317 30200 546 1399 126 24858 30114 13440 145 15990 579 1352 11488 6684 291 126 24858 30114 546 205 2204 13173 20218 6422 3310 4024 799 17019 165 1497 4213 22933 10231 162 29164 114 1717 1854 223 166 1321 191 6232 6288 6529 8549 214 1321 2409 30107 1399 126 24858 30114 7556 205 3566 1186 217 22054 5390 5733 4454 30109 397 1321 26493 10600 30116 8095 579 8116 30114 366 114 1889 16153 30122 165 20005 11889 19807 18226 4697 122 188 3103 30142 30147 8074 30130 103\n"
     ]
    },
    {
     "name": "stderr",
     "output_type": "stream",
     "text": [
      "INFO:tensorflow:input_ids: 102 1391 7586 13156 145 3889 30110 552 30113 152 205 546 2949 147 4090 26399 103 5034 12220 23040 205 4686 11626 24787 585 135 241 564 887 7770 16623 561 3566 29368 799 121 1321 15737 19453 178 5730 422 186 17584 1587 30115 25709 21021 6802 241 561 1321 6429 20218 3710 205 4105 17256 22054 1384 146 5390 3710 6288 5882 1240 303 30107 397 1321 5390 13220 4767 2178 22487 17256 10990 1417 174 561 1321 6429 17000 303 29368 30118 22867 6687 614 5390 5733 25069 30113 4873 11889 30108 1094 3824 205 1399 126 24858 30114 262 593 609 119 561 1321 23629 1942 23363 4871 19441 6422 30118 3310 4323 19478 155 24102 12355 30113 20005 11889 19807 18226 4697 122 165 2744 3732 203 214 414 579 2409 30107 145 884 1352 493 30200 30116 546 422 2409 30107 579 145 1552 1352 1178 30200 30116 546 279 10299 579 2409 30107 145 2638 1352 2317 30200 546 1399 126 24858 30114 13440 145 15990 579 1352 11488 6684 291 126 24858 30114 546 205 2204 13173 20218 6422 3310 4024 799 17019 165 1497 4213 22933 10231 162 29164 114 1717 1854 223 166 1321 191 6232 6288 6529 8549 214 1321 2409 30107 1399 126 24858 30114 7556 205 3566 1186 217 22054 5390 5733 4454 30109 397 1321 26493 10600 30116 8095 579 8116 30114 366 114 1889 16153 30122 165 20005 11889 19807 18226 4697 122 188 3103 30142 30147 8074 30130 103\n"
     ]
    },
    {
     "name": "stdout",
     "output_type": "stream",
     "text": [
      "INFO:tensorflow:input_mask: 1 1 1 1 1 1 1 1 1 1 1 1 1 1 1 1 1 1 1 1 1 1 1 1 1 1 1 1 1 1 1 1 1 1 1 1 1 1 1 1 1 1 1 1 1 1 1 1 1 1 1 1 1 1 1 1 1 1 1 1 1 1 1 1 1 1 1 1 1 1 1 1 1 1 1 1 1 1 1 1 1 1 1 1 1 1 1 1 1 1 1 1 1 1 1 1 1 1 1 1 1 1 1 1 1 1 1 1 1 1 1 1 1 1 1 1 1 1 1 1 1 1 1 1 1 1 1 1 1 1 1 1 1 1 1 1 1 1 1 1 1 1 1 1 1 1 1 1 1 1 1 1 1 1 1 1 1 1 1 1 1 1 1 1 1 1 1 1 1 1 1 1 1 1 1 1 1 1 1 1 1 1 1 1 1 1 1 1 1 1 1 1 1 1 1 1 1 1 1 1 1 1 1 1 1 1 1 1 1 1 1 1 1 1 1 1 1 1 1 1 1 1 1 1 1 1 1 1 1 1 1 1 1 1 1 1 1 1 1 1 1 1 1 1 1 1 1 1 1 1 1 1 1 1 1 1\n"
     ]
    },
    {
     "name": "stderr",
     "output_type": "stream",
     "text": [
      "INFO:tensorflow:input_mask: 1 1 1 1 1 1 1 1 1 1 1 1 1 1 1 1 1 1 1 1 1 1 1 1 1 1 1 1 1 1 1 1 1 1 1 1 1 1 1 1 1 1 1 1 1 1 1 1 1 1 1 1 1 1 1 1 1 1 1 1 1 1 1 1 1 1 1 1 1 1 1 1 1 1 1 1 1 1 1 1 1 1 1 1 1 1 1 1 1 1 1 1 1 1 1 1 1 1 1 1 1 1 1 1 1 1 1 1 1 1 1 1 1 1 1 1 1 1 1 1 1 1 1 1 1 1 1 1 1 1 1 1 1 1 1 1 1 1 1 1 1 1 1 1 1 1 1 1 1 1 1 1 1 1 1 1 1 1 1 1 1 1 1 1 1 1 1 1 1 1 1 1 1 1 1 1 1 1 1 1 1 1 1 1 1 1 1 1 1 1 1 1 1 1 1 1 1 1 1 1 1 1 1 1 1 1 1 1 1 1 1 1 1 1 1 1 1 1 1 1 1 1 1 1 1 1 1 1 1 1 1 1 1 1 1 1 1 1 1 1 1 1 1 1 1 1 1 1 1 1 1 1 1 1 1 1\n"
     ]
    },
    {
     "name": "stdout",
     "output_type": "stream",
     "text": [
      "INFO:tensorflow:segment_ids: 0 0 0 0 0 0 0 0 0 0 0 0 0 0 0 0 0 1 1 1 1 1 1 1 1 1 1 1 1 1 1 1 1 1 1 1 1 1 1 1 1 1 1 1 1 1 1 1 1 1 1 1 1 1 1 1 1 1 1 1 1 1 1 1 1 1 1 1 1 1 1 1 1 1 1 1 1 1 1 1 1 1 1 1 1 1 1 1 1 1 1 1 1 1 1 1 1 1 1 1 1 1 1 1 1 1 1 1 1 1 1 1 1 1 1 1 1 1 1 1 1 1 1 1 1 1 1 1 1 1 1 1 1 1 1 1 1 1 1 1 1 1 1 1 1 1 1 1 1 1 1 1 1 1 1 1 1 1 1 1 1 1 1 1 1 1 1 1 1 1 1 1 1 1 1 1 1 1 1 1 1 1 1 1 1 1 1 1 1 1 1 1 1 1 1 1 1 1 1 1 1 1 1 1 1 1 1 1 1 1 1 1 1 1 1 1 1 1 1 1 1 1 1 1 1 1 1 1 1 1 1 1 1 1 1 1 1 1 1 1 1 1 1 1 1 1 1 1 1 1 1 1 1 1 1 1\n"
     ]
    },
    {
     "name": "stderr",
     "output_type": "stream",
     "text": [
      "INFO:tensorflow:segment_ids: 0 0 0 0 0 0 0 0 0 0 0 0 0 0 0 0 0 1 1 1 1 1 1 1 1 1 1 1 1 1 1 1 1 1 1 1 1 1 1 1 1 1 1 1 1 1 1 1 1 1 1 1 1 1 1 1 1 1 1 1 1 1 1 1 1 1 1 1 1 1 1 1 1 1 1 1 1 1 1 1 1 1 1 1 1 1 1 1 1 1 1 1 1 1 1 1 1 1 1 1 1 1 1 1 1 1 1 1 1 1 1 1 1 1 1 1 1 1 1 1 1 1 1 1 1 1 1 1 1 1 1 1 1 1 1 1 1 1 1 1 1 1 1 1 1 1 1 1 1 1 1 1 1 1 1 1 1 1 1 1 1 1 1 1 1 1 1 1 1 1 1 1 1 1 1 1 1 1 1 1 1 1 1 1 1 1 1 1 1 1 1 1 1 1 1 1 1 1 1 1 1 1 1 1 1 1 1 1 1 1 1 1 1 1 1 1 1 1 1 1 1 1 1 1 1 1 1 1 1 1 1 1 1 1 1 1 1 1 1 1 1 1 1 1 1 1 1 1 1 1 1 1 1 1 1 1\n"
     ]
    },
    {
     "name": "stdout",
     "output_type": "stream",
     "text": [
      "INFO:tensorflow:label: [0, 0, 0, 0, 0] (id = [0, 0, 0, 0, 0])\n"
     ]
    },
    {
     "name": "stderr",
     "output_type": "stream",
     "text": [
      "INFO:tensorflow:label: [0, 0, 0, 0, 0] (id = [0, 0, 0, 0, 0])\n"
     ]
    },
    {
     "name": "stdout",
     "output_type": "stream",
     "text": [
      "INFO:tensorflow:*** Example ***\n"
     ]
    },
    {
     "name": "stderr",
     "output_type": "stream",
     "text": [
      "INFO:tensorflow:*** Example ***\n"
     ]
    },
    {
     "name": "stdout",
     "output_type": "stream",
     "text": [
      "INFO:tensorflow:guid: \n"
     ]
    },
    {
     "name": "stderr",
     "output_type": "stream",
     "text": [
      "INFO:tensorflow:guid: \n"
     ]
    },
    {
     "name": "stdout",
     "output_type": "stream",
     "text": [
      "INFO:tensorflow:tokens: [CLS] growth and yield response of selected crops to treatment with com ##cat [SEP] - cast ##aster ##oon en 24 - epi - sec ##aster ##oon , bek ##end is as akt ##iew ##e br ##s van die brass ##inos ##ter ##oi ##ed gro ##ep . ten slot ##te is bei ##de die in vitro en in vivo bio - stimul ##eren ##de ei ##ens ##ka ##pp ##e van com ##cat ##® ond ##er laborator ##ium - , glas ##hu ##is - en vel ##dt ##oe ##stand ##e in hier ##die stud ##ie be ##vestig . bet ##ek ##eni ##sv ##oll ##e oe ##so ##pb ##reng ##sv ##er ##hog ##ing wat in al die toe ##ts ##gew ##asse , in somm ##ige gev ##alle oo ##r twe ##e sei ##so ##ene ver ##kr ##y is , het die pot ##ens ##iaa ##l vir com ##cat ##® om vol ##hou ##ba ##ar in die land ##bo ##up ##ra ##kt ##yk toe ##ge ##pas te word , be ##vestig . ge ##base ##er op die result ##ate wat in hier ##die stud ##ie bek ##om is , word dri ##e moon ##tl ##ike aa ##n ##wen ##sd ##ings ##met ##odes vir com ##cat ##® vo ##orge ##ste ##l . dit sl ##uit 1 ) ‘ n sa ##ad ##beh ##ande ##ling , 2 ) ‘ n bla ##arb ##esp ##uit ##ing of 3 ) ‘ n gron ##db ##eh ##ande ##ling in . ; agr ##af ##orum ag and gu ##dr ##un & hors ##t pol ##us [SEP]\n"
     ]
    },
    {
     "name": "stderr",
     "output_type": "stream",
     "text": [
      "INFO:tensorflow:tokens: [CLS] growth and yield response of selected crops to treatment with com ##cat [SEP] - cast ##aster ##oon en 24 - epi - sec ##aster ##oon , bek ##end is as akt ##iew ##e br ##s van die brass ##inos ##ter ##oi ##ed gro ##ep . ten slot ##te is bei ##de die in vitro en in vivo bio - stimul ##eren ##de ei ##ens ##ka ##pp ##e van com ##cat ##® ond ##er laborator ##ium - , glas ##hu ##is - en vel ##dt ##oe ##stand ##e in hier ##die stud ##ie be ##vestig . bet ##ek ##eni ##sv ##oll ##e oe ##so ##pb ##reng ##sv ##er ##hog ##ing wat in al die toe ##ts ##gew ##asse , in somm ##ige gev ##alle oo ##r twe ##e sei ##so ##ene ver ##kr ##y is , het die pot ##ens ##iaa ##l vir com ##cat ##® om vol ##hou ##ba ##ar in die land ##bo ##up ##ra ##kt ##yk toe ##ge ##pas te word , be ##vestig . ge ##base ##er op die result ##ate wat in hier ##die stud ##ie bek ##om is , word dri ##e moon ##tl ##ike aa ##n ##wen ##sd ##ings ##met ##odes vir com ##cat ##® vo ##orge ##ste ##l . dit sl ##uit 1 ) ‘ n sa ##ad ##beh ##ande ##ling , 2 ) ‘ n bla ##arb ##esp ##uit ##ing of 3 ) ‘ n gron ##db ##eh ##ande ##ling in . ; agr ##af ##orum ag and gu ##dr ##un & hors ##t pol ##us [SEP]\n"
     ]
    },
    {
     "name": "stdout",
     "output_type": "stream",
     "text": [
      "INFO:tensorflow:input_ids: 102 1503 137 2210 1278 131 2350 12760 147 922 190 209 5581 103 579 8474 4236 9840 279 1540 579 21235 579 509 4236 9840 422 19251 372 165 188 10462 1752 30107 746 30113 3310 1321 23948 13083 192 13532 119 419 468 205 3617 9709 282 165 4024 799 1321 121 3335 279 121 3570 4686 579 2820 8406 799 6782 499 3776 3459 30107 3310 209 5581 30252 29164 114 8080 888 579 422 21151 7201 129 579 279 2931 5317 3732 1710 30107 121 4105 17256 344 510 195 29961 205 1497 4213 22933 10231 4164 30107 19664 418 10965 2932 10231 114 26605 140 4411 121 186 1321 22487 203 22547 16679 422 121 29660 8082 13704 2463 12928 30114 15737 30107 21399 418 876 600 6232 30126 165 422 22054 1321 985 499 24405 30115 1470 209 5581 30252 3751 805 19836 3331 138 121 1321 2882 2209 251 1942 5409 16623 22487 303 17268 1094 3824 422 195 29961 205 1240 11059 114 561 1321 1186 217 4411 121 4105 17256 344 510 19251 157 165 422 3824 2237 30107 22867 6687 6710 5390 30111 23740 4876 854 1566 1555 1470 209 5581 30252 5034 12220 2036 30115 205 25709 1252 2200 158 546 1384 146 2204 213 25244 20977 2123 422 170 546 1384 146 26675 14828 24180 2200 140 131 239 546 1384 146 29368 7305 7460 20977 2123 121 205 1814 4545 1184 20064 548 137 1328 1717 164 894 13485 30108 663 153 103\n"
     ]
    },
    {
     "name": "stderr",
     "output_type": "stream",
     "text": [
      "INFO:tensorflow:input_ids: 102 1503 137 2210 1278 131 2350 12760 147 922 190 209 5581 103 579 8474 4236 9840 279 1540 579 21235 579 509 4236 9840 422 19251 372 165 188 10462 1752 30107 746 30113 3310 1321 23948 13083 192 13532 119 419 468 205 3617 9709 282 165 4024 799 1321 121 3335 279 121 3570 4686 579 2820 8406 799 6782 499 3776 3459 30107 3310 209 5581 30252 29164 114 8080 888 579 422 21151 7201 129 579 279 2931 5317 3732 1710 30107 121 4105 17256 344 510 195 29961 205 1497 4213 22933 10231 4164 30107 19664 418 10965 2932 10231 114 26605 140 4411 121 186 1321 22487 203 22547 16679 422 121 29660 8082 13704 2463 12928 30114 15737 30107 21399 418 876 600 6232 30126 165 422 22054 1321 985 499 24405 30115 1470 209 5581 30252 3751 805 19836 3331 138 121 1321 2882 2209 251 1942 5409 16623 22487 303 17268 1094 3824 422 195 29961 205 1240 11059 114 561 1321 1186 217 4411 121 4105 17256 344 510 19251 157 165 422 3824 2237 30107 22867 6687 6710 5390 30111 23740 4876 854 1566 1555 1470 209 5581 30252 5034 12220 2036 30115 205 25709 1252 2200 158 546 1384 146 2204 213 25244 20977 2123 422 170 546 1384 146 26675 14828 24180 2200 140 131 239 546 1384 146 29368 7305 7460 20977 2123 121 205 1814 4545 1184 20064 548 137 1328 1717 164 894 13485 30108 663 153 103\n"
     ]
    },
    {
     "name": "stdout",
     "output_type": "stream",
     "text": [
      "INFO:tensorflow:input_mask: 1 1 1 1 1 1 1 1 1 1 1 1 1 1 1 1 1 1 1 1 1 1 1 1 1 1 1 1 1 1 1 1 1 1 1 1 1 1 1 1 1 1 1 1 1 1 1 1 1 1 1 1 1 1 1 1 1 1 1 1 1 1 1 1 1 1 1 1 1 1 1 1 1 1 1 1 1 1 1 1 1 1 1 1 1 1 1 1 1 1 1 1 1 1 1 1 1 1 1 1 1 1 1 1 1 1 1 1 1 1 1 1 1 1 1 1 1 1 1 1 1 1 1 1 1 1 1 1 1 1 1 1 1 1 1 1 1 1 1 1 1 1 1 1 1 1 1 1 1 1 1 1 1 1 1 1 1 1 1 1 1 1 1 1 1 1 1 1 1 1 1 1 1 1 1 1 1 1 1 1 1 1 1 1 1 1 1 1 1 1 1 1 1 1 1 1 1 1 1 1 1 1 1 1 1 1 1 1 1 1 1 1 1 1 1 1 1 1 1 1 1 1 1 1 1 1 1 1 1 1 1 1 1 1 1 1 1 1 1 1 1 1 1 1 1 1 1 1 1 1 1 1 1 1 1 1\n"
     ]
    },
    {
     "name": "stderr",
     "output_type": "stream",
     "text": [
      "INFO:tensorflow:input_mask: 1 1 1 1 1 1 1 1 1 1 1 1 1 1 1 1 1 1 1 1 1 1 1 1 1 1 1 1 1 1 1 1 1 1 1 1 1 1 1 1 1 1 1 1 1 1 1 1 1 1 1 1 1 1 1 1 1 1 1 1 1 1 1 1 1 1 1 1 1 1 1 1 1 1 1 1 1 1 1 1 1 1 1 1 1 1 1 1 1 1 1 1 1 1 1 1 1 1 1 1 1 1 1 1 1 1 1 1 1 1 1 1 1 1 1 1 1 1 1 1 1 1 1 1 1 1 1 1 1 1 1 1 1 1 1 1 1 1 1 1 1 1 1 1 1 1 1 1 1 1 1 1 1 1 1 1 1 1 1 1 1 1 1 1 1 1 1 1 1 1 1 1 1 1 1 1 1 1 1 1 1 1 1 1 1 1 1 1 1 1 1 1 1 1 1 1 1 1 1 1 1 1 1 1 1 1 1 1 1 1 1 1 1 1 1 1 1 1 1 1 1 1 1 1 1 1 1 1 1 1 1 1 1 1 1 1 1 1 1 1 1 1 1 1 1 1 1 1 1 1 1 1 1 1 1 1\n"
     ]
    },
    {
     "name": "stdout",
     "output_type": "stream",
     "text": [
      "INFO:tensorflow:segment_ids: 0 0 0 0 0 0 0 0 0 0 0 0 0 0 1 1 1 1 1 1 1 1 1 1 1 1 1 1 1 1 1 1 1 1 1 1 1 1 1 1 1 1 1 1 1 1 1 1 1 1 1 1 1 1 1 1 1 1 1 1 1 1 1 1 1 1 1 1 1 1 1 1 1 1 1 1 1 1 1 1 1 1 1 1 1 1 1 1 1 1 1 1 1 1 1 1 1 1 1 1 1 1 1 1 1 1 1 1 1 1 1 1 1 1 1 1 1 1 1 1 1 1 1 1 1 1 1 1 1 1 1 1 1 1 1 1 1 1 1 1 1 1 1 1 1 1 1 1 1 1 1 1 1 1 1 1 1 1 1 1 1 1 1 1 1 1 1 1 1 1 1 1 1 1 1 1 1 1 1 1 1 1 1 1 1 1 1 1 1 1 1 1 1 1 1 1 1 1 1 1 1 1 1 1 1 1 1 1 1 1 1 1 1 1 1 1 1 1 1 1 1 1 1 1 1 1 1 1 1 1 1 1 1 1 1 1 1 1 1 1 1 1 1 1 1 1 1 1 1 1 1 1 1 1 1 1\n"
     ]
    },
    {
     "name": "stderr",
     "output_type": "stream",
     "text": [
      "INFO:tensorflow:segment_ids: 0 0 0 0 0 0 0 0 0 0 0 0 0 0 1 1 1 1 1 1 1 1 1 1 1 1 1 1 1 1 1 1 1 1 1 1 1 1 1 1 1 1 1 1 1 1 1 1 1 1 1 1 1 1 1 1 1 1 1 1 1 1 1 1 1 1 1 1 1 1 1 1 1 1 1 1 1 1 1 1 1 1 1 1 1 1 1 1 1 1 1 1 1 1 1 1 1 1 1 1 1 1 1 1 1 1 1 1 1 1 1 1 1 1 1 1 1 1 1 1 1 1 1 1 1 1 1 1 1 1 1 1 1 1 1 1 1 1 1 1 1 1 1 1 1 1 1 1 1 1 1 1 1 1 1 1 1 1 1 1 1 1 1 1 1 1 1 1 1 1 1 1 1 1 1 1 1 1 1 1 1 1 1 1 1 1 1 1 1 1 1 1 1 1 1 1 1 1 1 1 1 1 1 1 1 1 1 1 1 1 1 1 1 1 1 1 1 1 1 1 1 1 1 1 1 1 1 1 1 1 1 1 1 1 1 1 1 1 1 1 1 1 1 1 1 1 1 1 1 1 1 1 1 1 1 1\n"
     ]
    },
    {
     "name": "stdout",
     "output_type": "stream",
     "text": [
      "INFO:tensorflow:label: [0, 0, 0, 0, 0] (id = [0, 0, 0, 0, 0])\n"
     ]
    },
    {
     "name": "stderr",
     "output_type": "stream",
     "text": [
      "INFO:tensorflow:label: [0, 0, 0, 0, 0] (id = [0, 0, 0, 0, 0])\n"
     ]
    },
    {
     "name": "stdout",
     "output_type": "stream",
     "text": [
      "INFO:tensorflow:Calling model_fn.\n"
     ]
    },
    {
     "name": "stderr",
     "output_type": "stream",
     "text": [
      "INFO:tensorflow:Calling model_fn.\n"
     ]
    },
    {
     "name": "stdout",
     "output_type": "stream",
     "text": [
      "Used for model gpu 0\n",
      "INFO:tensorflow:Done calling model_fn.\n"
     ]
    },
    {
     "name": "stderr",
     "output_type": "stream",
     "text": [
      "INFO:tensorflow:Done calling model_fn.\n"
     ]
    },
    {
     "name": "stdout",
     "output_type": "stream",
     "text": [
      "INFO:tensorflow:Graph was finalized.\n"
     ]
    },
    {
     "name": "stderr",
     "output_type": "stream",
     "text": [
      "INFO:tensorflow:Graph was finalized.\n"
     ]
    },
    {
     "name": "stdout",
     "output_type": "stream",
     "text": [
      "INFO:tensorflow:Restoring parameters from ../model/study_type_multi/model.ckpt-2000\n"
     ]
    },
    {
     "name": "stderr",
     "output_type": "stream",
     "text": [
      "INFO:tensorflow:Restoring parameters from ../model/study_type_multi/model.ckpt-2000\n"
     ]
    },
    {
     "name": "stdout",
     "output_type": "stream",
     "text": [
      "INFO:tensorflow:Running local_init_op.\n"
     ]
    },
    {
     "name": "stderr",
     "output_type": "stream",
     "text": [
      "INFO:tensorflow:Running local_init_op.\n"
     ]
    },
    {
     "name": "stdout",
     "output_type": "stream",
     "text": [
      "INFO:tensorflow:Done running local_init_op.\n"
     ]
    },
    {
     "name": "stderr",
     "output_type": "stream",
     "text": [
      "INFO:tensorflow:Done running local_init_op.\n"
     ]
    },
    {
     "name": "stdout",
     "output_type": "stream",
     "text": [
      "Processed for 31.034181356430054s\n",
      "Started processing  {'column_filler_class': 'OutcomesFinder', 'model_folder': '../model/bert_exp_outcome_sentences_new_multilabel_15epoch_1300_mixed_0.7'}\n",
      "Started tokenizer loading\n",
      "Used gpu 0\n",
      "INFO:tensorflow:Saver not created because there are no variables in the graph to restore\n"
     ]
    },
    {
     "name": "stderr",
     "output_type": "stream",
     "text": [
      "INFO:tensorflow:Saver not created because there are no variables in the graph to restore\n"
     ]
    },
    {
     "name": "stdout",
     "output_type": "stream",
     "text": [
      "Model partly loaded\n",
      "Tokenizrer loaded\n",
      "0\n",
      "INFO:tensorflow:Using config: {'_model_dir': '../model/bert_exp_outcome_sentences_new_multilabel_15epoch_1300_mixed_0.7', '_tf_random_seed': None, '_save_summary_steps': 100, '_save_checkpoints_steps': 500, '_save_checkpoints_secs': None, '_session_config': allow_soft_placement: true\n",
      "graph_options {\n",
      "  rewrite_options {\n",
      "    meta_optimizer_iterations: ONE\n",
      "  }\n",
      "}\n",
      ", '_keep_checkpoint_max': 5, '_keep_checkpoint_every_n_hours': 10000, '_log_step_count_steps': 100, '_train_distribute': None, '_device_fn': None, '_protocol': None, '_eval_distribute': None, '_experimental_distribute': None, '_service': None, '_cluster_spec': <tensorflow.python.training.server_lib.ClusterSpec object at 0x7f8fbcded3c8>, '_task_type': 'worker', '_task_id': 0, '_global_id_in_cluster': 0, '_master': '', '_evaluation_master': '', '_is_chief': True, '_num_ps_replicas': 0, '_num_worker_replicas': 1}\n"
     ]
    },
    {
     "name": "stderr",
     "output_type": "stream",
     "text": [
      "INFO:tensorflow:Using config: {'_model_dir': '../model/bert_exp_outcome_sentences_new_multilabel_15epoch_1300_mixed_0.7', '_tf_random_seed': None, '_save_summary_steps': 100, '_save_checkpoints_steps': 500, '_save_checkpoints_secs': None, '_session_config': allow_soft_placement: true\n",
      "graph_options {\n",
      "  rewrite_options {\n",
      "    meta_optimizer_iterations: ONE\n",
      "  }\n",
      "}\n",
      ", '_keep_checkpoint_max': 5, '_keep_checkpoint_every_n_hours': 10000, '_log_step_count_steps': 100, '_train_distribute': None, '_device_fn': None, '_protocol': None, '_eval_distribute': None, '_experimental_distribute': None, '_service': None, '_cluster_spec': <tensorflow.python.training.server_lib.ClusterSpec object at 0x7f8fbcded3c8>, '_task_type': 'worker', '_task_id': 0, '_global_id_in_cluster': 0, '_master': '', '_evaluation_master': '', '_is_chief': True, '_num_ps_replicas': 0, '_num_worker_replicas': 1}\n"
     ]
    },
    {
     "name": "stdout",
     "output_type": "stream",
     "text": [
      "Config is done\n",
      "INFO:tensorflow:Writing example 0 of 3829\n"
     ]
    },
    {
     "name": "stderr",
     "output_type": "stream",
     "text": [
      "INFO:tensorflow:Writing example 0 of 3829\n"
     ]
    },
    {
     "name": "stdout",
     "output_type": "stream",
     "text": [
      "INFO:tensorflow:*** Example ***\n"
     ]
    },
    {
     "name": "stderr",
     "output_type": "stream",
     "text": [
      "INFO:tensorflow:*** Example ***\n"
     ]
    },
    {
     "name": "stdout",
     "output_type": "stream",
     "text": [
      "INFO:tensorflow:guid: \n"
     ]
    },
    {
     "name": "stderr",
     "output_type": "stream",
     "text": [
      "INFO:tensorflow:guid: \n"
     ]
    },
    {
     "name": "stdout",
     "output_type": "stream",
     "text": [
      "INFO:tensorflow:tokens: [CLS] 2018 - using insurance to protect farmers against drought in senegal . [SEP]\n"
     ]
    },
    {
     "name": "stderr",
     "output_type": "stream",
     "text": [
      "INFO:tensorflow:tokens: [CLS] 2018 - using insurance to protect farmers against drought in senegal . [SEP]\n"
     ]
    },
    {
     "name": "stdout",
     "output_type": "stream",
     "text": [
      "INFO:tensorflow:input_ids: 101 2760 1011 2478 5427 2000 4047 6617 2114 14734 1999 16028 1012 102 0 0 0 0 0 0 0 0 0 0 0 0 0 0 0 0 0 0 0 0 0 0 0 0 0 0 0 0 0 0 0 0 0 0 0 0 0 0 0 0 0 0 0 0 0 0 0 0 0 0 0 0 0 0 0 0 0 0 0 0 0 0 0 0 0 0 0 0 0 0 0 0 0 0 0 0 0 0 0 0 0 0 0 0 0 0 0 0 0 0 0 0 0 0 0 0 0 0 0 0 0 0 0 0 0 0 0 0 0 0 0 0 0 0\n"
     ]
    },
    {
     "name": "stderr",
     "output_type": "stream",
     "text": [
      "INFO:tensorflow:input_ids: 101 2760 1011 2478 5427 2000 4047 6617 2114 14734 1999 16028 1012 102 0 0 0 0 0 0 0 0 0 0 0 0 0 0 0 0 0 0 0 0 0 0 0 0 0 0 0 0 0 0 0 0 0 0 0 0 0 0 0 0 0 0 0 0 0 0 0 0 0 0 0 0 0 0 0 0 0 0 0 0 0 0 0 0 0 0 0 0 0 0 0 0 0 0 0 0 0 0 0 0 0 0 0 0 0 0 0 0 0 0 0 0 0 0 0 0 0 0 0 0 0 0 0 0 0 0 0 0 0 0 0 0 0 0\n"
     ]
    },
    {
     "name": "stdout",
     "output_type": "stream",
     "text": [
      "INFO:tensorflow:input_mask: 1 1 1 1 1 1 1 1 1 1 1 1 1 1 0 0 0 0 0 0 0 0 0 0 0 0 0 0 0 0 0 0 0 0 0 0 0 0 0 0 0 0 0 0 0 0 0 0 0 0 0 0 0 0 0 0 0 0 0 0 0 0 0 0 0 0 0 0 0 0 0 0 0 0 0 0 0 0 0 0 0 0 0 0 0 0 0 0 0 0 0 0 0 0 0 0 0 0 0 0 0 0 0 0 0 0 0 0 0 0 0 0 0 0 0 0 0 0 0 0 0 0 0 0 0 0 0 0\n"
     ]
    },
    {
     "name": "stderr",
     "output_type": "stream",
     "text": [
      "INFO:tensorflow:input_mask: 1 1 1 1 1 1 1 1 1 1 1 1 1 1 0 0 0 0 0 0 0 0 0 0 0 0 0 0 0 0 0 0 0 0 0 0 0 0 0 0 0 0 0 0 0 0 0 0 0 0 0 0 0 0 0 0 0 0 0 0 0 0 0 0 0 0 0 0 0 0 0 0 0 0 0 0 0 0 0 0 0 0 0 0 0 0 0 0 0 0 0 0 0 0 0 0 0 0 0 0 0 0 0 0 0 0 0 0 0 0 0 0 0 0 0 0 0 0 0 0 0 0 0 0 0 0 0 0\n"
     ]
    },
    {
     "name": "stdout",
     "output_type": "stream",
     "text": [
      "INFO:tensorflow:segment_ids: 0 0 0 0 0 0 0 0 0 0 0 0 0 0 0 0 0 0 0 0 0 0 0 0 0 0 0 0 0 0 0 0 0 0 0 0 0 0 0 0 0 0 0 0 0 0 0 0 0 0 0 0 0 0 0 0 0 0 0 0 0 0 0 0 0 0 0 0 0 0 0 0 0 0 0 0 0 0 0 0 0 0 0 0 0 0 0 0 0 0 0 0 0 0 0 0 0 0 0 0 0 0 0 0 0 0 0 0 0 0 0 0 0 0 0 0 0 0 0 0 0 0 0 0 0 0 0 0\n"
     ]
    },
    {
     "name": "stderr",
     "output_type": "stream",
     "text": [
      "INFO:tensorflow:segment_ids: 0 0 0 0 0 0 0 0 0 0 0 0 0 0 0 0 0 0 0 0 0 0 0 0 0 0 0 0 0 0 0 0 0 0 0 0 0 0 0 0 0 0 0 0 0 0 0 0 0 0 0 0 0 0 0 0 0 0 0 0 0 0 0 0 0 0 0 0 0 0 0 0 0 0 0 0 0 0 0 0 0 0 0 0 0 0 0 0 0 0 0 0 0 0 0 0 0 0 0 0 0 0 0 0 0 0 0 0 0 0 0 0 0 0 0 0 0 0 0 0 0 0 0 0 0 0 0 0\n"
     ]
    },
    {
     "name": "stdout",
     "output_type": "stream",
     "text": [
      "INFO:tensorflow:label: [0, 0, 0, 0, 0, 0, 0, 0, 0, 0, 0, 0, 0, 0, 0] (id = [0, 0, 0, 0, 0, 0, 0, 0, 0, 0, 0, 0, 0, 0, 0])\n"
     ]
    },
    {
     "name": "stderr",
     "output_type": "stream",
     "text": [
      "INFO:tensorflow:label: [0, 0, 0, 0, 0, 0, 0, 0, 0, 0, 0, 0, 0, 0, 0] (id = [0, 0, 0, 0, 0, 0, 0, 0, 0, 0, 0, 0, 0, 0, 0])\n"
     ]
    },
    {
     "name": "stdout",
     "output_type": "stream",
     "text": [
      "INFO:tensorflow:*** Example ***\n"
     ]
    },
    {
     "name": "stderr",
     "output_type": "stream",
     "text": [
      "INFO:tensorflow:*** Example ***\n"
     ]
    },
    {
     "name": "stdout",
     "output_type": "stream",
     "text": [
      "INFO:tensorflow:guid: \n"
     ]
    },
    {
     "name": "stderr",
     "output_type": "stream",
     "text": [
      "INFO:tensorflow:guid: \n"
     ]
    },
    {
     "name": "stdout",
     "output_type": "stream",
     "text": [
      "INFO:tensorflow:tokens: [CLS] the international fund for agricultural development ( if ##ad ) and the world food programme ( w ##fp ) have joined forces to help make weather index insurance available to farmers in senegal . [SEP]\n"
     ]
    },
    {
     "name": "stderr",
     "output_type": "stream",
     "text": [
      "INFO:tensorflow:tokens: [CLS] the international fund for agricultural development ( if ##ad ) and the world food programme ( w ##fp ) have joined forces to help make weather index insurance available to farmers in senegal . [SEP]\n"
     ]
    },
    {
     "name": "stdout",
     "output_type": "stream",
     "text": [
      "INFO:tensorflow:input_ids: 101 1996 2248 4636 2005 4910 2458 1006 2065 4215 1007 1998 1996 2088 2833 4746 1006 1059 22540 1007 2031 2587 2749 2000 2393 2191 4633 5950 5427 2800 2000 6617 1999 16028 1012 102 0 0 0 0 0 0 0 0 0 0 0 0 0 0 0 0 0 0 0 0 0 0 0 0 0 0 0 0 0 0 0 0 0 0 0 0 0 0 0 0 0 0 0 0 0 0 0 0 0 0 0 0 0 0 0 0 0 0 0 0 0 0 0 0 0 0 0 0 0 0 0 0 0 0 0 0 0 0 0 0 0 0 0 0 0 0 0 0 0 0 0 0\n"
     ]
    },
    {
     "name": "stderr",
     "output_type": "stream",
     "text": [
      "INFO:tensorflow:input_ids: 101 1996 2248 4636 2005 4910 2458 1006 2065 4215 1007 1998 1996 2088 2833 4746 1006 1059 22540 1007 2031 2587 2749 2000 2393 2191 4633 5950 5427 2800 2000 6617 1999 16028 1012 102 0 0 0 0 0 0 0 0 0 0 0 0 0 0 0 0 0 0 0 0 0 0 0 0 0 0 0 0 0 0 0 0 0 0 0 0 0 0 0 0 0 0 0 0 0 0 0 0 0 0 0 0 0 0 0 0 0 0 0 0 0 0 0 0 0 0 0 0 0 0 0 0 0 0 0 0 0 0 0 0 0 0 0 0 0 0 0 0 0 0 0 0\n"
     ]
    },
    {
     "name": "stdout",
     "output_type": "stream",
     "text": [
      "INFO:tensorflow:input_mask: 1 1 1 1 1 1 1 1 1 1 1 1 1 1 1 1 1 1 1 1 1 1 1 1 1 1 1 1 1 1 1 1 1 1 1 1 0 0 0 0 0 0 0 0 0 0 0 0 0 0 0 0 0 0 0 0 0 0 0 0 0 0 0 0 0 0 0 0 0 0 0 0 0 0 0 0 0 0 0 0 0 0 0 0 0 0 0 0 0 0 0 0 0 0 0 0 0 0 0 0 0 0 0 0 0 0 0 0 0 0 0 0 0 0 0 0 0 0 0 0 0 0 0 0 0 0 0 0\n"
     ]
    },
    {
     "name": "stderr",
     "output_type": "stream",
     "text": [
      "INFO:tensorflow:input_mask: 1 1 1 1 1 1 1 1 1 1 1 1 1 1 1 1 1 1 1 1 1 1 1 1 1 1 1 1 1 1 1 1 1 1 1 1 0 0 0 0 0 0 0 0 0 0 0 0 0 0 0 0 0 0 0 0 0 0 0 0 0 0 0 0 0 0 0 0 0 0 0 0 0 0 0 0 0 0 0 0 0 0 0 0 0 0 0 0 0 0 0 0 0 0 0 0 0 0 0 0 0 0 0 0 0 0 0 0 0 0 0 0 0 0 0 0 0 0 0 0 0 0 0 0 0 0 0 0\n"
     ]
    },
    {
     "name": "stdout",
     "output_type": "stream",
     "text": [
      "INFO:tensorflow:segment_ids: 0 0 0 0 0 0 0 0 0 0 0 0 0 0 0 0 0 0 0 0 0 0 0 0 0 0 0 0 0 0 0 0 0 0 0 0 0 0 0 0 0 0 0 0 0 0 0 0 0 0 0 0 0 0 0 0 0 0 0 0 0 0 0 0 0 0 0 0 0 0 0 0 0 0 0 0 0 0 0 0 0 0 0 0 0 0 0 0 0 0 0 0 0 0 0 0 0 0 0 0 0 0 0 0 0 0 0 0 0 0 0 0 0 0 0 0 0 0 0 0 0 0 0 0 0 0 0 0\n"
     ]
    },
    {
     "name": "stderr",
     "output_type": "stream",
     "text": [
      "INFO:tensorflow:segment_ids: 0 0 0 0 0 0 0 0 0 0 0 0 0 0 0 0 0 0 0 0 0 0 0 0 0 0 0 0 0 0 0 0 0 0 0 0 0 0 0 0 0 0 0 0 0 0 0 0 0 0 0 0 0 0 0 0 0 0 0 0 0 0 0 0 0 0 0 0 0 0 0 0 0 0 0 0 0 0 0 0 0 0 0 0 0 0 0 0 0 0 0 0 0 0 0 0 0 0 0 0 0 0 0 0 0 0 0 0 0 0 0 0 0 0 0 0 0 0 0 0 0 0 0 0 0 0 0 0\n"
     ]
    },
    {
     "name": "stdout",
     "output_type": "stream",
     "text": [
      "INFO:tensorflow:label: [0, 0, 0, 0, 0, 0, 0, 0, 0, 0, 0, 0, 0, 0, 0] (id = [0, 0, 0, 0, 0, 0, 0, 0, 0, 0, 0, 0, 0, 0, 0])\n"
     ]
    },
    {
     "name": "stderr",
     "output_type": "stream",
     "text": [
      "INFO:tensorflow:label: [0, 0, 0, 0, 0, 0, 0, 0, 0, 0, 0, 0, 0, 0, 0] (id = [0, 0, 0, 0, 0, 0, 0, 0, 0, 0, 0, 0, 0, 0, 0])\n"
     ]
    },
    {
     "name": "stdout",
     "output_type": "stream",
     "text": [
      "INFO:tensorflow:*** Example ***\n"
     ]
    },
    {
     "name": "stderr",
     "output_type": "stream",
     "text": [
      "INFO:tensorflow:*** Example ***\n"
     ]
    },
    {
     "name": "stdout",
     "output_type": "stream",
     "text": [
      "INFO:tensorflow:guid: \n"
     ]
    },
    {
     "name": "stderr",
     "output_type": "stream",
     "text": [
      "INFO:tensorflow:guid: \n"
     ]
    },
    {
     "name": "stdout",
     "output_type": "stream",
     "text": [
      "INFO:tensorflow:tokens: [CLS] read more about how index insurance is an important tool that helps poor small ##holder farmers cope with increasing climate risks and provides support when crop losses occur as a result of drought . [SEP]\n"
     ]
    },
    {
     "name": "stderr",
     "output_type": "stream",
     "text": [
      "INFO:tensorflow:tokens: [CLS] read more about how index insurance is an important tool that helps poor small ##holder farmers cope with increasing climate risks and provides support when crop losses occur as a result of drought . [SEP]\n"
     ]
    },
    {
     "name": "stdout",
     "output_type": "stream",
     "text": [
      "INFO:tensorflow:input_ids: 101 3191 2062 2055 2129 5950 5427 2003 2019 2590 6994 2008 7126 3532 2235 14528 6617 11997 2007 4852 4785 10831 1998 3640 2490 2043 10416 6409 5258 2004 1037 2765 1997 14734 1012 102 0 0 0 0 0 0 0 0 0 0 0 0 0 0 0 0 0 0 0 0 0 0 0 0 0 0 0 0 0 0 0 0 0 0 0 0 0 0 0 0 0 0 0 0 0 0 0 0 0 0 0 0 0 0 0 0 0 0 0 0 0 0 0 0 0 0 0 0 0 0 0 0 0 0 0 0 0 0 0 0 0 0 0 0 0 0 0 0 0 0 0 0\n"
     ]
    },
    {
     "name": "stderr",
     "output_type": "stream",
     "text": [
      "INFO:tensorflow:input_ids: 101 3191 2062 2055 2129 5950 5427 2003 2019 2590 6994 2008 7126 3532 2235 14528 6617 11997 2007 4852 4785 10831 1998 3640 2490 2043 10416 6409 5258 2004 1037 2765 1997 14734 1012 102 0 0 0 0 0 0 0 0 0 0 0 0 0 0 0 0 0 0 0 0 0 0 0 0 0 0 0 0 0 0 0 0 0 0 0 0 0 0 0 0 0 0 0 0 0 0 0 0 0 0 0 0 0 0 0 0 0 0 0 0 0 0 0 0 0 0 0 0 0 0 0 0 0 0 0 0 0 0 0 0 0 0 0 0 0 0 0 0 0 0 0 0\n"
     ]
    },
    {
     "name": "stdout",
     "output_type": "stream",
     "text": [
      "INFO:tensorflow:input_mask: 1 1 1 1 1 1 1 1 1 1 1 1 1 1 1 1 1 1 1 1 1 1 1 1 1 1 1 1 1 1 1 1 1 1 1 1 0 0 0 0 0 0 0 0 0 0 0 0 0 0 0 0 0 0 0 0 0 0 0 0 0 0 0 0 0 0 0 0 0 0 0 0 0 0 0 0 0 0 0 0 0 0 0 0 0 0 0 0 0 0 0 0 0 0 0 0 0 0 0 0 0 0 0 0 0 0 0 0 0 0 0 0 0 0 0 0 0 0 0 0 0 0 0 0 0 0 0 0\n"
     ]
    },
    {
     "name": "stderr",
     "output_type": "stream",
     "text": [
      "INFO:tensorflow:input_mask: 1 1 1 1 1 1 1 1 1 1 1 1 1 1 1 1 1 1 1 1 1 1 1 1 1 1 1 1 1 1 1 1 1 1 1 1 0 0 0 0 0 0 0 0 0 0 0 0 0 0 0 0 0 0 0 0 0 0 0 0 0 0 0 0 0 0 0 0 0 0 0 0 0 0 0 0 0 0 0 0 0 0 0 0 0 0 0 0 0 0 0 0 0 0 0 0 0 0 0 0 0 0 0 0 0 0 0 0 0 0 0 0 0 0 0 0 0 0 0 0 0 0 0 0 0 0 0 0\n"
     ]
    },
    {
     "name": "stdout",
     "output_type": "stream",
     "text": [
      "INFO:tensorflow:segment_ids: 0 0 0 0 0 0 0 0 0 0 0 0 0 0 0 0 0 0 0 0 0 0 0 0 0 0 0 0 0 0 0 0 0 0 0 0 0 0 0 0 0 0 0 0 0 0 0 0 0 0 0 0 0 0 0 0 0 0 0 0 0 0 0 0 0 0 0 0 0 0 0 0 0 0 0 0 0 0 0 0 0 0 0 0 0 0 0 0 0 0 0 0 0 0 0 0 0 0 0 0 0 0 0 0 0 0 0 0 0 0 0 0 0 0 0 0 0 0 0 0 0 0 0 0 0 0 0 0\n"
     ]
    },
    {
     "name": "stderr",
     "output_type": "stream",
     "text": [
      "INFO:tensorflow:segment_ids: 0 0 0 0 0 0 0 0 0 0 0 0 0 0 0 0 0 0 0 0 0 0 0 0 0 0 0 0 0 0 0 0 0 0 0 0 0 0 0 0 0 0 0 0 0 0 0 0 0 0 0 0 0 0 0 0 0 0 0 0 0 0 0 0 0 0 0 0 0 0 0 0 0 0 0 0 0 0 0 0 0 0 0 0 0 0 0 0 0 0 0 0 0 0 0 0 0 0 0 0 0 0 0 0 0 0 0 0 0 0 0 0 0 0 0 0 0 0 0 0 0 0 0 0 0 0 0 0\n"
     ]
    },
    {
     "name": "stdout",
     "output_type": "stream",
     "text": [
      "INFO:tensorflow:label: [0, 0, 0, 0, 0, 0, 0, 0, 0, 0, 0, 0, 0, 0, 0] (id = [0, 0, 0, 0, 0, 0, 0, 0, 0, 0, 0, 0, 0, 0, 0])\n"
     ]
    },
    {
     "name": "stderr",
     "output_type": "stream",
     "text": [
      "INFO:tensorflow:label: [0, 0, 0, 0, 0, 0, 0, 0, 0, 0, 0, 0, 0, 0, 0] (id = [0, 0, 0, 0, 0, 0, 0, 0, 0, 0, 0, 0, 0, 0, 0])\n"
     ]
    },
    {
     "name": "stdout",
     "output_type": "stream",
     "text": [
      "INFO:tensorflow:*** Example ***\n"
     ]
    },
    {
     "name": "stderr",
     "output_type": "stream",
     "text": [
      "INFO:tensorflow:*** Example ***\n"
     ]
    },
    {
     "name": "stdout",
     "output_type": "stream",
     "text": [
      "INFO:tensorflow:guid: \n"
     ]
    },
    {
     "name": "stderr",
     "output_type": "stream",
     "text": [
      "INFO:tensorflow:guid: \n"
     ]
    },
    {
     "name": "stdout",
     "output_type": "stream",
     "text": [
      "INFO:tensorflow:tokens: [CLS] the practices of contract farming among fresh fruit and vegetable suppliers in malaysia . [SEP]\n"
     ]
    },
    {
     "name": "stderr",
     "output_type": "stream",
     "text": [
      "INFO:tensorflow:tokens: [CLS] the practices of contract farming among fresh fruit and vegetable suppliers in malaysia . [SEP]\n"
     ]
    },
    {
     "name": "stdout",
     "output_type": "stream",
     "text": [
      "INFO:tensorflow:input_ids: 101 1996 6078 1997 3206 7876 2426 4840 5909 1998 15415 20141 1999 6027 1012 102 0 0 0 0 0 0 0 0 0 0 0 0 0 0 0 0 0 0 0 0 0 0 0 0 0 0 0 0 0 0 0 0 0 0 0 0 0 0 0 0 0 0 0 0 0 0 0 0 0 0 0 0 0 0 0 0 0 0 0 0 0 0 0 0 0 0 0 0 0 0 0 0 0 0 0 0 0 0 0 0 0 0 0 0 0 0 0 0 0 0 0 0 0 0 0 0 0 0 0 0 0 0 0 0 0 0 0 0 0 0 0 0\n"
     ]
    },
    {
     "name": "stderr",
     "output_type": "stream",
     "text": [
      "INFO:tensorflow:input_ids: 101 1996 6078 1997 3206 7876 2426 4840 5909 1998 15415 20141 1999 6027 1012 102 0 0 0 0 0 0 0 0 0 0 0 0 0 0 0 0 0 0 0 0 0 0 0 0 0 0 0 0 0 0 0 0 0 0 0 0 0 0 0 0 0 0 0 0 0 0 0 0 0 0 0 0 0 0 0 0 0 0 0 0 0 0 0 0 0 0 0 0 0 0 0 0 0 0 0 0 0 0 0 0 0 0 0 0 0 0 0 0 0 0 0 0 0 0 0 0 0 0 0 0 0 0 0 0 0 0 0 0 0 0 0 0\n"
     ]
    },
    {
     "name": "stdout",
     "output_type": "stream",
     "text": [
      "INFO:tensorflow:input_mask: 1 1 1 1 1 1 1 1 1 1 1 1 1 1 1 1 0 0 0 0 0 0 0 0 0 0 0 0 0 0 0 0 0 0 0 0 0 0 0 0 0 0 0 0 0 0 0 0 0 0 0 0 0 0 0 0 0 0 0 0 0 0 0 0 0 0 0 0 0 0 0 0 0 0 0 0 0 0 0 0 0 0 0 0 0 0 0 0 0 0 0 0 0 0 0 0 0 0 0 0 0 0 0 0 0 0 0 0 0 0 0 0 0 0 0 0 0 0 0 0 0 0 0 0 0 0 0 0\n"
     ]
    },
    {
     "name": "stderr",
     "output_type": "stream",
     "text": [
      "INFO:tensorflow:input_mask: 1 1 1 1 1 1 1 1 1 1 1 1 1 1 1 1 0 0 0 0 0 0 0 0 0 0 0 0 0 0 0 0 0 0 0 0 0 0 0 0 0 0 0 0 0 0 0 0 0 0 0 0 0 0 0 0 0 0 0 0 0 0 0 0 0 0 0 0 0 0 0 0 0 0 0 0 0 0 0 0 0 0 0 0 0 0 0 0 0 0 0 0 0 0 0 0 0 0 0 0 0 0 0 0 0 0 0 0 0 0 0 0 0 0 0 0 0 0 0 0 0 0 0 0 0 0 0 0\n"
     ]
    },
    {
     "name": "stdout",
     "output_type": "stream",
     "text": [
      "INFO:tensorflow:segment_ids: 0 0 0 0 0 0 0 0 0 0 0 0 0 0 0 0 0 0 0 0 0 0 0 0 0 0 0 0 0 0 0 0 0 0 0 0 0 0 0 0 0 0 0 0 0 0 0 0 0 0 0 0 0 0 0 0 0 0 0 0 0 0 0 0 0 0 0 0 0 0 0 0 0 0 0 0 0 0 0 0 0 0 0 0 0 0 0 0 0 0 0 0 0 0 0 0 0 0 0 0 0 0 0 0 0 0 0 0 0 0 0 0 0 0 0 0 0 0 0 0 0 0 0 0 0 0 0 0\n"
     ]
    },
    {
     "name": "stderr",
     "output_type": "stream",
     "text": [
      "INFO:tensorflow:segment_ids: 0 0 0 0 0 0 0 0 0 0 0 0 0 0 0 0 0 0 0 0 0 0 0 0 0 0 0 0 0 0 0 0 0 0 0 0 0 0 0 0 0 0 0 0 0 0 0 0 0 0 0 0 0 0 0 0 0 0 0 0 0 0 0 0 0 0 0 0 0 0 0 0 0 0 0 0 0 0 0 0 0 0 0 0 0 0 0 0 0 0 0 0 0 0 0 0 0 0 0 0 0 0 0 0 0 0 0 0 0 0 0 0 0 0 0 0 0 0 0 0 0 0 0 0 0 0 0 0\n"
     ]
    },
    {
     "name": "stdout",
     "output_type": "stream",
     "text": [
      "INFO:tensorflow:label: [0, 0, 0, 0, 0, 0, 0, 0, 0, 0, 0, 0, 0, 0, 0] (id = [0, 0, 0, 0, 0, 0, 0, 0, 0, 0, 0, 0, 0, 0, 0])\n"
     ]
    },
    {
     "name": "stderr",
     "output_type": "stream",
     "text": [
      "INFO:tensorflow:label: [0, 0, 0, 0, 0, 0, 0, 0, 0, 0, 0, 0, 0, 0, 0] (id = [0, 0, 0, 0, 0, 0, 0, 0, 0, 0, 0, 0, 0, 0, 0])\n"
     ]
    },
    {
     "name": "stdout",
     "output_type": "stream",
     "text": [
      "INFO:tensorflow:*** Example ***\n"
     ]
    },
    {
     "name": "stderr",
     "output_type": "stream",
     "text": [
      "INFO:tensorflow:*** Example ***\n"
     ]
    },
    {
     "name": "stdout",
     "output_type": "stream",
     "text": [
      "INFO:tensorflow:guid: \n"
     ]
    },
    {
     "name": "stderr",
     "output_type": "stream",
     "text": [
      "INFO:tensorflow:guid: \n"
     ]
    },
    {
     "name": "stdout",
     "output_type": "stream",
     "text": [
      "INFO:tensorflow:tokens: [CLS] problem statement : contract farming ( cf ) concept is an agreement between buyers and producers , where by producers agree to produce and supply agriculture products according to the agreed quantity , quality , variety , grade , type of packaging and time of delivery . [SEP]\n"
     ]
    },
    {
     "name": "stderr",
     "output_type": "stream",
     "text": [
      "INFO:tensorflow:tokens: [CLS] problem statement : contract farming ( cf ) concept is an agreement between buyers and producers , where by producers agree to produce and supply agriculture products according to the agreed quantity , quality , variety , grade , type of packaging and time of delivery . [SEP]\n"
     ]
    },
    {
     "name": "stdout",
     "output_type": "stream",
     "text": [
      "INFO:tensorflow:input_ids: 101 3291 4861 1024 3206 7876 1006 12935 1007 4145 2003 2019 3820 2090 17394 1998 6443 1010 2073 2011 6443 5993 2000 3965 1998 4425 5237 3688 2429 2000 1996 3530 11712 1010 3737 1010 3528 1010 3694 1010 2828 1997 14793 1998 2051 1997 6959 1012 102 0 0 0 0 0 0 0 0 0 0 0 0 0 0 0 0 0 0 0 0 0 0 0 0 0 0 0 0 0 0 0 0 0 0 0 0 0 0 0 0 0 0 0 0 0 0 0 0 0 0 0 0 0 0 0 0 0 0 0 0 0 0 0 0 0 0 0 0 0 0 0 0 0 0 0 0 0 0 0\n"
     ]
    },
    {
     "name": "stderr",
     "output_type": "stream",
     "text": [
      "INFO:tensorflow:input_ids: 101 3291 4861 1024 3206 7876 1006 12935 1007 4145 2003 2019 3820 2090 17394 1998 6443 1010 2073 2011 6443 5993 2000 3965 1998 4425 5237 3688 2429 2000 1996 3530 11712 1010 3737 1010 3528 1010 3694 1010 2828 1997 14793 1998 2051 1997 6959 1012 102 0 0 0 0 0 0 0 0 0 0 0 0 0 0 0 0 0 0 0 0 0 0 0 0 0 0 0 0 0 0 0 0 0 0 0 0 0 0 0 0 0 0 0 0 0 0 0 0 0 0 0 0 0 0 0 0 0 0 0 0 0 0 0 0 0 0 0 0 0 0 0 0 0 0 0 0 0 0 0\n"
     ]
    },
    {
     "name": "stdout",
     "output_type": "stream",
     "text": [
      "INFO:tensorflow:input_mask: 1 1 1 1 1 1 1 1 1 1 1 1 1 1 1 1 1 1 1 1 1 1 1 1 1 1 1 1 1 1 1 1 1 1 1 1 1 1 1 1 1 1 1 1 1 1 1 1 1 0 0 0 0 0 0 0 0 0 0 0 0 0 0 0 0 0 0 0 0 0 0 0 0 0 0 0 0 0 0 0 0 0 0 0 0 0 0 0 0 0 0 0 0 0 0 0 0 0 0 0 0 0 0 0 0 0 0 0 0 0 0 0 0 0 0 0 0 0 0 0 0 0 0 0 0 0 0 0\n"
     ]
    },
    {
     "name": "stderr",
     "output_type": "stream",
     "text": [
      "INFO:tensorflow:input_mask: 1 1 1 1 1 1 1 1 1 1 1 1 1 1 1 1 1 1 1 1 1 1 1 1 1 1 1 1 1 1 1 1 1 1 1 1 1 1 1 1 1 1 1 1 1 1 1 1 1 0 0 0 0 0 0 0 0 0 0 0 0 0 0 0 0 0 0 0 0 0 0 0 0 0 0 0 0 0 0 0 0 0 0 0 0 0 0 0 0 0 0 0 0 0 0 0 0 0 0 0 0 0 0 0 0 0 0 0 0 0 0 0 0 0 0 0 0 0 0 0 0 0 0 0 0 0 0 0\n"
     ]
    },
    {
     "name": "stdout",
     "output_type": "stream",
     "text": [
      "INFO:tensorflow:segment_ids: 0 0 0 0 0 0 0 0 0 0 0 0 0 0 0 0 0 0 0 0 0 0 0 0 0 0 0 0 0 0 0 0 0 0 0 0 0 0 0 0 0 0 0 0 0 0 0 0 0 0 0 0 0 0 0 0 0 0 0 0 0 0 0 0 0 0 0 0 0 0 0 0 0 0 0 0 0 0 0 0 0 0 0 0 0 0 0 0 0 0 0 0 0 0 0 0 0 0 0 0 0 0 0 0 0 0 0 0 0 0 0 0 0 0 0 0 0 0 0 0 0 0 0 0 0 0 0 0\n"
     ]
    },
    {
     "name": "stderr",
     "output_type": "stream",
     "text": [
      "INFO:tensorflow:segment_ids: 0 0 0 0 0 0 0 0 0 0 0 0 0 0 0 0 0 0 0 0 0 0 0 0 0 0 0 0 0 0 0 0 0 0 0 0 0 0 0 0 0 0 0 0 0 0 0 0 0 0 0 0 0 0 0 0 0 0 0 0 0 0 0 0 0 0 0 0 0 0 0 0 0 0 0 0 0 0 0 0 0 0 0 0 0 0 0 0 0 0 0 0 0 0 0 0 0 0 0 0 0 0 0 0 0 0 0 0 0 0 0 0 0 0 0 0 0 0 0 0 0 0 0 0 0 0 0 0\n"
     ]
    },
    {
     "name": "stdout",
     "output_type": "stream",
     "text": [
      "INFO:tensorflow:label: [0, 0, 0, 0, 0, 0, 0, 0, 0, 0, 0, 0, 0, 0, 0] (id = [0, 0, 0, 0, 0, 0, 0, 0, 0, 0, 0, 0, 0, 0, 0])\n"
     ]
    },
    {
     "name": "stderr",
     "output_type": "stream",
     "text": [
      "INFO:tensorflow:label: [0, 0, 0, 0, 0, 0, 0, 0, 0, 0, 0, 0, 0, 0, 0] (id = [0, 0, 0, 0, 0, 0, 0, 0, 0, 0, 0, 0, 0, 0, 0])\n"
     ]
    },
    {
     "name": "stdout",
     "output_type": "stream",
     "text": [
      "INFO:tensorflow:Calling model_fn.\n"
     ]
    },
    {
     "name": "stderr",
     "output_type": "stream",
     "text": [
      "INFO:tensorflow:Calling model_fn.\n"
     ]
    },
    {
     "name": "stdout",
     "output_type": "stream",
     "text": [
      "Used for model gpu 0\n",
      "INFO:tensorflow:Saver not created because there are no variables in the graph to restore\n"
     ]
    },
    {
     "name": "stderr",
     "output_type": "stream",
     "text": [
      "INFO:tensorflow:Saver not created because there are no variables in the graph to restore\n"
     ]
    },
    {
     "name": "stdout",
     "output_type": "stream",
     "text": [
      "INFO:tensorflow:Done calling model_fn.\n"
     ]
    },
    {
     "name": "stderr",
     "output_type": "stream",
     "text": [
      "INFO:tensorflow:Done calling model_fn.\n"
     ]
    },
    {
     "name": "stdout",
     "output_type": "stream",
     "text": [
      "INFO:tensorflow:Graph was finalized.\n"
     ]
    },
    {
     "name": "stderr",
     "output_type": "stream",
     "text": [
      "INFO:tensorflow:Graph was finalized.\n"
     ]
    },
    {
     "name": "stdout",
     "output_type": "stream",
     "text": [
      "INFO:tensorflow:Restoring parameters from ../model/bert_exp_outcome_sentences_new_multilabel_15epoch_1300_mixed_0.7/model.ckpt-1724\n"
     ]
    },
    {
     "name": "stderr",
     "output_type": "stream",
     "text": [
      "INFO:tensorflow:Restoring parameters from ../model/bert_exp_outcome_sentences_new_multilabel_15epoch_1300_mixed_0.7/model.ckpt-1724\n"
     ]
    },
    {
     "name": "stdout",
     "output_type": "stream",
     "text": [
      "INFO:tensorflow:Running local_init_op.\n"
     ]
    },
    {
     "name": "stderr",
     "output_type": "stream",
     "text": [
      "INFO:tensorflow:Running local_init_op.\n"
     ]
    },
    {
     "name": "stdout",
     "output_type": "stream",
     "text": [
      "INFO:tensorflow:Done running local_init_op.\n"
     ]
    },
    {
     "name": "stderr",
     "output_type": "stream",
     "text": [
      "INFO:tensorflow:Done running local_init_op.\n"
     ]
    },
    {
     "name": "stdout",
     "output_type": "stream",
     "text": [
      "Processed for 28.519842863082886s\n"
     ]
    }
   ],
   "source": [
    "from text_processing import all_column_filler\n",
    "all_column_filler = reload(all_column_filler)\n",
    "from text_processing import author_normalizer\n",
    "author_normalizer = reload(author_normalizer)\n",
    "\n",
    "_all_column_filler = all_column_filler.AllColumnFiller()\n",
    "df = _all_column_filler.fill_columns_for_df(df, search_engine_inverted_index, _abbreviations_resolver,\n",
    "                                            settings_json = {\"columns\":[\n",
    "    {\"column_filler_class\":\"KeywordNormalizer\"},\n",
    "    {\"column_filler_class\":\"JournalNormalizer\"},\n",
    "    {\"column_filler_class\":\"AuthorAndAuthorAffiliationExtractor\", \"author_mapping\": {\"raw_authors\": \"authors\"},\n",
    "     \"affiliations_mapping\": {\"raw_affiliation\": \"affiliation\"}},\n",
    "    {\"column_filler_class\":\"GeoNameFinder\"},\n",
    "    {\"column_filler_class\":\"CropsSearch\", \"file_dictionary\":\"../data/map_plant_products.xlsx\", \n",
    "     \"column_name\":\"plant_products_search\"},\n",
    "    {\"column_filler_class\":\"CropsSearch\", \"file_dictionary\":\"../data/map_animal_products.xlsx\",\n",
    "     \"column_name\":\"animal_products_search\"},\n",
    "    {\"column_filler_class\":\"CropsSearch\", \"column_name\": \"animals_found\", \"keep_hierarchy\": False,\n",
    "     \"file_dictionary\":\"../data/map_animals.xlsx\"},\n",
    "    {\"column_filler_class\":\"PopulationTagsFinder\"},\n",
    "    {\"column_filler_class\":\"ColumnFiller\", \"column_name\": \"gender_age_population_tags\", \n",
    "     \"keep_hierarchy\": False, \"column_dictionary\":\"../data/population_tags.xlsx\"},\n",
    "    {\"column_filler_class\":\"InterventionsSearchForLabeling\", \"file\":\"../tmp/interventions.xlsx\"},\n",
    "    {\"column_filler_class\":\"MeasurementsLabeler\", \"model_folder\": \"../model/bert_measurements_model\",\n",
    "     \"folder_with_measurements\":\"../tmp/sample_reaper_measurements\",\n",
    "     \"mappings_for_measurements\":{\n",
    "        \"interventions_found_raw\":\"measurements_for_interventions\",\\\n",
    "        \"plant_products_search_details\":\"measurements_for_crops\",\\\n",
    "        \"animal_products_search_details\":\"measurements_for_crops\",\\\n",
    "        \"animals_found_details\": \"measurements_for_animals\"\n",
    "    }},\n",
    "    {\"column_filler_class\": \"ProgramExtractor\", \"column_name\": \"programs_found\", \"model_type\": \"model\",\n",
    "     \"model_folder\": \"../model/programs_extraction_model_2619\", \"columns_to_process\": [\"title\", \"abstract\"]},\n",
    "    {\"column_filler_class\": \"StudyTypeLabeller\", \"folder\": \"../model/study_type_multi\",\n",
    "     \"meta_folder\": \"../model/study_type_multi_meta_agg\",\n",
    "     \"scibert_model_folder\": \"../model/scibert_scivocab_uncased\"},\n",
    "    {\"column_filler_class\": \"OutcomesFinder\", \"model_folder\": \"../model/bert_exp_outcome_sentences_new_multilabel_15epoch_1300_mixed_0.7\"}\n",
    "]})"
   ]
  },
  {
   "cell_type": "code",
   "execution_count": 38,
   "id": "af4eda47",
   "metadata": {},
   "outputs": [
    {
     "name": "stdout",
     "output_type": "stream",
     "text": [
      "Started tokenizer loading\n",
      "Used gpu 0\n",
      "INFO:tensorflow:Saver not created because there are no variables in the graph to restore\n"
     ]
    },
    {
     "name": "stderr",
     "output_type": "stream",
     "text": [
      "INFO:tensorflow:Saver not created because there are no variables in the graph to restore\n"
     ]
    },
    {
     "name": "stdout",
     "output_type": "stream",
     "text": [
      "Model partly loaded\n",
      "Tokenizrer loaded\n",
      "0\n",
      "INFO:tensorflow:Using config: {'_model_dir': '../model/bert_usaid_interventions_multi_label_3', '_tf_random_seed': None, '_save_summary_steps': 100, '_save_checkpoints_steps': 500, '_save_checkpoints_secs': None, '_session_config': allow_soft_placement: true\n",
      "graph_options {\n",
      "  rewrite_options {\n",
      "    meta_optimizer_iterations: ONE\n",
      "  }\n",
      "}\n",
      ", '_keep_checkpoint_max': 5, '_keep_checkpoint_every_n_hours': 10000, '_log_step_count_steps': 100, '_train_distribute': None, '_device_fn': None, '_protocol': None, '_eval_distribute': None, '_experimental_distribute': None, '_service': None, '_cluster_spec': <tensorflow.python.training.server_lib.ClusterSpec object at 0x7f8e495aaeb8>, '_task_type': 'worker', '_task_id': 0, '_global_id_in_cluster': 0, '_master': '', '_evaluation_master': '', '_is_chief': True, '_num_ps_replicas': 0, '_num_worker_replicas': 1}\n"
     ]
    },
    {
     "name": "stderr",
     "output_type": "stream",
     "text": [
      "INFO:tensorflow:Using config: {'_model_dir': '../model/bert_usaid_interventions_multi_label_3', '_tf_random_seed': None, '_save_summary_steps': 100, '_save_checkpoints_steps': 500, '_save_checkpoints_secs': None, '_session_config': allow_soft_placement: true\n",
      "graph_options {\n",
      "  rewrite_options {\n",
      "    meta_optimizer_iterations: ONE\n",
      "  }\n",
      "}\n",
      ", '_keep_checkpoint_max': 5, '_keep_checkpoint_every_n_hours': 10000, '_log_step_count_steps': 100, '_train_distribute': None, '_device_fn': None, '_protocol': None, '_eval_distribute': None, '_experimental_distribute': None, '_service': None, '_cluster_spec': <tensorflow.python.training.server_lib.ClusterSpec object at 0x7f8e495aaeb8>, '_task_type': 'worker', '_task_id': 0, '_global_id_in_cluster': 0, '_master': '', '_evaluation_master': '', '_is_chief': True, '_num_ps_replicas': 0, '_num_worker_replicas': 1}\n"
     ]
    },
    {
     "name": "stdout",
     "output_type": "stream",
     "text": [
      "Config is done\n",
      "INFO:tensorflow:Writing example 0 of 1698\n"
     ]
    },
    {
     "name": "stderr",
     "output_type": "stream",
     "text": [
      "INFO:tensorflow:Writing example 0 of 1698\n"
     ]
    },
    {
     "name": "stdout",
     "output_type": "stream",
     "text": [
      "INFO:tensorflow:*** Example ***\n"
     ]
    },
    {
     "name": "stderr",
     "output_type": "stream",
     "text": [
      "INFO:tensorflow:*** Example ***\n"
     ]
    },
    {
     "name": "stdout",
     "output_type": "stream",
     "text": [
      "INFO:tensorflow:guid: \n"
     ]
    },
    {
     "name": "stderr",
     "output_type": "stream",
     "text": [
      "INFO:tensorflow:guid: \n"
     ]
    },
    {
     "name": "stdout",
     "output_type": "stream",
     "text": [
      "INFO:tensorflow:tokens: [CLS] market price ( mp ) [SEP]\n"
     ]
    },
    {
     "name": "stderr",
     "output_type": "stream",
     "text": [
      "INFO:tensorflow:tokens: [CLS] market price ( mp ) [SEP]\n"
     ]
    },
    {
     "name": "stdout",
     "output_type": "stream",
     "text": [
      "INFO:tensorflow:input_ids: 101 3006 3976 1006 6131 1007 102 0 0 0 0 0 0 0 0 0 0 0 0 0 0 0 0 0 0 0 0 0 0 0 0 0 0 0 0 0 0 0 0 0 0 0 0 0 0 0 0 0 0 0 0 0 0 0 0 0 0 0 0 0 0 0 0 0 0 0 0 0 0 0 0 0 0 0 0 0 0 0 0 0 0 0 0 0 0 0 0 0 0 0 0 0 0 0 0 0 0 0 0 0 0 0 0 0 0 0 0 0 0 0 0 0 0 0 0 0 0 0 0 0 0 0 0 0 0 0 0 0 0 0 0 0 0 0 0 0 0 0 0 0 0 0 0 0 0 0 0 0 0 0 0 0 0 0 0 0 0 0 0 0 0 0 0 0 0 0 0 0 0 0 0 0 0 0 0 0 0 0 0 0 0 0 0 0 0 0 0 0 0 0 0 0 0 0 0 0 0 0 0 0 0 0 0 0 0 0 0 0 0 0 0 0 0 0 0 0 0 0 0 0 0 0 0 0 0 0 0 0 0 0 0 0 0 0 0 0 0 0 0 0 0 0 0 0 0 0 0 0 0 0 0 0 0 0 0 0\n"
     ]
    },
    {
     "name": "stderr",
     "output_type": "stream",
     "text": [
      "INFO:tensorflow:input_ids: 101 3006 3976 1006 6131 1007 102 0 0 0 0 0 0 0 0 0 0 0 0 0 0 0 0 0 0 0 0 0 0 0 0 0 0 0 0 0 0 0 0 0 0 0 0 0 0 0 0 0 0 0 0 0 0 0 0 0 0 0 0 0 0 0 0 0 0 0 0 0 0 0 0 0 0 0 0 0 0 0 0 0 0 0 0 0 0 0 0 0 0 0 0 0 0 0 0 0 0 0 0 0 0 0 0 0 0 0 0 0 0 0 0 0 0 0 0 0 0 0 0 0 0 0 0 0 0 0 0 0 0 0 0 0 0 0 0 0 0 0 0 0 0 0 0 0 0 0 0 0 0 0 0 0 0 0 0 0 0 0 0 0 0 0 0 0 0 0 0 0 0 0 0 0 0 0 0 0 0 0 0 0 0 0 0 0 0 0 0 0 0 0 0 0 0 0 0 0 0 0 0 0 0 0 0 0 0 0 0 0 0 0 0 0 0 0 0 0 0 0 0 0 0 0 0 0 0 0 0 0 0 0 0 0 0 0 0 0 0 0 0 0 0 0 0 0 0 0 0 0 0 0 0 0 0 0 0 0\n"
     ]
    },
    {
     "name": "stdout",
     "output_type": "stream",
     "text": [
      "INFO:tensorflow:input_mask: 1 1 1 1 1 1 1 0 0 0 0 0 0 0 0 0 0 0 0 0 0 0 0 0 0 0 0 0 0 0 0 0 0 0 0 0 0 0 0 0 0 0 0 0 0 0 0 0 0 0 0 0 0 0 0 0 0 0 0 0 0 0 0 0 0 0 0 0 0 0 0 0 0 0 0 0 0 0 0 0 0 0 0 0 0 0 0 0 0 0 0 0 0 0 0 0 0 0 0 0 0 0 0 0 0 0 0 0 0 0 0 0 0 0 0 0 0 0 0 0 0 0 0 0 0 0 0 0 0 0 0 0 0 0 0 0 0 0 0 0 0 0 0 0 0 0 0 0 0 0 0 0 0 0 0 0 0 0 0 0 0 0 0 0 0 0 0 0 0 0 0 0 0 0 0 0 0 0 0 0 0 0 0 0 0 0 0 0 0 0 0 0 0 0 0 0 0 0 0 0 0 0 0 0 0 0 0 0 0 0 0 0 0 0 0 0 0 0 0 0 0 0 0 0 0 0 0 0 0 0 0 0 0 0 0 0 0 0 0 0 0 0 0 0 0 0 0 0 0 0 0 0 0 0 0 0\n"
     ]
    },
    {
     "name": "stderr",
     "output_type": "stream",
     "text": [
      "INFO:tensorflow:input_mask: 1 1 1 1 1 1 1 0 0 0 0 0 0 0 0 0 0 0 0 0 0 0 0 0 0 0 0 0 0 0 0 0 0 0 0 0 0 0 0 0 0 0 0 0 0 0 0 0 0 0 0 0 0 0 0 0 0 0 0 0 0 0 0 0 0 0 0 0 0 0 0 0 0 0 0 0 0 0 0 0 0 0 0 0 0 0 0 0 0 0 0 0 0 0 0 0 0 0 0 0 0 0 0 0 0 0 0 0 0 0 0 0 0 0 0 0 0 0 0 0 0 0 0 0 0 0 0 0 0 0 0 0 0 0 0 0 0 0 0 0 0 0 0 0 0 0 0 0 0 0 0 0 0 0 0 0 0 0 0 0 0 0 0 0 0 0 0 0 0 0 0 0 0 0 0 0 0 0 0 0 0 0 0 0 0 0 0 0 0 0 0 0 0 0 0 0 0 0 0 0 0 0 0 0 0 0 0 0 0 0 0 0 0 0 0 0 0 0 0 0 0 0 0 0 0 0 0 0 0 0 0 0 0 0 0 0 0 0 0 0 0 0 0 0 0 0 0 0 0 0 0 0 0 0 0 0\n"
     ]
    },
    {
     "name": "stdout",
     "output_type": "stream",
     "text": [
      "INFO:tensorflow:segment_ids: 0 0 0 0 0 0 0 0 0 0 0 0 0 0 0 0 0 0 0 0 0 0 0 0 0 0 0 0 0 0 0 0 0 0 0 0 0 0 0 0 0 0 0 0 0 0 0 0 0 0 0 0 0 0 0 0 0 0 0 0 0 0 0 0 0 0 0 0 0 0 0 0 0 0 0 0 0 0 0 0 0 0 0 0 0 0 0 0 0 0 0 0 0 0 0 0 0 0 0 0 0 0 0 0 0 0 0 0 0 0 0 0 0 0 0 0 0 0 0 0 0 0 0 0 0 0 0 0 0 0 0 0 0 0 0 0 0 0 0 0 0 0 0 0 0 0 0 0 0 0 0 0 0 0 0 0 0 0 0 0 0 0 0 0 0 0 0 0 0 0 0 0 0 0 0 0 0 0 0 0 0 0 0 0 0 0 0 0 0 0 0 0 0 0 0 0 0 0 0 0 0 0 0 0 0 0 0 0 0 0 0 0 0 0 0 0 0 0 0 0 0 0 0 0 0 0 0 0 0 0 0 0 0 0 0 0 0 0 0 0 0 0 0 0 0 0 0 0 0 0 0 0 0 0 0 0\n"
     ]
    },
    {
     "name": "stderr",
     "output_type": "stream",
     "text": [
      "INFO:tensorflow:segment_ids: 0 0 0 0 0 0 0 0 0 0 0 0 0 0 0 0 0 0 0 0 0 0 0 0 0 0 0 0 0 0 0 0 0 0 0 0 0 0 0 0 0 0 0 0 0 0 0 0 0 0 0 0 0 0 0 0 0 0 0 0 0 0 0 0 0 0 0 0 0 0 0 0 0 0 0 0 0 0 0 0 0 0 0 0 0 0 0 0 0 0 0 0 0 0 0 0 0 0 0 0 0 0 0 0 0 0 0 0 0 0 0 0 0 0 0 0 0 0 0 0 0 0 0 0 0 0 0 0 0 0 0 0 0 0 0 0 0 0 0 0 0 0 0 0 0 0 0 0 0 0 0 0 0 0 0 0 0 0 0 0 0 0 0 0 0 0 0 0 0 0 0 0 0 0 0 0 0 0 0 0 0 0 0 0 0 0 0 0 0 0 0 0 0 0 0 0 0 0 0 0 0 0 0 0 0 0 0 0 0 0 0 0 0 0 0 0 0 0 0 0 0 0 0 0 0 0 0 0 0 0 0 0 0 0 0 0 0 0 0 0 0 0 0 0 0 0 0 0 0 0 0 0 0 0 0 0\n"
     ]
    },
    {
     "name": "stdout",
     "output_type": "stream",
     "text": [
      "INFO:tensorflow:label: [0, 0, 0, 0, 0, 0, 0, 0, 0, 0, 0] (id = [0, 0, 0, 0, 0, 0, 0, 0, 0, 0, 0])\n"
     ]
    },
    {
     "name": "stderr",
     "output_type": "stream",
     "text": [
      "INFO:tensorflow:label: [0, 0, 0, 0, 0, 0, 0, 0, 0, 0, 0] (id = [0, 0, 0, 0, 0, 0, 0, 0, 0, 0, 0])\n"
     ]
    },
    {
     "name": "stdout",
     "output_type": "stream",
     "text": [
      "INFO:tensorflow:*** Example ***\n"
     ]
    },
    {
     "name": "stderr",
     "output_type": "stream",
     "text": [
      "INFO:tensorflow:*** Example ***\n"
     ]
    },
    {
     "name": "stdout",
     "output_type": "stream",
     "text": [
      "INFO:tensorflow:guid: \n"
     ]
    },
    {
     "name": "stderr",
     "output_type": "stream",
     "text": [
      "INFO:tensorflow:guid: \n"
     ]
    },
    {
     "name": "stdout",
     "output_type": "stream",
     "text": [
      "INFO:tensorflow:tokens: [CLS] marketing practice [SEP]\n"
     ]
    },
    {
     "name": "stderr",
     "output_type": "stream",
     "text": [
      "INFO:tensorflow:tokens: [CLS] marketing practice [SEP]\n"
     ]
    },
    {
     "name": "stdout",
     "output_type": "stream",
     "text": [
      "INFO:tensorflow:input_ids: 101 5821 3218 102 0 0 0 0 0 0 0 0 0 0 0 0 0 0 0 0 0 0 0 0 0 0 0 0 0 0 0 0 0 0 0 0 0 0 0 0 0 0 0 0 0 0 0 0 0 0 0 0 0 0 0 0 0 0 0 0 0 0 0 0 0 0 0 0 0 0 0 0 0 0 0 0 0 0 0 0 0 0 0 0 0 0 0 0 0 0 0 0 0 0 0 0 0 0 0 0 0 0 0 0 0 0 0 0 0 0 0 0 0 0 0 0 0 0 0 0 0 0 0 0 0 0 0 0 0 0 0 0 0 0 0 0 0 0 0 0 0 0 0 0 0 0 0 0 0 0 0 0 0 0 0 0 0 0 0 0 0 0 0 0 0 0 0 0 0 0 0 0 0 0 0 0 0 0 0 0 0 0 0 0 0 0 0 0 0 0 0 0 0 0 0 0 0 0 0 0 0 0 0 0 0 0 0 0 0 0 0 0 0 0 0 0 0 0 0 0 0 0 0 0 0 0 0 0 0 0 0 0 0 0 0 0 0 0 0 0 0 0 0 0 0 0 0 0 0 0 0 0 0 0 0 0\n"
     ]
    },
    {
     "name": "stderr",
     "output_type": "stream",
     "text": [
      "INFO:tensorflow:input_ids: 101 5821 3218 102 0 0 0 0 0 0 0 0 0 0 0 0 0 0 0 0 0 0 0 0 0 0 0 0 0 0 0 0 0 0 0 0 0 0 0 0 0 0 0 0 0 0 0 0 0 0 0 0 0 0 0 0 0 0 0 0 0 0 0 0 0 0 0 0 0 0 0 0 0 0 0 0 0 0 0 0 0 0 0 0 0 0 0 0 0 0 0 0 0 0 0 0 0 0 0 0 0 0 0 0 0 0 0 0 0 0 0 0 0 0 0 0 0 0 0 0 0 0 0 0 0 0 0 0 0 0 0 0 0 0 0 0 0 0 0 0 0 0 0 0 0 0 0 0 0 0 0 0 0 0 0 0 0 0 0 0 0 0 0 0 0 0 0 0 0 0 0 0 0 0 0 0 0 0 0 0 0 0 0 0 0 0 0 0 0 0 0 0 0 0 0 0 0 0 0 0 0 0 0 0 0 0 0 0 0 0 0 0 0 0 0 0 0 0 0 0 0 0 0 0 0 0 0 0 0 0 0 0 0 0 0 0 0 0 0 0 0 0 0 0 0 0 0 0 0 0 0 0 0 0 0 0\n"
     ]
    },
    {
     "name": "stdout",
     "output_type": "stream",
     "text": [
      "INFO:tensorflow:input_mask: 1 1 1 1 0 0 0 0 0 0 0 0 0 0 0 0 0 0 0 0 0 0 0 0 0 0 0 0 0 0 0 0 0 0 0 0 0 0 0 0 0 0 0 0 0 0 0 0 0 0 0 0 0 0 0 0 0 0 0 0 0 0 0 0 0 0 0 0 0 0 0 0 0 0 0 0 0 0 0 0 0 0 0 0 0 0 0 0 0 0 0 0 0 0 0 0 0 0 0 0 0 0 0 0 0 0 0 0 0 0 0 0 0 0 0 0 0 0 0 0 0 0 0 0 0 0 0 0 0 0 0 0 0 0 0 0 0 0 0 0 0 0 0 0 0 0 0 0 0 0 0 0 0 0 0 0 0 0 0 0 0 0 0 0 0 0 0 0 0 0 0 0 0 0 0 0 0 0 0 0 0 0 0 0 0 0 0 0 0 0 0 0 0 0 0 0 0 0 0 0 0 0 0 0 0 0 0 0 0 0 0 0 0 0 0 0 0 0 0 0 0 0 0 0 0 0 0 0 0 0 0 0 0 0 0 0 0 0 0 0 0 0 0 0 0 0 0 0 0 0 0 0 0 0 0 0\n"
     ]
    },
    {
     "name": "stderr",
     "output_type": "stream",
     "text": [
      "INFO:tensorflow:input_mask: 1 1 1 1 0 0 0 0 0 0 0 0 0 0 0 0 0 0 0 0 0 0 0 0 0 0 0 0 0 0 0 0 0 0 0 0 0 0 0 0 0 0 0 0 0 0 0 0 0 0 0 0 0 0 0 0 0 0 0 0 0 0 0 0 0 0 0 0 0 0 0 0 0 0 0 0 0 0 0 0 0 0 0 0 0 0 0 0 0 0 0 0 0 0 0 0 0 0 0 0 0 0 0 0 0 0 0 0 0 0 0 0 0 0 0 0 0 0 0 0 0 0 0 0 0 0 0 0 0 0 0 0 0 0 0 0 0 0 0 0 0 0 0 0 0 0 0 0 0 0 0 0 0 0 0 0 0 0 0 0 0 0 0 0 0 0 0 0 0 0 0 0 0 0 0 0 0 0 0 0 0 0 0 0 0 0 0 0 0 0 0 0 0 0 0 0 0 0 0 0 0 0 0 0 0 0 0 0 0 0 0 0 0 0 0 0 0 0 0 0 0 0 0 0 0 0 0 0 0 0 0 0 0 0 0 0 0 0 0 0 0 0 0 0 0 0 0 0 0 0 0 0 0 0 0 0\n"
     ]
    },
    {
     "name": "stdout",
     "output_type": "stream",
     "text": [
      "INFO:tensorflow:segment_ids: 0 0 0 0 0 0 0 0 0 0 0 0 0 0 0 0 0 0 0 0 0 0 0 0 0 0 0 0 0 0 0 0 0 0 0 0 0 0 0 0 0 0 0 0 0 0 0 0 0 0 0 0 0 0 0 0 0 0 0 0 0 0 0 0 0 0 0 0 0 0 0 0 0 0 0 0 0 0 0 0 0 0 0 0 0 0 0 0 0 0 0 0 0 0 0 0 0 0 0 0 0 0 0 0 0 0 0 0 0 0 0 0 0 0 0 0 0 0 0 0 0 0 0 0 0 0 0 0 0 0 0 0 0 0 0 0 0 0 0 0 0 0 0 0 0 0 0 0 0 0 0 0 0 0 0 0 0 0 0 0 0 0 0 0 0 0 0 0 0 0 0 0 0 0 0 0 0 0 0 0 0 0 0 0 0 0 0 0 0 0 0 0 0 0 0 0 0 0 0 0 0 0 0 0 0 0 0 0 0 0 0 0 0 0 0 0 0 0 0 0 0 0 0 0 0 0 0 0 0 0 0 0 0 0 0 0 0 0 0 0 0 0 0 0 0 0 0 0 0 0 0 0 0 0 0 0\n"
     ]
    },
    {
     "name": "stderr",
     "output_type": "stream",
     "text": [
      "INFO:tensorflow:segment_ids: 0 0 0 0 0 0 0 0 0 0 0 0 0 0 0 0 0 0 0 0 0 0 0 0 0 0 0 0 0 0 0 0 0 0 0 0 0 0 0 0 0 0 0 0 0 0 0 0 0 0 0 0 0 0 0 0 0 0 0 0 0 0 0 0 0 0 0 0 0 0 0 0 0 0 0 0 0 0 0 0 0 0 0 0 0 0 0 0 0 0 0 0 0 0 0 0 0 0 0 0 0 0 0 0 0 0 0 0 0 0 0 0 0 0 0 0 0 0 0 0 0 0 0 0 0 0 0 0 0 0 0 0 0 0 0 0 0 0 0 0 0 0 0 0 0 0 0 0 0 0 0 0 0 0 0 0 0 0 0 0 0 0 0 0 0 0 0 0 0 0 0 0 0 0 0 0 0 0 0 0 0 0 0 0 0 0 0 0 0 0 0 0 0 0 0 0 0 0 0 0 0 0 0 0 0 0 0 0 0 0 0 0 0 0 0 0 0 0 0 0 0 0 0 0 0 0 0 0 0 0 0 0 0 0 0 0 0 0 0 0 0 0 0 0 0 0 0 0 0 0 0 0 0 0 0 0\n"
     ]
    },
    {
     "name": "stdout",
     "output_type": "stream",
     "text": [
      "INFO:tensorflow:label: [0, 0, 0, 0, 0, 0, 0, 0, 0, 0, 0] (id = [0, 0, 0, 0, 0, 0, 0, 0, 0, 0, 0])\n"
     ]
    },
    {
     "name": "stderr",
     "output_type": "stream",
     "text": [
      "INFO:tensorflow:label: [0, 0, 0, 0, 0, 0, 0, 0, 0, 0, 0] (id = [0, 0, 0, 0, 0, 0, 0, 0, 0, 0, 0])\n"
     ]
    },
    {
     "name": "stdout",
     "output_type": "stream",
     "text": [
      "INFO:tensorflow:*** Example ***\n"
     ]
    },
    {
     "name": "stderr",
     "output_type": "stream",
     "text": [
      "INFO:tensorflow:*** Example ***\n"
     ]
    },
    {
     "name": "stdout",
     "output_type": "stream",
     "text": [
      "INFO:tensorflow:guid: \n"
     ]
    },
    {
     "name": "stderr",
     "output_type": "stream",
     "text": [
      "INFO:tensorflow:guid: \n"
     ]
    },
    {
     "name": "stdout",
     "output_type": "stream",
     "text": [
      "INFO:tensorflow:tokens: [CLS] supply chain practice ( sc ##p ) [SEP]\n"
     ]
    },
    {
     "name": "stderr",
     "output_type": "stream",
     "text": [
      "INFO:tensorflow:tokens: [CLS] supply chain practice ( sc ##p ) [SEP]\n"
     ]
    },
    {
     "name": "stdout",
     "output_type": "stream",
     "text": [
      "INFO:tensorflow:input_ids: 101 4425 4677 3218 1006 8040 2361 1007 102 0 0 0 0 0 0 0 0 0 0 0 0 0 0 0 0 0 0 0 0 0 0 0 0 0 0 0 0 0 0 0 0 0 0 0 0 0 0 0 0 0 0 0 0 0 0 0 0 0 0 0 0 0 0 0 0 0 0 0 0 0 0 0 0 0 0 0 0 0 0 0 0 0 0 0 0 0 0 0 0 0 0 0 0 0 0 0 0 0 0 0 0 0 0 0 0 0 0 0 0 0 0 0 0 0 0 0 0 0 0 0 0 0 0 0 0 0 0 0 0 0 0 0 0 0 0 0 0 0 0 0 0 0 0 0 0 0 0 0 0 0 0 0 0 0 0 0 0 0 0 0 0 0 0 0 0 0 0 0 0 0 0 0 0 0 0 0 0 0 0 0 0 0 0 0 0 0 0 0 0 0 0 0 0 0 0 0 0 0 0 0 0 0 0 0 0 0 0 0 0 0 0 0 0 0 0 0 0 0 0 0 0 0 0 0 0 0 0 0 0 0 0 0 0 0 0 0 0 0 0 0 0 0 0 0 0 0 0 0 0 0 0 0 0 0 0 0\n"
     ]
    },
    {
     "name": "stderr",
     "output_type": "stream",
     "text": [
      "INFO:tensorflow:input_ids: 101 4425 4677 3218 1006 8040 2361 1007 102 0 0 0 0 0 0 0 0 0 0 0 0 0 0 0 0 0 0 0 0 0 0 0 0 0 0 0 0 0 0 0 0 0 0 0 0 0 0 0 0 0 0 0 0 0 0 0 0 0 0 0 0 0 0 0 0 0 0 0 0 0 0 0 0 0 0 0 0 0 0 0 0 0 0 0 0 0 0 0 0 0 0 0 0 0 0 0 0 0 0 0 0 0 0 0 0 0 0 0 0 0 0 0 0 0 0 0 0 0 0 0 0 0 0 0 0 0 0 0 0 0 0 0 0 0 0 0 0 0 0 0 0 0 0 0 0 0 0 0 0 0 0 0 0 0 0 0 0 0 0 0 0 0 0 0 0 0 0 0 0 0 0 0 0 0 0 0 0 0 0 0 0 0 0 0 0 0 0 0 0 0 0 0 0 0 0 0 0 0 0 0 0 0 0 0 0 0 0 0 0 0 0 0 0 0 0 0 0 0 0 0 0 0 0 0 0 0 0 0 0 0 0 0 0 0 0 0 0 0 0 0 0 0 0 0 0 0 0 0 0 0 0 0 0 0 0 0\n"
     ]
    },
    {
     "name": "stdout",
     "output_type": "stream",
     "text": [
      "INFO:tensorflow:input_mask: 1 1 1 1 1 1 1 1 1 0 0 0 0 0 0 0 0 0 0 0 0 0 0 0 0 0 0 0 0 0 0 0 0 0 0 0 0 0 0 0 0 0 0 0 0 0 0 0 0 0 0 0 0 0 0 0 0 0 0 0 0 0 0 0 0 0 0 0 0 0 0 0 0 0 0 0 0 0 0 0 0 0 0 0 0 0 0 0 0 0 0 0 0 0 0 0 0 0 0 0 0 0 0 0 0 0 0 0 0 0 0 0 0 0 0 0 0 0 0 0 0 0 0 0 0 0 0 0 0 0 0 0 0 0 0 0 0 0 0 0 0 0 0 0 0 0 0 0 0 0 0 0 0 0 0 0 0 0 0 0 0 0 0 0 0 0 0 0 0 0 0 0 0 0 0 0 0 0 0 0 0 0 0 0 0 0 0 0 0 0 0 0 0 0 0 0 0 0 0 0 0 0 0 0 0 0 0 0 0 0 0 0 0 0 0 0 0 0 0 0 0 0 0 0 0 0 0 0 0 0 0 0 0 0 0 0 0 0 0 0 0 0 0 0 0 0 0 0 0 0 0 0 0 0 0 0\n"
     ]
    },
    {
     "name": "stderr",
     "output_type": "stream",
     "text": [
      "INFO:tensorflow:input_mask: 1 1 1 1 1 1 1 1 1 0 0 0 0 0 0 0 0 0 0 0 0 0 0 0 0 0 0 0 0 0 0 0 0 0 0 0 0 0 0 0 0 0 0 0 0 0 0 0 0 0 0 0 0 0 0 0 0 0 0 0 0 0 0 0 0 0 0 0 0 0 0 0 0 0 0 0 0 0 0 0 0 0 0 0 0 0 0 0 0 0 0 0 0 0 0 0 0 0 0 0 0 0 0 0 0 0 0 0 0 0 0 0 0 0 0 0 0 0 0 0 0 0 0 0 0 0 0 0 0 0 0 0 0 0 0 0 0 0 0 0 0 0 0 0 0 0 0 0 0 0 0 0 0 0 0 0 0 0 0 0 0 0 0 0 0 0 0 0 0 0 0 0 0 0 0 0 0 0 0 0 0 0 0 0 0 0 0 0 0 0 0 0 0 0 0 0 0 0 0 0 0 0 0 0 0 0 0 0 0 0 0 0 0 0 0 0 0 0 0 0 0 0 0 0 0 0 0 0 0 0 0 0 0 0 0 0 0 0 0 0 0 0 0 0 0 0 0 0 0 0 0 0 0 0 0 0\n"
     ]
    },
    {
     "name": "stdout",
     "output_type": "stream",
     "text": [
      "INFO:tensorflow:segment_ids: 0 0 0 0 0 0 0 0 0 0 0 0 0 0 0 0 0 0 0 0 0 0 0 0 0 0 0 0 0 0 0 0 0 0 0 0 0 0 0 0 0 0 0 0 0 0 0 0 0 0 0 0 0 0 0 0 0 0 0 0 0 0 0 0 0 0 0 0 0 0 0 0 0 0 0 0 0 0 0 0 0 0 0 0 0 0 0 0 0 0 0 0 0 0 0 0 0 0 0 0 0 0 0 0 0 0 0 0 0 0 0 0 0 0 0 0 0 0 0 0 0 0 0 0 0 0 0 0 0 0 0 0 0 0 0 0 0 0 0 0 0 0 0 0 0 0 0 0 0 0 0 0 0 0 0 0 0 0 0 0 0 0 0 0 0 0 0 0 0 0 0 0 0 0 0 0 0 0 0 0 0 0 0 0 0 0 0 0 0 0 0 0 0 0 0 0 0 0 0 0 0 0 0 0 0 0 0 0 0 0 0 0 0 0 0 0 0 0 0 0 0 0 0 0 0 0 0 0 0 0 0 0 0 0 0 0 0 0 0 0 0 0 0 0 0 0 0 0 0 0 0 0 0 0 0 0\n"
     ]
    },
    {
     "name": "stderr",
     "output_type": "stream",
     "text": [
      "INFO:tensorflow:segment_ids: 0 0 0 0 0 0 0 0 0 0 0 0 0 0 0 0 0 0 0 0 0 0 0 0 0 0 0 0 0 0 0 0 0 0 0 0 0 0 0 0 0 0 0 0 0 0 0 0 0 0 0 0 0 0 0 0 0 0 0 0 0 0 0 0 0 0 0 0 0 0 0 0 0 0 0 0 0 0 0 0 0 0 0 0 0 0 0 0 0 0 0 0 0 0 0 0 0 0 0 0 0 0 0 0 0 0 0 0 0 0 0 0 0 0 0 0 0 0 0 0 0 0 0 0 0 0 0 0 0 0 0 0 0 0 0 0 0 0 0 0 0 0 0 0 0 0 0 0 0 0 0 0 0 0 0 0 0 0 0 0 0 0 0 0 0 0 0 0 0 0 0 0 0 0 0 0 0 0 0 0 0 0 0 0 0 0 0 0 0 0 0 0 0 0 0 0 0 0 0 0 0 0 0 0 0 0 0 0 0 0 0 0 0 0 0 0 0 0 0 0 0 0 0 0 0 0 0 0 0 0 0 0 0 0 0 0 0 0 0 0 0 0 0 0 0 0 0 0 0 0 0 0 0 0 0 0\n"
     ]
    },
    {
     "name": "stdout",
     "output_type": "stream",
     "text": [
      "INFO:tensorflow:label: [0, 0, 0, 0, 0, 0, 0, 0, 0, 0, 0] (id = [0, 0, 0, 0, 0, 0, 0, 0, 0, 0, 0])\n"
     ]
    },
    {
     "name": "stderr",
     "output_type": "stream",
     "text": [
      "INFO:tensorflow:label: [0, 0, 0, 0, 0, 0, 0, 0, 0, 0, 0] (id = [0, 0, 0, 0, 0, 0, 0, 0, 0, 0, 0])\n"
     ]
    },
    {
     "name": "stdout",
     "output_type": "stream",
     "text": [
      "INFO:tensorflow:*** Example ***\n"
     ]
    },
    {
     "name": "stderr",
     "output_type": "stream",
     "text": [
      "INFO:tensorflow:*** Example ***\n"
     ]
    },
    {
     "name": "stdout",
     "output_type": "stream",
     "text": [
      "INFO:tensorflow:guid: \n"
     ]
    },
    {
     "name": "stderr",
     "output_type": "stream",
     "text": [
      "INFO:tensorflow:guid: \n"
     ]
    },
    {
     "name": "stdout",
     "output_type": "stream",
     "text": [
      "INFO:tensorflow:tokens: [CLS] large flat seed produced plant tolerant [SEP]\n"
     ]
    },
    {
     "name": "stderr",
     "output_type": "stream",
     "text": [
      "INFO:tensorflow:tokens: [CLS] large flat seed produced plant tolerant [SEP]\n"
     ]
    },
    {
     "name": "stdout",
     "output_type": "stream",
     "text": [
      "INFO:tensorflow:input_ids: 101 2312 4257 6534 2550 3269 23691 102 0 0 0 0 0 0 0 0 0 0 0 0 0 0 0 0 0 0 0 0 0 0 0 0 0 0 0 0 0 0 0 0 0 0 0 0 0 0 0 0 0 0 0 0 0 0 0 0 0 0 0 0 0 0 0 0 0 0 0 0 0 0 0 0 0 0 0 0 0 0 0 0 0 0 0 0 0 0 0 0 0 0 0 0 0 0 0 0 0 0 0 0 0 0 0 0 0 0 0 0 0 0 0 0 0 0 0 0 0 0 0 0 0 0 0 0 0 0 0 0 0 0 0 0 0 0 0 0 0 0 0 0 0 0 0 0 0 0 0 0 0 0 0 0 0 0 0 0 0 0 0 0 0 0 0 0 0 0 0 0 0 0 0 0 0 0 0 0 0 0 0 0 0 0 0 0 0 0 0 0 0 0 0 0 0 0 0 0 0 0 0 0 0 0 0 0 0 0 0 0 0 0 0 0 0 0 0 0 0 0 0 0 0 0 0 0 0 0 0 0 0 0 0 0 0 0 0 0 0 0 0 0 0 0 0 0 0 0 0 0 0 0 0 0 0 0 0 0\n"
     ]
    },
    {
     "name": "stderr",
     "output_type": "stream",
     "text": [
      "INFO:tensorflow:input_ids: 101 2312 4257 6534 2550 3269 23691 102 0 0 0 0 0 0 0 0 0 0 0 0 0 0 0 0 0 0 0 0 0 0 0 0 0 0 0 0 0 0 0 0 0 0 0 0 0 0 0 0 0 0 0 0 0 0 0 0 0 0 0 0 0 0 0 0 0 0 0 0 0 0 0 0 0 0 0 0 0 0 0 0 0 0 0 0 0 0 0 0 0 0 0 0 0 0 0 0 0 0 0 0 0 0 0 0 0 0 0 0 0 0 0 0 0 0 0 0 0 0 0 0 0 0 0 0 0 0 0 0 0 0 0 0 0 0 0 0 0 0 0 0 0 0 0 0 0 0 0 0 0 0 0 0 0 0 0 0 0 0 0 0 0 0 0 0 0 0 0 0 0 0 0 0 0 0 0 0 0 0 0 0 0 0 0 0 0 0 0 0 0 0 0 0 0 0 0 0 0 0 0 0 0 0 0 0 0 0 0 0 0 0 0 0 0 0 0 0 0 0 0 0 0 0 0 0 0 0 0 0 0 0 0 0 0 0 0 0 0 0 0 0 0 0 0 0 0 0 0 0 0 0 0 0 0 0 0 0\n"
     ]
    },
    {
     "name": "stdout",
     "output_type": "stream",
     "text": [
      "INFO:tensorflow:input_mask: 1 1 1 1 1 1 1 1 0 0 0 0 0 0 0 0 0 0 0 0 0 0 0 0 0 0 0 0 0 0 0 0 0 0 0 0 0 0 0 0 0 0 0 0 0 0 0 0 0 0 0 0 0 0 0 0 0 0 0 0 0 0 0 0 0 0 0 0 0 0 0 0 0 0 0 0 0 0 0 0 0 0 0 0 0 0 0 0 0 0 0 0 0 0 0 0 0 0 0 0 0 0 0 0 0 0 0 0 0 0 0 0 0 0 0 0 0 0 0 0 0 0 0 0 0 0 0 0 0 0 0 0 0 0 0 0 0 0 0 0 0 0 0 0 0 0 0 0 0 0 0 0 0 0 0 0 0 0 0 0 0 0 0 0 0 0 0 0 0 0 0 0 0 0 0 0 0 0 0 0 0 0 0 0 0 0 0 0 0 0 0 0 0 0 0 0 0 0 0 0 0 0 0 0 0 0 0 0 0 0 0 0 0 0 0 0 0 0 0 0 0 0 0 0 0 0 0 0 0 0 0 0 0 0 0 0 0 0 0 0 0 0 0 0 0 0 0 0 0 0 0 0 0 0 0 0\n"
     ]
    },
    {
     "name": "stderr",
     "output_type": "stream",
     "text": [
      "INFO:tensorflow:input_mask: 1 1 1 1 1 1 1 1 0 0 0 0 0 0 0 0 0 0 0 0 0 0 0 0 0 0 0 0 0 0 0 0 0 0 0 0 0 0 0 0 0 0 0 0 0 0 0 0 0 0 0 0 0 0 0 0 0 0 0 0 0 0 0 0 0 0 0 0 0 0 0 0 0 0 0 0 0 0 0 0 0 0 0 0 0 0 0 0 0 0 0 0 0 0 0 0 0 0 0 0 0 0 0 0 0 0 0 0 0 0 0 0 0 0 0 0 0 0 0 0 0 0 0 0 0 0 0 0 0 0 0 0 0 0 0 0 0 0 0 0 0 0 0 0 0 0 0 0 0 0 0 0 0 0 0 0 0 0 0 0 0 0 0 0 0 0 0 0 0 0 0 0 0 0 0 0 0 0 0 0 0 0 0 0 0 0 0 0 0 0 0 0 0 0 0 0 0 0 0 0 0 0 0 0 0 0 0 0 0 0 0 0 0 0 0 0 0 0 0 0 0 0 0 0 0 0 0 0 0 0 0 0 0 0 0 0 0 0 0 0 0 0 0 0 0 0 0 0 0 0 0 0 0 0 0 0\n"
     ]
    },
    {
     "name": "stdout",
     "output_type": "stream",
     "text": [
      "INFO:tensorflow:segment_ids: 0 0 0 0 0 0 0 0 0 0 0 0 0 0 0 0 0 0 0 0 0 0 0 0 0 0 0 0 0 0 0 0 0 0 0 0 0 0 0 0 0 0 0 0 0 0 0 0 0 0 0 0 0 0 0 0 0 0 0 0 0 0 0 0 0 0 0 0 0 0 0 0 0 0 0 0 0 0 0 0 0 0 0 0 0 0 0 0 0 0 0 0 0 0 0 0 0 0 0 0 0 0 0 0 0 0 0 0 0 0 0 0 0 0 0 0 0 0 0 0 0 0 0 0 0 0 0 0 0 0 0 0 0 0 0 0 0 0 0 0 0 0 0 0 0 0 0 0 0 0 0 0 0 0 0 0 0 0 0 0 0 0 0 0 0 0 0 0 0 0 0 0 0 0 0 0 0 0 0 0 0 0 0 0 0 0 0 0 0 0 0 0 0 0 0 0 0 0 0 0 0 0 0 0 0 0 0 0 0 0 0 0 0 0 0 0 0 0 0 0 0 0 0 0 0 0 0 0 0 0 0 0 0 0 0 0 0 0 0 0 0 0 0 0 0 0 0 0 0 0 0 0 0 0 0 0\n"
     ]
    },
    {
     "name": "stderr",
     "output_type": "stream",
     "text": [
      "INFO:tensorflow:segment_ids: 0 0 0 0 0 0 0 0 0 0 0 0 0 0 0 0 0 0 0 0 0 0 0 0 0 0 0 0 0 0 0 0 0 0 0 0 0 0 0 0 0 0 0 0 0 0 0 0 0 0 0 0 0 0 0 0 0 0 0 0 0 0 0 0 0 0 0 0 0 0 0 0 0 0 0 0 0 0 0 0 0 0 0 0 0 0 0 0 0 0 0 0 0 0 0 0 0 0 0 0 0 0 0 0 0 0 0 0 0 0 0 0 0 0 0 0 0 0 0 0 0 0 0 0 0 0 0 0 0 0 0 0 0 0 0 0 0 0 0 0 0 0 0 0 0 0 0 0 0 0 0 0 0 0 0 0 0 0 0 0 0 0 0 0 0 0 0 0 0 0 0 0 0 0 0 0 0 0 0 0 0 0 0 0 0 0 0 0 0 0 0 0 0 0 0 0 0 0 0 0 0 0 0 0 0 0 0 0 0 0 0 0 0 0 0 0 0 0 0 0 0 0 0 0 0 0 0 0 0 0 0 0 0 0 0 0 0 0 0 0 0 0 0 0 0 0 0 0 0 0 0 0 0 0 0 0\n"
     ]
    },
    {
     "name": "stdout",
     "output_type": "stream",
     "text": [
      "INFO:tensorflow:label: [0, 0, 0, 0, 0, 0, 0, 0, 0, 0, 0] (id = [0, 0, 0, 0, 0, 0, 0, 0, 0, 0, 0])\n"
     ]
    },
    {
     "name": "stderr",
     "output_type": "stream",
     "text": [
      "INFO:tensorflow:label: [0, 0, 0, 0, 0, 0, 0, 0, 0, 0, 0] (id = [0, 0, 0, 0, 0, 0, 0, 0, 0, 0, 0])\n"
     ]
    },
    {
     "name": "stdout",
     "output_type": "stream",
     "text": [
      "INFO:tensorflow:*** Example ***\n"
     ]
    },
    {
     "name": "stderr",
     "output_type": "stream",
     "text": [
      "INFO:tensorflow:*** Example ***\n"
     ]
    },
    {
     "name": "stdout",
     "output_type": "stream",
     "text": [
      "INFO:tensorflow:guid: \n"
     ]
    },
    {
     "name": "stderr",
     "output_type": "stream",
     "text": [
      "INFO:tensorflow:guid: \n"
     ]
    },
    {
     "name": "stdout",
     "output_type": "stream",
     "text": [
      "INFO:tensorflow:tokens: [CLS] me ##er ve ##rd ##ra ##ags ##aa ##m teen ##oor [SEP]\n"
     ]
    },
    {
     "name": "stderr",
     "output_type": "stream",
     "text": [
      "INFO:tensorflow:tokens: [CLS] me ##er ve ##rd ##ra ##ags ##aa ##m teen ##oor [SEP]\n"
     ]
    },
    {
     "name": "stdout",
     "output_type": "stream",
     "text": [
      "INFO:tensorflow:input_ids: 101 2033 2121 2310 4103 2527 26454 11057 2213 9458 16506 102 0 0 0 0 0 0 0 0 0 0 0 0 0 0 0 0 0 0 0 0 0 0 0 0 0 0 0 0 0 0 0 0 0 0 0 0 0 0 0 0 0 0 0 0 0 0 0 0 0 0 0 0 0 0 0 0 0 0 0 0 0 0 0 0 0 0 0 0 0 0 0 0 0 0 0 0 0 0 0 0 0 0 0 0 0 0 0 0 0 0 0 0 0 0 0 0 0 0 0 0 0 0 0 0 0 0 0 0 0 0 0 0 0 0 0 0 0 0 0 0 0 0 0 0 0 0 0 0 0 0 0 0 0 0 0 0 0 0 0 0 0 0 0 0 0 0 0 0 0 0 0 0 0 0 0 0 0 0 0 0 0 0 0 0 0 0 0 0 0 0 0 0 0 0 0 0 0 0 0 0 0 0 0 0 0 0 0 0 0 0 0 0 0 0 0 0 0 0 0 0 0 0 0 0 0 0 0 0 0 0 0 0 0 0 0 0 0 0 0 0 0 0 0 0 0 0 0 0 0 0 0 0 0 0 0 0 0 0 0 0 0 0 0 0\n"
     ]
    },
    {
     "name": "stderr",
     "output_type": "stream",
     "text": [
      "INFO:tensorflow:input_ids: 101 2033 2121 2310 4103 2527 26454 11057 2213 9458 16506 102 0 0 0 0 0 0 0 0 0 0 0 0 0 0 0 0 0 0 0 0 0 0 0 0 0 0 0 0 0 0 0 0 0 0 0 0 0 0 0 0 0 0 0 0 0 0 0 0 0 0 0 0 0 0 0 0 0 0 0 0 0 0 0 0 0 0 0 0 0 0 0 0 0 0 0 0 0 0 0 0 0 0 0 0 0 0 0 0 0 0 0 0 0 0 0 0 0 0 0 0 0 0 0 0 0 0 0 0 0 0 0 0 0 0 0 0 0 0 0 0 0 0 0 0 0 0 0 0 0 0 0 0 0 0 0 0 0 0 0 0 0 0 0 0 0 0 0 0 0 0 0 0 0 0 0 0 0 0 0 0 0 0 0 0 0 0 0 0 0 0 0 0 0 0 0 0 0 0 0 0 0 0 0 0 0 0 0 0 0 0 0 0 0 0 0 0 0 0 0 0 0 0 0 0 0 0 0 0 0 0 0 0 0 0 0 0 0 0 0 0 0 0 0 0 0 0 0 0 0 0 0 0 0 0 0 0 0 0 0 0 0 0 0 0\n"
     ]
    },
    {
     "name": "stdout",
     "output_type": "stream",
     "text": [
      "INFO:tensorflow:input_mask: 1 1 1 1 1 1 1 1 1 1 1 1 0 0 0 0 0 0 0 0 0 0 0 0 0 0 0 0 0 0 0 0 0 0 0 0 0 0 0 0 0 0 0 0 0 0 0 0 0 0 0 0 0 0 0 0 0 0 0 0 0 0 0 0 0 0 0 0 0 0 0 0 0 0 0 0 0 0 0 0 0 0 0 0 0 0 0 0 0 0 0 0 0 0 0 0 0 0 0 0 0 0 0 0 0 0 0 0 0 0 0 0 0 0 0 0 0 0 0 0 0 0 0 0 0 0 0 0 0 0 0 0 0 0 0 0 0 0 0 0 0 0 0 0 0 0 0 0 0 0 0 0 0 0 0 0 0 0 0 0 0 0 0 0 0 0 0 0 0 0 0 0 0 0 0 0 0 0 0 0 0 0 0 0 0 0 0 0 0 0 0 0 0 0 0 0 0 0 0 0 0 0 0 0 0 0 0 0 0 0 0 0 0 0 0 0 0 0 0 0 0 0 0 0 0 0 0 0 0 0 0 0 0 0 0 0 0 0 0 0 0 0 0 0 0 0 0 0 0 0 0 0 0 0 0 0\n"
     ]
    },
    {
     "name": "stderr",
     "output_type": "stream",
     "text": [
      "INFO:tensorflow:input_mask: 1 1 1 1 1 1 1 1 1 1 1 1 0 0 0 0 0 0 0 0 0 0 0 0 0 0 0 0 0 0 0 0 0 0 0 0 0 0 0 0 0 0 0 0 0 0 0 0 0 0 0 0 0 0 0 0 0 0 0 0 0 0 0 0 0 0 0 0 0 0 0 0 0 0 0 0 0 0 0 0 0 0 0 0 0 0 0 0 0 0 0 0 0 0 0 0 0 0 0 0 0 0 0 0 0 0 0 0 0 0 0 0 0 0 0 0 0 0 0 0 0 0 0 0 0 0 0 0 0 0 0 0 0 0 0 0 0 0 0 0 0 0 0 0 0 0 0 0 0 0 0 0 0 0 0 0 0 0 0 0 0 0 0 0 0 0 0 0 0 0 0 0 0 0 0 0 0 0 0 0 0 0 0 0 0 0 0 0 0 0 0 0 0 0 0 0 0 0 0 0 0 0 0 0 0 0 0 0 0 0 0 0 0 0 0 0 0 0 0 0 0 0 0 0 0 0 0 0 0 0 0 0 0 0 0 0 0 0 0 0 0 0 0 0 0 0 0 0 0 0 0 0 0 0 0 0\n"
     ]
    },
    {
     "name": "stdout",
     "output_type": "stream",
     "text": [
      "INFO:tensorflow:segment_ids: 0 0 0 0 0 0 0 0 0 0 0 0 0 0 0 0 0 0 0 0 0 0 0 0 0 0 0 0 0 0 0 0 0 0 0 0 0 0 0 0 0 0 0 0 0 0 0 0 0 0 0 0 0 0 0 0 0 0 0 0 0 0 0 0 0 0 0 0 0 0 0 0 0 0 0 0 0 0 0 0 0 0 0 0 0 0 0 0 0 0 0 0 0 0 0 0 0 0 0 0 0 0 0 0 0 0 0 0 0 0 0 0 0 0 0 0 0 0 0 0 0 0 0 0 0 0 0 0 0 0 0 0 0 0 0 0 0 0 0 0 0 0 0 0 0 0 0 0 0 0 0 0 0 0 0 0 0 0 0 0 0 0 0 0 0 0 0 0 0 0 0 0 0 0 0 0 0 0 0 0 0 0 0 0 0 0 0 0 0 0 0 0 0 0 0 0 0 0 0 0 0 0 0 0 0 0 0 0 0 0 0 0 0 0 0 0 0 0 0 0 0 0 0 0 0 0 0 0 0 0 0 0 0 0 0 0 0 0 0 0 0 0 0 0 0 0 0 0 0 0 0 0 0 0 0 0\n"
     ]
    },
    {
     "name": "stderr",
     "output_type": "stream",
     "text": [
      "INFO:tensorflow:segment_ids: 0 0 0 0 0 0 0 0 0 0 0 0 0 0 0 0 0 0 0 0 0 0 0 0 0 0 0 0 0 0 0 0 0 0 0 0 0 0 0 0 0 0 0 0 0 0 0 0 0 0 0 0 0 0 0 0 0 0 0 0 0 0 0 0 0 0 0 0 0 0 0 0 0 0 0 0 0 0 0 0 0 0 0 0 0 0 0 0 0 0 0 0 0 0 0 0 0 0 0 0 0 0 0 0 0 0 0 0 0 0 0 0 0 0 0 0 0 0 0 0 0 0 0 0 0 0 0 0 0 0 0 0 0 0 0 0 0 0 0 0 0 0 0 0 0 0 0 0 0 0 0 0 0 0 0 0 0 0 0 0 0 0 0 0 0 0 0 0 0 0 0 0 0 0 0 0 0 0 0 0 0 0 0 0 0 0 0 0 0 0 0 0 0 0 0 0 0 0 0 0 0 0 0 0 0 0 0 0 0 0 0 0 0 0 0 0 0 0 0 0 0 0 0 0 0 0 0 0 0 0 0 0 0 0 0 0 0 0 0 0 0 0 0 0 0 0 0 0 0 0 0 0 0 0 0 0\n"
     ]
    },
    {
     "name": "stdout",
     "output_type": "stream",
     "text": [
      "INFO:tensorflow:label: [0, 0, 0, 0, 0, 0, 0, 0, 0, 0, 0] (id = [0, 0, 0, 0, 0, 0, 0, 0, 0, 0, 0])\n"
     ]
    },
    {
     "name": "stderr",
     "output_type": "stream",
     "text": [
      "INFO:tensorflow:label: [0, 0, 0, 0, 0, 0, 0, 0, 0, 0, 0] (id = [0, 0, 0, 0, 0, 0, 0, 0, 0, 0, 0])\n"
     ]
    },
    {
     "name": "stdout",
     "output_type": "stream",
     "text": [
      "INFO:tensorflow:Calling model_fn.\n"
     ]
    },
    {
     "name": "stderr",
     "output_type": "stream",
     "text": [
      "INFO:tensorflow:Calling model_fn.\n"
     ]
    },
    {
     "name": "stdout",
     "output_type": "stream",
     "text": [
      "Used for model gpu 1\n",
      "INFO:tensorflow:Saver not created because there are no variables in the graph to restore\n"
     ]
    },
    {
     "name": "stderr",
     "output_type": "stream",
     "text": [
      "INFO:tensorflow:Saver not created because there are no variables in the graph to restore\n"
     ]
    },
    {
     "name": "stdout",
     "output_type": "stream",
     "text": [
      "INFO:tensorflow:Done calling model_fn.\n"
     ]
    },
    {
     "name": "stderr",
     "output_type": "stream",
     "text": [
      "INFO:tensorflow:Done calling model_fn.\n"
     ]
    },
    {
     "name": "stdout",
     "output_type": "stream",
     "text": [
      "INFO:tensorflow:Graph was finalized.\n"
     ]
    },
    {
     "name": "stderr",
     "output_type": "stream",
     "text": [
      "INFO:tensorflow:Graph was finalized.\n"
     ]
    },
    {
     "name": "stdout",
     "output_type": "stream",
     "text": [
      "INFO:tensorflow:Restoring parameters from ../model/bert_usaid_interventions_multi_label_3/model.ckpt-1108\n"
     ]
    },
    {
     "name": "stderr",
     "output_type": "stream",
     "text": [
      "INFO:tensorflow:Restoring parameters from ../model/bert_usaid_interventions_multi_label_3/model.ckpt-1108\n"
     ]
    },
    {
     "name": "stdout",
     "output_type": "stream",
     "text": [
      "INFO:tensorflow:Running local_init_op.\n"
     ]
    },
    {
     "name": "stderr",
     "output_type": "stream",
     "text": [
      "INFO:tensorflow:Running local_init_op.\n"
     ]
    },
    {
     "name": "stdout",
     "output_type": "stream",
     "text": [
      "INFO:tensorflow:Done running local_init_op.\n"
     ]
    },
    {
     "name": "stderr",
     "output_type": "stream",
     "text": [
      "INFO:tensorflow:Done running local_init_op.\n"
     ]
    }
   ],
   "source": [
    "from interventions_labeling_lib.usaid_intervention_labels import USAIDInterventionLabels\n",
    "from bert_models import base_bert_model\n",
    "base_bert_model = reload(base_bert_model)\n",
    "from bert_models import base_bert_model_interventions\n",
    "base_bert_model_interventions = reload(base_bert_model_interventions)\n",
    "\n",
    "_intervention_labeler = base_bert_model_interventions.BaseBertModelInterventions(\n",
    "    \"../model/bert_usaid_interventions_multi_label_3\",\n",
    "    [0 for i in range(11)], label_column=\"label\",\n",
    "    multilabel=True\n",
    ")\n",
    "ner_model = spacy.load(\"../model/usaid_entity-recognition-model-more-3012-169_iter\")\n",
    "\n",
    "found_data_all = []\n",
    "idx = 0\n",
    "idx2doc = {}\n",
    "for i in range(len(df)):\n",
    "    for sentence in nltk.sent_tokenize(re.sub(\"\\s+\", \" \", df[\"abstract\"].values[i])):\n",
    "        found_data = []\n",
    "        results = set()\n",
    "        for res in ner_model(sentence).ents:\n",
    "            intervention = _abbreviations_resolver.replace_abbreviations(\n",
    "                text=text_normalizer.normalize_sentence(res.text)).strip()\n",
    "            intervnetion_words_set = set()\n",
    "            intervnetion_words = []\n",
    "            for w in intervention.split(\" \"):\n",
    "                if w not in intervnetion_words_set:\n",
    "                    intervnetion_words_set.add(w)\n",
    "                    intervnetion_words.append(w)\n",
    "            intervention = \" \".join(intervnetion_words).strip()\n",
    "            if intervention:\n",
    "                found_data.append((intervention, intervention, sentence, res.text))\n",
    "                idx2doc[idx] = i\n",
    "                idx += 1\n",
    "        found_data_all.extend(found_data)\n",
    "df_to_predict = pd.DataFrame(found_data_all, columns=[\"Narrow concept\", \"Broad concepts\", \"Sentence\", \"Raw intervention\"])\n",
    "res_prob, res_label, _ = _intervention_labeler.predict_for_df(df_to_predict)\n",
    "\n",
    "df[\"extracted_interventions\"] = \"\"\n",
    "df[\"extracted_interventions_probs\"] = \"\"\n",
    "for i in range(len(df)):\n",
    "    df[\"extracted_interventions\"].values[i] = []\n",
    "    df[\"extracted_interventions_probs\"].values[i] = []\n",
    "\n",
    "for i in range(len(found_data_all)):\n",
    "    idx = idx2doc[i]\n",
    "    for j in range(len(res_label[i])):\n",
    "        if res_label[i][j] == 1:\n",
    "            found_label = USAIDInterventionLabels.INTERVENTION_NUMBER_TO_LABEL[j+1]\n",
    "            found_prob = res_prob[i][j]\n",
    "            df[\"extracted_interventions\"].values[idx].append(found_label + \"/\" + found_data_all[i][0])\n",
    "            df[\"extracted_interventions_probs\"].values[idx].append((found_label + \"/\" + found_data_all[i][0], found_prob))"
   ]
  },
  {
   "cell_type": "markdown",
   "id": "2d13af63",
   "metadata": {},
   "source": [
    "## Extracting countries from affiliation information\n",
    "The column \"affilaition_countries_mentioned\" contains countries extracted from the \"raw_affiliation\" column"
   ]
  },
  {
   "cell_type": "code",
   "execution_count": 39,
   "id": "c041417d",
   "metadata": {},
   "outputs": [
    {
     "name": "stdout",
     "output_type": "stream",
     "text": [
      "Processed 0 articles\n",
      "Processed 284 articles\n",
      "Started processing  {'column_filler_class': 'GeoNameFinder', 'columns_to_process': ['raw_affiliation'], 'prefix_for_columns': 'affiliation_'}\n",
      "Read file ../data/provinces.xlsx: 1.49s\n",
      "Processed file ../data/provinces.xlsx: 1.42s\n",
      "Read file ../data/districts.xlsx: 1.58s\n",
      "Processed file ../data/districts.xlsx: 1.49s\n",
      "Processed 0 items\n",
      "Processed 284 items\n",
      "Processed for 15.215885400772095s\n"
     ]
    }
   ],
   "source": [
    "from text_processing import all_column_filler\n",
    "all_column_filler = reload(all_column_filler)\n",
    "from text_processing import geo_names_finder\n",
    "geo_names_finder = reload(geo_names_finder)\n",
    "\n",
    "from text_processing import search_engine_insensitive_to_spelling\n",
    "search_engine_insensitive_to_spelling = reload(search_engine_insensitive_to_spelling)\n",
    "\n",
    "aff_search_engine_inverted_index = search_engine_insensitive_to_spelling.SearchEngineInsensitiveToSpelling(\n",
    "    load_abbreviations = False, columns_to_process=[\"raw_affiliation\"])\n",
    "aff_search_engine_inverted_index.create_inverted_index(df)\n",
    "\n",
    "_all_column_filler = all_column_filler.AllColumnFiller()\n",
    "df = _all_column_filler.fill_columns_for_df(df, aff_search_engine_inverted_index, _abbreviations_resolver,\n",
    "                                            settings_json = {\"columns\":[\n",
    "    {\"column_filler_class\":\"GeoNameFinder\", \"columns_to_process\": [\"raw_affiliation\"],\n",
    "     \"prefix_for_columns\":\"affiliation_\"}\n",
    "]})"
   ]
  },
  {
   "cell_type": "code",
   "execution_count": 43,
   "id": "11b5279f",
   "metadata": {},
   "outputs": [
    {
     "name": "stdout",
     "output_type": "stream",
     "text": [
      "Saving...\n",
      "Saved to ../tmp/sample_reaper_enriched.xlsx\n"
     ]
    }
   ],
   "source": [
    "excel_writer.ExcelWriter().save_df_in_excel(df, \"../tmp/sample_reaper_enriched.xlsx\")"
   ]
  },
  {
   "cell_type": "markdown",
   "id": "9a2b4508",
   "metadata": {},
   "source": [
    "# 3ie sample geo locations"
   ]
  },
  {
   "cell_type": "code",
   "execution_count": 105,
   "id": "b46226a8",
   "metadata": {},
   "outputs": [
    {
     "name": "stdout",
     "output_type": "stream",
     "text": [
      "Read file ../tmp/3ie_sample.xlsx: 0.01s\n",
      "Processed file ../tmp/3ie_sample.xlsx: 0.00s\n"
     ]
    }
   ],
   "source": [
    "df = excel_reader.ExcelReader().read_df_from_excel(\"../tmp/3ie_sample.xlsx\")"
   ]
  },
  {
   "cell_type": "code",
   "execution_count": 106,
   "id": "5b735fe2",
   "metadata": {},
   "outputs": [
    {
     "data": {
      "text/plain": [
       "Index(['title', 'abstract', 'raw_affiliation', 'correct_affilaition_countries',\n",
       "       'correct_countries_extracted', 'correct_provinces_extracted',\n",
       "       'correct_districts_extracted'],\n",
       "      dtype='object')"
      ]
     },
     "execution_count": 106,
     "metadata": {},
     "output_type": "execute_result"
    }
   ],
   "source": [
    "df.columns"
   ]
  },
  {
   "cell_type": "code",
   "execution_count": 107,
   "id": "74a98104",
   "metadata": {},
   "outputs": [
    {
     "name": "stdout",
     "output_type": "stream",
     "text": [
      "Processed 0 articles\n",
      "Processed 14 articles\n",
      "Started processing  {'column_filler_class': 'GeoNameFinder', 'columns_to_process': ['raw_affiliation'], 'prefix_for_columns': 'affiliation_'}\n",
      "Read file ../data/provinces.xlsx: 1.58s\n",
      "Processed file ../data/provinces.xlsx: 1.47s\n",
      "Read file ../data/districts.xlsx: 1.56s\n",
      "Processed file ../data/districts.xlsx: 1.51s\n",
      "Processed 0 items\n",
      "Processed 14 items\n",
      "Processed for 9.858067512512207s\n"
     ]
    }
   ],
   "source": [
    "from text_processing import all_column_filler\n",
    "all_column_filler = reload(all_column_filler)\n",
    "from text_processing import geo_names_finder\n",
    "geo_names_finder = reload(geo_names_finder)\n",
    "\n",
    "from text_processing import search_engine_insensitive_to_spelling\n",
    "search_engine_insensitive_to_spelling = reload(search_engine_insensitive_to_spelling)\n",
    "\n",
    "aff_search_engine_inverted_index = search_engine_insensitive_to_spelling.SearchEngineInsensitiveToSpelling(\n",
    "    load_abbreviations = False, columns_to_process=[\"raw_affiliation\"])\n",
    "aff_search_engine_inverted_index.create_inverted_index(df)\n",
    "\n",
    "_all_column_filler = all_column_filler.AllColumnFiller()\n",
    "df = _all_column_filler.fill_columns_for_df(df, aff_search_engine_inverted_index, _abbreviations_resolver,\n",
    "                                            settings_json = {\"columns\":[\n",
    "    {\"column_filler_class\":\"GeoNameFinder\", \"columns_to_process\": [\"raw_affiliation\"],\n",
    "     \"prefix_for_columns\":\"affiliation_\"}\n",
    "]})"
   ]
  },
  {
   "cell_type": "code",
   "execution_count": 108,
   "id": "d2b7a925",
   "metadata": {},
   "outputs": [
    {
     "name": "stdout",
     "output_type": "stream",
     "text": [
      "Processed 0 articles\n",
      "Processed 14 articles\n",
      "Started processing  {'column_filler_class': 'GeoNameFinder', 'columns_to_process': ['title', 'abstract']}\n",
      "Read file ../data/provinces.xlsx: 2.53s\n",
      "Processed file ../data/provinces.xlsx: 1.43s\n",
      "Read file ../data/districts.xlsx: 1.56s\n",
      "Processed file ../data/districts.xlsx: 1.53s\n",
      "Processed 0 items\n",
      "Processed 14 items\n",
      "Processed for 11.502444744110107s\n"
     ]
    }
   ],
   "source": [
    "from text_processing import all_column_filler\n",
    "all_column_filler = reload(all_column_filler)\n",
    "from text_processing import geo_names_finder\n",
    "geo_names_finder = reload(geo_names_finder)\n",
    "\n",
    "from text_processing import search_engine_insensitive_to_spelling\n",
    "search_engine_insensitive_to_spelling = reload(search_engine_insensitive_to_spelling)\n",
    "\n",
    "aff_search_engine_inverted_index = search_engine_insensitive_to_spelling.SearchEngineInsensitiveToSpelling(\n",
    "    load_abbreviations = False, columns_to_process=[\"title\", \"abstract\"])\n",
    "aff_search_engine_inverted_index.create_inverted_index(df)\n",
    "\n",
    "_all_column_filler = all_column_filler.AllColumnFiller()\n",
    "df = _all_column_filler.fill_columns_for_df(df, aff_search_engine_inverted_index, _abbreviations_resolver,\n",
    "                                            settings_json = {\"columns\":[\n",
    "    {\"column_filler_class\":\"GeoNameFinder\", \"columns_to_process\": [\"title\", \"abstract\"]}\n",
    "]})"
   ]
  },
  {
   "cell_type": "code",
   "execution_count": 109,
   "id": "37fa28af",
   "metadata": {},
   "outputs": [
    {
     "data": {
      "text/plain": [
       "Index(['title', 'abstract', 'raw_affiliation', 'correct_affilaition_countries',\n",
       "       'correct_countries_extracted', 'correct_provinces_extracted',\n",
       "       'correct_districts_extracted', 'affiliation_countries_mentioned',\n",
       "       'affiliation_country_codes', 'affiliation_provinces',\n",
       "       'affiliation_districts', 'affiliation_geo_regions',\n",
       "       'affiliation_world_bankdivision_regions', 'countries_mentioned',\n",
       "       'country_codes', 'provinces', 'districts', 'geo_regions',\n",
       "       'world_bankdivision_regions'],\n",
       "      dtype='object')"
      ]
     },
     "execution_count": 109,
     "metadata": {},
     "output_type": "execute_result"
    }
   ],
   "source": [
    "df.columns"
   ]
  },
  {
   "cell_type": "code",
   "execution_count": 110,
   "id": "a407a0c6",
   "metadata": {},
   "outputs": [
    {
     "name": "stdout",
     "output_type": "stream",
     "text": [
      "Saving...\n",
      "Saved to ../tmp/3ie_sample_enriched.xlsx\n"
     ]
    }
   ],
   "source": [
    "excel_writer.ExcelWriter().save_df_in_excel(df, \"../tmp/3ie_sample_enriched.xlsx\")"
   ]
  },
  {
   "cell_type": "markdown",
   "id": "d14d35cd",
   "metadata": {},
   "source": [
    "# Visualizations"
   ]
  },
  {
   "cell_type": "code",
   "execution_count": 46,
   "id": "be37da03",
   "metadata": {},
   "outputs": [
    {
     "name": "stdout",
     "output_type": "stream",
     "text": [
      "Read file ../tmp/sample_reaper_enriched.xlsx: 0.13s\n",
      "Processed file ../tmp/sample_reaper_enriched.xlsx: 0.25s\n"
     ]
    }
   ],
   "source": [
    "df = excel_reader.ExcelReader().read_df_from_excel(\"../tmp/sample_reaper_enriched.xlsx\")"
   ]
  },
  {
   "cell_type": "code",
   "execution_count": 49,
   "id": "15ed8862",
   "metadata": {},
   "outputs": [
    {
     "data": {
      "text/plain": [
       "Index(['abstract', 'affiliation', 'authors', 'journal', 'keywords',\n",
       "       'publisher', 'title', 'url', 'year', 'raw_affiliation', 'raw_authors',\n",
       "       'identificators', 'normalized_key_words', 'countries_mentioned',\n",
       "       'country_codes', 'provinces', 'districts', 'geo_regions',\n",
       "       'world_bankdivision_regions', 'plant_products_search',\n",
       "       'plant_products_search_details', 'animal_products_search',\n",
       "       'animal_products_search_details', 'animals_found',\n",
       "       'animals_found_details', 'population tags',\n",
       "       'gender_age_population_tags', 'interventions_found',\n",
       "       'intervention_labels', 'interventions_found_raw',\n",
       "       'technology intervention', 'socioeconomic intervention',\n",
       "       'ecosystem intervention', 'storage intervention',\n",
       "       'mechanisation intervention', 'measurements',\n",
       "       'measurements_for_interventions', 'measurements_for_animals',\n",
       "       'measurements_for_crops', 'programs_found', 'keywords_study_type',\n",
       "       'study_type', 'outcomes_found', 'outcomes_details',\n",
       "       'extracted_interventions', 'extracted_interventions_probs',\n",
       "       'affiliation_countries_mentioned', 'affiliation_country_codes',\n",
       "       'affiliation_provinces', 'affiliation_districts',\n",
       "       'affiliation_geo_regions', 'affiliation_world_bankdivision_regions'],\n",
       "      dtype='object')"
      ]
     },
     "execution_count": 49,
     "metadata": {},
     "output_type": "execute_result"
    }
   ],
   "source": [
    "df.columns"
   ]
  },
  {
   "cell_type": "code",
   "execution_count": 62,
   "id": "2248cc9d",
   "metadata": {},
   "outputs": [
    {
     "data": {
      "text/plain": [
       "['women', 'adults']"
      ]
     },
     "execution_count": 62,
     "metadata": {},
     "output_type": "execute_result"
    }
   ],
   "source": [
    "df[\"gender_age_population_tags\"].values[7]"
   ]
  },
  {
   "cell_type": "code",
   "execution_count": 63,
   "id": "bbadbf56",
   "metadata": {},
   "outputs": [
    {
     "data": {
      "text/plain": [
       "0                   []\n",
       "1                   []\n",
       "2                   []\n",
       "3                   []\n",
       "4                   []\n",
       "5                   []\n",
       "6                   []\n",
       "7      [women, adults]\n",
       "8                   []\n",
       "9                   []\n",
       "10                  []\n",
       "11                  []\n",
       "12                  []\n",
       "13                  []\n",
       "14     [women, adults]\n",
       "15                  []\n",
       "16                  []\n",
       "17                  []\n",
       "18                  []\n",
       "19                  []\n",
       "20                  []\n",
       "21                  []\n",
       "22                  []\n",
       "23             [youth]\n",
       "24                  []\n",
       "25                  []\n",
       "26                  []\n",
       "27                  []\n",
       "28                  []\n",
       "29                  []\n",
       "            ...       \n",
       "255                 []\n",
       "256                 []\n",
       "257                 []\n",
       "258                 []\n",
       "259                 []\n",
       "260                 []\n",
       "261                 []\n",
       "262                 []\n",
       "263                 []\n",
       "264                 []\n",
       "265                 []\n",
       "266           [adults]\n",
       "267                 []\n",
       "268                 []\n",
       "269                 []\n",
       "270                 []\n",
       "271                 []\n",
       "272                 []\n",
       "273                 []\n",
       "274                 []\n",
       "275                 []\n",
       "276                 []\n",
       "277                 []\n",
       "278    [women, adults]\n",
       "279                 []\n",
       "280                 []\n",
       "281                 []\n",
       "282                 []\n",
       "283                 []\n",
       "284                 []\n",
       "Name: gender_age_population_tags, Length: 285, dtype: object"
      ]
     },
     "execution_count": 63,
     "metadata": {},
     "output_type": "execute_result"
    }
   ],
   "source": [
    "df[\"gender_age_population_tags\"]"
   ]
  },
  {
   "cell_type": "code",
   "execution_count": 100,
   "id": "5653205a",
   "metadata": {
    "scrolled": true
   },
   "outputs": [
    {
     "name": "stdout",
     "output_type": "stream",
     "text": [
      "[[], ['High-income countries($12,056 or more)'], ['Middle-income countries($996 to $3,895)', 'IBRD'], ['High-income countries($12,056 or more)'], ['High-income countries($12,056 or more)', 'Middle-income countries($996 to $3,895)', 'IBRD'], ['High-income countries($12,056 or more)'], ['IBRD', 'Upper-middle-income countries ($3,896 to $12,055)'], ['BLEND', 'Middle-income countries($996 to $3,895)'], ['High-income countries($12,056 or more)'], ['High-income countries($12,056 or more)'], ['High-income countries($12,056 or more)', 'Middle-income countries($996 to $3,895)', 'IBRD'], ['Middle-income countries($996 to $3,895)', 'IBRD', 'Upper-middle-income countries ($3,896 to $12,055)'], ['High-income countries($12,056 or more)', 'Middle-income countries($996 to $3,895)', 'IBRD'], ['IBRD', 'Upper-middle-income countries ($3,896 to $12,055)'], ['High-income countries($12,056 or more)'], ['IDA', 'Low-income countries(995$ or less)'], ['High-income countries($12,056 or more)', 'IBRD', 'Upper-middle-income countries ($3,896 to $12,055)'], ['High-income countries($12,056 or more)'], [], ['IBRD', 'Upper-middle-income countries ($3,896 to $12,055)'], ['High-income countries($12,056 or more)'], ['Middle-income countries($996 to $3,895)', 'IBRD'], ['High-income countries($12,056 or more)'], ['High-income countries($12,056 or more)'], ['High-income countries($12,056 or more)'], ['Middle-income countries($996 to $3,895)', 'IBRD'], ['High-income countries($12,056 or more)'], [], ['Middle-income countries($996 to $3,895)', 'IBRD'], ['High-income countries($12,056 or more)'], ['BLEND', 'Middle-income countries($996 to $3,895)', 'Low-income countries(995$ or less)', 'IDA'], ['IBRD', 'Upper-middle-income countries ($3,896 to $12,055)'], [], ['High-income countries($12,056 or more)'], ['BLEND', 'High-income countries($12,056 or more)', 'IBRD', 'Middle-income countries($996 to $3,895)'], ['Middle-income countries($996 to $3,895)', 'IBRD'], [], ['BLEND', 'High-income countries($12,056 or more)', 'IBRD', 'Middle-income countries($996 to $3,895)'], ['High-income countries($12,056 or more)'], ['Middle-income countries($996 to $3,895)', 'IBRD'], ['BLEND', 'Middle-income countries($996 to $3,895)'], ['IDA', 'Low-income countries(995$ or less)'], ['High-income countries($12,056 or more)', 'IBRD', 'Upper-middle-income countries ($3,896 to $12,055)'], ['IDA', 'Middle-income countries($996 to $3,895)'], ['High-income countries($12,056 or more)'], ['High-income countries($12,056 or more)'], ['IDA', 'Low-income countries(995$ or less)'], [], ['High-income countries($12,056 or more)'], ['High-income countries($12,056 or more)'], [], [], ['Middle-income countries($996 to $3,895)', 'IBRD'], ['BLEND', 'Middle-income countries($996 to $3,895)', 'IBRD'], [], ['BLEND', 'Middle-income countries($996 to $3,895)'], ['IBRD', 'Upper-middle-income countries ($3,896 to $12,055)'], ['IBRD', 'Upper-middle-income countries ($3,896 to $12,055)'], ['BLEND', 'Middle-income countries($996 to $3,895)'], ['High-income countries($12,056 or more)'], ['IDA', 'Middle-income countries($996 to $3,895)'], ['BLEND', 'Middle-income countries($996 to $3,895)'], ['Middle-income countries($996 to $3,895)', 'IBRD'], ['IDA', 'Low-income countries(995$ or less)'], [], [], [], [], [], [], [], [], [], [], [], [], [], [], [], [], [], ['High-income countries($12,056 or more)'], [], [], [], [], [], [], [], [], [], [], [], [], [], [], [], [], [], [], [], [], [], [], [], [], [], [], [], [], [], [], [], [], [], [], [], [], [], [], [], [], [], [], [], [], [], [], [], [], [], [], [], [], [], [], [], [], [], [], [], [], [], [], [], [], [], [], [], [], [], [], [], [], [], [], [], [], [], [], [], [], [], [], [], [], [], [], [], [], [], [], [], [], [], [], [], [], [], [], [], [], [], [], [], [], [], [], [], [], [], [], [], [], [], [], [], [], [], [], [], ['IDA', 'Low-income countries(995$ or less)'], ['Middle-income countries($996 to $3,895)', 'IBRD'], ['High-income countries($12,056 or more)'], ['BLEND', 'Middle-income countries($996 to $3,895)'], ['IBRD', 'Upper-middle-income countries ($3,896 to $12,055)'], ['High-income countries($12,056 or more)', 'IBRD'], ['High-income countries($12,056 or more)', 'Middle-income countries($996 to $3,895)', 'IBRD', 'Upper-middle-income countries ($3,896 to $12,055)'], ['High-income countries($12,056 or more)', 'Middle-income countries($996 to $3,895)', 'IBRD', 'Upper-middle-income countries ($3,896 to $12,055)'], ['High-income countries($12,056 or more)'], ['High-income countries($12,056 or more)'], ['High-income countries($12,056 or more)'], ['BLEND', 'Middle-income countries($996 to $3,895)'], ['High-income countries($12,056 or more)'], ['High-income countries($12,056 or more)', 'IBRD', 'Upper-middle-income countries ($3,896 to $12,055)'], ['High-income countries($12,056 or more)'], ['High-income countries($12,056 or more)'], ['High-income countries($12,056 or more)'], ['High-income countries($12,056 or more)', 'IBRD', 'Upper-middle-income countries ($3,896 to $12,055)'], ['High-income countries($12,056 or more)'], ['High-income countries($12,056 or more)'], ['High-income countries($12,056 or more)'], ['IDA', 'Low-income countries(995$ or less)'], ['High-income countries($12,056 or more)'], [], ['High-income countries($12,056 or more)'], ['Middle-income countries($996 to $3,895)', 'IBRD'], ['IDA', 'Middle-income countries($996 to $3,895)', 'BLEND'], ['High-income countries($12,056 or more)'], ['High-income countries($12,056 or more)'], [], [], [], [], [], [], [], [], [], [], [], [], [], [], [], [], [], [], [], [], [], [], [], [], [], [], [], [], [], [], [], [], [], [], [], [], [], [], [], [], [], [], [], [], [], [], [], [], [], [], [], [], [], [], []]\n"
     ]
    }
   ],
   "source": [
    "# attribute_column_name=\"gender_age_population_tags\"\n",
    "attribute_column_name='affiliation_world_bankdivision_regions'\n",
    "attribute_list= df[attribute_column_name].to_list()\n",
    "print(attribute_list)"
   ]
  },
  {
   "cell_type": "code",
   "execution_count": 101,
   "id": "b2141880",
   "metadata": {},
   "outputs": [
    {
     "name": "stdout",
     "output_type": "stream",
     "text": [
      "Unspecified\n",
      "High-income countries($12,056 or more)\n",
      "Middle-income countries($996 to $3,895)\n",
      "IBRD\n",
      "High-income countries($12,056 or more)\n",
      "High-income countries($12,056 or more)\n",
      "Middle-income countries($996 to $3,895)\n",
      "IBRD\n",
      "High-income countries($12,056 or more)\n",
      "IBRD\n",
      "Upper-middle-income countries ($3,896 to $12,055)\n",
      "BLEND\n",
      "Middle-income countries($996 to $3,895)\n",
      "High-income countries($12,056 or more)\n",
      "High-income countries($12,056 or more)\n",
      "High-income countries($12,056 or more)\n",
      "Middle-income countries($996 to $3,895)\n",
      "IBRD\n",
      "Middle-income countries($996 to $3,895)\n",
      "IBRD\n",
      "Upper-middle-income countries ($3,896 to $12,055)\n",
      "High-income countries($12,056 or more)\n",
      "Middle-income countries($996 to $3,895)\n",
      "IBRD\n",
      "IBRD\n",
      "Upper-middle-income countries ($3,896 to $12,055)\n",
      "High-income countries($12,056 or more)\n",
      "IDA\n",
      "Low-income countries(995$ or less)\n",
      "High-income countries($12,056 or more)\n",
      "IBRD\n",
      "Upper-middle-income countries ($3,896 to $12,055)\n",
      "High-income countries($12,056 or more)\n",
      "Unspecified\n",
      "IBRD\n",
      "Upper-middle-income countries ($3,896 to $12,055)\n",
      "High-income countries($12,056 or more)\n",
      "Middle-income countries($996 to $3,895)\n",
      "IBRD\n",
      "High-income countries($12,056 or more)\n",
      "High-income countries($12,056 or more)\n",
      "High-income countries($12,056 or more)\n",
      "Middle-income countries($996 to $3,895)\n",
      "IBRD\n",
      "High-income countries($12,056 or more)\n",
      "Unspecified\n",
      "Middle-income countries($996 to $3,895)\n",
      "IBRD\n",
      "High-income countries($12,056 or more)\n",
      "BLEND\n",
      "Middle-income countries($996 to $3,895)\n",
      "Low-income countries(995$ or less)\n",
      "IDA\n",
      "IBRD\n",
      "Upper-middle-income countries ($3,896 to $12,055)\n",
      "Unspecified\n",
      "High-income countries($12,056 or more)\n",
      "BLEND\n",
      "High-income countries($12,056 or more)\n",
      "IBRD\n",
      "Middle-income countries($996 to $3,895)\n",
      "Middle-income countries($996 to $3,895)\n",
      "IBRD\n",
      "Unspecified\n",
      "BLEND\n",
      "High-income countries($12,056 or more)\n",
      "IBRD\n",
      "Middle-income countries($996 to $3,895)\n",
      "High-income countries($12,056 or more)\n",
      "Middle-income countries($996 to $3,895)\n",
      "IBRD\n",
      "BLEND\n",
      "Middle-income countries($996 to $3,895)\n",
      "IDA\n",
      "Low-income countries(995$ or less)\n",
      "High-income countries($12,056 or more)\n",
      "IBRD\n",
      "Upper-middle-income countries ($3,896 to $12,055)\n",
      "IDA\n",
      "Middle-income countries($996 to $3,895)\n",
      "High-income countries($12,056 or more)\n",
      "High-income countries($12,056 or more)\n",
      "IDA\n",
      "Low-income countries(995$ or less)\n",
      "Unspecified\n",
      "High-income countries($12,056 or more)\n",
      "High-income countries($12,056 or more)\n",
      "Unspecified\n",
      "Unspecified\n",
      "Middle-income countries($996 to $3,895)\n",
      "IBRD\n",
      "BLEND\n",
      "Middle-income countries($996 to $3,895)\n",
      "IBRD\n",
      "Unspecified\n",
      "BLEND\n",
      "Middle-income countries($996 to $3,895)\n",
      "IBRD\n",
      "Upper-middle-income countries ($3,896 to $12,055)\n",
      "IBRD\n",
      "Upper-middle-income countries ($3,896 to $12,055)\n",
      "BLEND\n",
      "Middle-income countries($996 to $3,895)\n",
      "High-income countries($12,056 or more)\n",
      "IDA\n",
      "Middle-income countries($996 to $3,895)\n",
      "BLEND\n",
      "Middle-income countries($996 to $3,895)\n",
      "Middle-income countries($996 to $3,895)\n",
      "IBRD\n",
      "IDA\n",
      "Low-income countries(995$ or less)\n",
      "Unspecified\n",
      "Unspecified\n",
      "Unspecified\n",
      "Unspecified\n",
      "Unspecified\n",
      "Unspecified\n",
      "Unspecified\n",
      "Unspecified\n",
      "Unspecified\n",
      "Unspecified\n",
      "Unspecified\n",
      "Unspecified\n",
      "Unspecified\n",
      "Unspecified\n",
      "Unspecified\n",
      "Unspecified\n",
      "Unspecified\n",
      "High-income countries($12,056 or more)\n",
      "Unspecified\n",
      "Unspecified\n",
      "Unspecified\n",
      "Unspecified\n",
      "Unspecified\n",
      "Unspecified\n",
      "Unspecified\n",
      "Unspecified\n",
      "Unspecified\n",
      "Unspecified\n",
      "Unspecified\n",
      "Unspecified\n",
      "Unspecified\n",
      "Unspecified\n",
      "Unspecified\n",
      "Unspecified\n",
      "Unspecified\n",
      "Unspecified\n",
      "Unspecified\n",
      "Unspecified\n",
      "Unspecified\n",
      "Unspecified\n",
      "Unspecified\n",
      "Unspecified\n",
      "Unspecified\n",
      "Unspecified\n",
      "Unspecified\n",
      "Unspecified\n",
      "Unspecified\n",
      "Unspecified\n",
      "Unspecified\n",
      "Unspecified\n",
      "Unspecified\n",
      "Unspecified\n",
      "Unspecified\n",
      "Unspecified\n",
      "Unspecified\n",
      "Unspecified\n",
      "Unspecified\n",
      "Unspecified\n",
      "Unspecified\n",
      "Unspecified\n",
      "Unspecified\n",
      "Unspecified\n",
      "Unspecified\n",
      "Unspecified\n",
      "Unspecified\n",
      "Unspecified\n",
      "Unspecified\n",
      "Unspecified\n",
      "Unspecified\n",
      "Unspecified\n",
      "Unspecified\n",
      "Unspecified\n",
      "Unspecified\n",
      "Unspecified\n",
      "Unspecified\n",
      "Unspecified\n",
      "Unspecified\n",
      "Unspecified\n",
      "Unspecified\n",
      "Unspecified\n",
      "Unspecified\n",
      "Unspecified\n",
      "Unspecified\n",
      "Unspecified\n",
      "Unspecified\n",
      "Unspecified\n",
      "Unspecified\n",
      "Unspecified\n",
      "Unspecified\n",
      "Unspecified\n",
      "Unspecified\n",
      "Unspecified\n",
      "Unspecified\n",
      "Unspecified\n",
      "Unspecified\n",
      "Unspecified\n",
      "Unspecified\n",
      "Unspecified\n",
      "Unspecified\n",
      "Unspecified\n",
      "Unspecified\n",
      "Unspecified\n",
      "Unspecified\n",
      "Unspecified\n",
      "Unspecified\n",
      "Unspecified\n",
      "Unspecified\n",
      "Unspecified\n",
      "Unspecified\n",
      "Unspecified\n",
      "Unspecified\n",
      "Unspecified\n",
      "Unspecified\n",
      "Unspecified\n",
      "Unspecified\n",
      "Unspecified\n",
      "Unspecified\n",
      "Unspecified\n",
      "Unspecified\n",
      "Unspecified\n",
      "Unspecified\n",
      "Unspecified\n",
      "Unspecified\n",
      "Unspecified\n",
      "Unspecified\n",
      "Unspecified\n",
      "Unspecified\n",
      "Unspecified\n",
      "Unspecified\n",
      "Unspecified\n",
      "Unspecified\n",
      "Unspecified\n",
      "Unspecified\n",
      "Unspecified\n",
      "Unspecified\n",
      "Unspecified\n",
      "Unspecified\n",
      "IDA\n",
      "Low-income countries(995$ or less)\n",
      "Middle-income countries($996 to $3,895)\n",
      "IBRD\n",
      "High-income countries($12,056 or more)\n",
      "BLEND\n",
      "Middle-income countries($996 to $3,895)\n",
      "IBRD\n",
      "Upper-middle-income countries ($3,896 to $12,055)\n",
      "High-income countries($12,056 or more)\n",
      "IBRD\n",
      "High-income countries($12,056 or more)\n",
      "Middle-income countries($996 to $3,895)\n",
      "IBRD\n",
      "Upper-middle-income countries ($3,896 to $12,055)\n",
      "High-income countries($12,056 or more)\n",
      "Middle-income countries($996 to $3,895)\n",
      "IBRD\n",
      "Upper-middle-income countries ($3,896 to $12,055)\n",
      "High-income countries($12,056 or more)\n",
      "High-income countries($12,056 or more)\n",
      "High-income countries($12,056 or more)\n",
      "BLEND\n",
      "Middle-income countries($996 to $3,895)\n",
      "High-income countries($12,056 or more)\n",
      "High-income countries($12,056 or more)\n",
      "IBRD\n",
      "Upper-middle-income countries ($3,896 to $12,055)\n",
      "High-income countries($12,056 or more)\n",
      "High-income countries($12,056 or more)\n",
      "High-income countries($12,056 or more)\n",
      "High-income countries($12,056 or more)\n",
      "IBRD\n",
      "Upper-middle-income countries ($3,896 to $12,055)\n",
      "High-income countries($12,056 or more)\n",
      "High-income countries($12,056 or more)\n",
      "High-income countries($12,056 or more)\n",
      "IDA\n",
      "Low-income countries(995$ or less)\n",
      "High-income countries($12,056 or more)\n",
      "Unspecified\n",
      "High-income countries($12,056 or more)\n",
      "Middle-income countries($996 to $3,895)\n",
      "IBRD\n",
      "IDA\n",
      "Middle-income countries($996 to $3,895)\n",
      "BLEND\n",
      "High-income countries($12,056 or more)\n",
      "High-income countries($12,056 or more)\n",
      "Unspecified\n",
      "Unspecified\n",
      "Unspecified\n",
      "Unspecified\n",
      "Unspecified\n",
      "Unspecified\n",
      "Unspecified\n",
      "Unspecified\n",
      "Unspecified\n",
      "Unspecified\n",
      "Unspecified\n",
      "Unspecified\n",
      "Unspecified\n",
      "Unspecified\n",
      "Unspecified\n",
      "Unspecified\n",
      "Unspecified\n",
      "Unspecified\n",
      "Unspecified\n",
      "Unspecified\n",
      "Unspecified\n",
      "Unspecified\n",
      "Unspecified\n",
      "Unspecified\n",
      "Unspecified\n",
      "Unspecified\n",
      "Unspecified\n",
      "Unspecified\n",
      "Unspecified\n",
      "Unspecified\n",
      "Unspecified\n",
      "Unspecified\n",
      "Unspecified\n",
      "Unspecified\n",
      "Unspecified\n",
      "Unspecified\n",
      "Unspecified\n",
      "Unspecified\n",
      "Unspecified\n",
      "Unspecified\n",
      "Unspecified\n",
      "Unspecified\n",
      "Unspecified\n",
      "Unspecified\n",
      "Unspecified\n",
      "Unspecified\n",
      "Unspecified\n",
      "Unspecified\n",
      "Unspecified\n",
      "Unspecified\n",
      "Unspecified\n",
      "Unspecified\n",
      "Unspecified\n",
      "Unspecified\n",
      "Unspecified\n"
     ]
    }
   ],
   "source": [
    "unwrapped_list=[]\n",
    "for s in attribute_list:\n",
    "    if s== []:\n",
    "        i=\"Unspecified\"\n",
    "        print(i)\n",
    "        unwrapped_list.append(i)\n",
    "    else:\n",
    "        # print(len(s))\n",
    "        for i in s:\n",
    "            print(i)\n",
    "            unwrapped_list.append(i)\n"
   ]
  },
  {
   "cell_type": "code",
   "execution_count": 102,
   "id": "f9e50dac",
   "metadata": {},
   "outputs": [
    {
     "data": {
      "text/plain": [
       "['Unspecified',\n",
       " 'High-income countries($12,056 or more)',\n",
       " 'Middle-income countries($996 to $3,895)',\n",
       " 'IBRD',\n",
       " 'High-income countries($12,056 or more)',\n",
       " 'High-income countries($12,056 or more)',\n",
       " 'Middle-income countries($996 to $3,895)',\n",
       " 'IBRD',\n",
       " 'High-income countries($12,056 or more)',\n",
       " 'IBRD',\n",
       " 'Upper-middle-income countries ($3,896 to $12,055)',\n",
       " 'BLEND',\n",
       " 'Middle-income countries($996 to $3,895)',\n",
       " 'High-income countries($12,056 or more)',\n",
       " 'High-income countries($12,056 or more)',\n",
       " 'High-income countries($12,056 or more)',\n",
       " 'Middle-income countries($996 to $3,895)',\n",
       " 'IBRD',\n",
       " 'Middle-income countries($996 to $3,895)',\n",
       " 'IBRD',\n",
       " 'Upper-middle-income countries ($3,896 to $12,055)',\n",
       " 'High-income countries($12,056 or more)',\n",
       " 'Middle-income countries($996 to $3,895)',\n",
       " 'IBRD',\n",
       " 'IBRD',\n",
       " 'Upper-middle-income countries ($3,896 to $12,055)',\n",
       " 'High-income countries($12,056 or more)',\n",
       " 'IDA',\n",
       " 'Low-income countries(995$ or less)',\n",
       " 'High-income countries($12,056 or more)',\n",
       " 'IBRD',\n",
       " 'Upper-middle-income countries ($3,896 to $12,055)',\n",
       " 'High-income countries($12,056 or more)',\n",
       " 'Unspecified',\n",
       " 'IBRD',\n",
       " 'Upper-middle-income countries ($3,896 to $12,055)',\n",
       " 'High-income countries($12,056 or more)',\n",
       " 'Middle-income countries($996 to $3,895)',\n",
       " 'IBRD',\n",
       " 'High-income countries($12,056 or more)',\n",
       " 'High-income countries($12,056 or more)',\n",
       " 'High-income countries($12,056 or more)',\n",
       " 'Middle-income countries($996 to $3,895)',\n",
       " 'IBRD',\n",
       " 'High-income countries($12,056 or more)',\n",
       " 'Unspecified',\n",
       " 'Middle-income countries($996 to $3,895)',\n",
       " 'IBRD',\n",
       " 'High-income countries($12,056 or more)',\n",
       " 'BLEND',\n",
       " 'Middle-income countries($996 to $3,895)',\n",
       " 'Low-income countries(995$ or less)',\n",
       " 'IDA',\n",
       " 'IBRD',\n",
       " 'Upper-middle-income countries ($3,896 to $12,055)',\n",
       " 'Unspecified',\n",
       " 'High-income countries($12,056 or more)',\n",
       " 'BLEND',\n",
       " 'High-income countries($12,056 or more)',\n",
       " 'IBRD',\n",
       " 'Middle-income countries($996 to $3,895)',\n",
       " 'Middle-income countries($996 to $3,895)',\n",
       " 'IBRD',\n",
       " 'Unspecified',\n",
       " 'BLEND',\n",
       " 'High-income countries($12,056 or more)',\n",
       " 'IBRD',\n",
       " 'Middle-income countries($996 to $3,895)',\n",
       " 'High-income countries($12,056 or more)',\n",
       " 'Middle-income countries($996 to $3,895)',\n",
       " 'IBRD',\n",
       " 'BLEND',\n",
       " 'Middle-income countries($996 to $3,895)',\n",
       " 'IDA',\n",
       " 'Low-income countries(995$ or less)',\n",
       " 'High-income countries($12,056 or more)',\n",
       " 'IBRD',\n",
       " 'Upper-middle-income countries ($3,896 to $12,055)',\n",
       " 'IDA',\n",
       " 'Middle-income countries($996 to $3,895)',\n",
       " 'High-income countries($12,056 or more)',\n",
       " 'High-income countries($12,056 or more)',\n",
       " 'IDA',\n",
       " 'Low-income countries(995$ or less)',\n",
       " 'Unspecified',\n",
       " 'High-income countries($12,056 or more)',\n",
       " 'High-income countries($12,056 or more)',\n",
       " 'Unspecified',\n",
       " 'Unspecified',\n",
       " 'Middle-income countries($996 to $3,895)',\n",
       " 'IBRD',\n",
       " 'BLEND',\n",
       " 'Middle-income countries($996 to $3,895)',\n",
       " 'IBRD',\n",
       " 'Unspecified',\n",
       " 'BLEND',\n",
       " 'Middle-income countries($996 to $3,895)',\n",
       " 'IBRD',\n",
       " 'Upper-middle-income countries ($3,896 to $12,055)',\n",
       " 'IBRD',\n",
       " 'Upper-middle-income countries ($3,896 to $12,055)',\n",
       " 'BLEND',\n",
       " 'Middle-income countries($996 to $3,895)',\n",
       " 'High-income countries($12,056 or more)',\n",
       " 'IDA',\n",
       " 'Middle-income countries($996 to $3,895)',\n",
       " 'BLEND',\n",
       " 'Middle-income countries($996 to $3,895)',\n",
       " 'Middle-income countries($996 to $3,895)',\n",
       " 'IBRD',\n",
       " 'IDA',\n",
       " 'Low-income countries(995$ or less)',\n",
       " 'Unspecified',\n",
       " 'Unspecified',\n",
       " 'Unspecified',\n",
       " 'Unspecified',\n",
       " 'Unspecified',\n",
       " 'Unspecified',\n",
       " 'Unspecified',\n",
       " 'Unspecified',\n",
       " 'Unspecified',\n",
       " 'Unspecified',\n",
       " 'Unspecified',\n",
       " 'Unspecified',\n",
       " 'Unspecified',\n",
       " 'Unspecified',\n",
       " 'Unspecified',\n",
       " 'Unspecified',\n",
       " 'Unspecified',\n",
       " 'High-income countries($12,056 or more)',\n",
       " 'Unspecified',\n",
       " 'Unspecified',\n",
       " 'Unspecified',\n",
       " 'Unspecified',\n",
       " 'Unspecified',\n",
       " 'Unspecified',\n",
       " 'Unspecified',\n",
       " 'Unspecified',\n",
       " 'Unspecified',\n",
       " 'Unspecified',\n",
       " 'Unspecified',\n",
       " 'Unspecified',\n",
       " 'Unspecified',\n",
       " 'Unspecified',\n",
       " 'Unspecified',\n",
       " 'Unspecified',\n",
       " 'Unspecified',\n",
       " 'Unspecified',\n",
       " 'Unspecified',\n",
       " 'Unspecified',\n",
       " 'Unspecified',\n",
       " 'Unspecified',\n",
       " 'Unspecified',\n",
       " 'Unspecified',\n",
       " 'Unspecified',\n",
       " 'Unspecified',\n",
       " 'Unspecified',\n",
       " 'Unspecified',\n",
       " 'Unspecified',\n",
       " 'Unspecified',\n",
       " 'Unspecified',\n",
       " 'Unspecified',\n",
       " 'Unspecified',\n",
       " 'Unspecified',\n",
       " 'Unspecified',\n",
       " 'Unspecified',\n",
       " 'Unspecified',\n",
       " 'Unspecified',\n",
       " 'Unspecified',\n",
       " 'Unspecified',\n",
       " 'Unspecified',\n",
       " 'Unspecified',\n",
       " 'Unspecified',\n",
       " 'Unspecified',\n",
       " 'Unspecified',\n",
       " 'Unspecified',\n",
       " 'Unspecified',\n",
       " 'Unspecified',\n",
       " 'Unspecified',\n",
       " 'Unspecified',\n",
       " 'Unspecified',\n",
       " 'Unspecified',\n",
       " 'Unspecified',\n",
       " 'Unspecified',\n",
       " 'Unspecified',\n",
       " 'Unspecified',\n",
       " 'Unspecified',\n",
       " 'Unspecified',\n",
       " 'Unspecified',\n",
       " 'Unspecified',\n",
       " 'Unspecified',\n",
       " 'Unspecified',\n",
       " 'Unspecified',\n",
       " 'Unspecified',\n",
       " 'Unspecified',\n",
       " 'Unspecified',\n",
       " 'Unspecified',\n",
       " 'Unspecified',\n",
       " 'Unspecified',\n",
       " 'Unspecified',\n",
       " 'Unspecified',\n",
       " 'Unspecified',\n",
       " 'Unspecified',\n",
       " 'Unspecified',\n",
       " 'Unspecified',\n",
       " 'Unspecified',\n",
       " 'Unspecified',\n",
       " 'Unspecified',\n",
       " 'Unspecified',\n",
       " 'Unspecified',\n",
       " 'Unspecified',\n",
       " 'Unspecified',\n",
       " 'Unspecified',\n",
       " 'Unspecified',\n",
       " 'Unspecified',\n",
       " 'Unspecified',\n",
       " 'Unspecified',\n",
       " 'Unspecified',\n",
       " 'Unspecified',\n",
       " 'Unspecified',\n",
       " 'Unspecified',\n",
       " 'Unspecified',\n",
       " 'Unspecified',\n",
       " 'Unspecified',\n",
       " 'Unspecified',\n",
       " 'Unspecified',\n",
       " 'Unspecified',\n",
       " 'Unspecified',\n",
       " 'Unspecified',\n",
       " 'Unspecified',\n",
       " 'Unspecified',\n",
       " 'Unspecified',\n",
       " 'Unspecified',\n",
       " 'Unspecified',\n",
       " 'Unspecified',\n",
       " 'Unspecified',\n",
       " 'Unspecified',\n",
       " 'Unspecified',\n",
       " 'Unspecified',\n",
       " 'Unspecified',\n",
       " 'Unspecified',\n",
       " 'Unspecified',\n",
       " 'Unspecified',\n",
       " 'Unspecified',\n",
       " 'Unspecified',\n",
       " 'Unspecified',\n",
       " 'Unspecified',\n",
       " 'Unspecified',\n",
       " 'Unspecified',\n",
       " 'IDA',\n",
       " 'Low-income countries(995$ or less)',\n",
       " 'Middle-income countries($996 to $3,895)',\n",
       " 'IBRD',\n",
       " 'High-income countries($12,056 or more)',\n",
       " 'BLEND',\n",
       " 'Middle-income countries($996 to $3,895)',\n",
       " 'IBRD',\n",
       " 'Upper-middle-income countries ($3,896 to $12,055)',\n",
       " 'High-income countries($12,056 or more)',\n",
       " 'IBRD',\n",
       " 'High-income countries($12,056 or more)',\n",
       " 'Middle-income countries($996 to $3,895)',\n",
       " 'IBRD',\n",
       " 'Upper-middle-income countries ($3,896 to $12,055)',\n",
       " 'High-income countries($12,056 or more)',\n",
       " 'Middle-income countries($996 to $3,895)',\n",
       " 'IBRD',\n",
       " 'Upper-middle-income countries ($3,896 to $12,055)',\n",
       " 'High-income countries($12,056 or more)',\n",
       " 'High-income countries($12,056 or more)',\n",
       " 'High-income countries($12,056 or more)',\n",
       " 'BLEND',\n",
       " 'Middle-income countries($996 to $3,895)',\n",
       " 'High-income countries($12,056 or more)',\n",
       " 'High-income countries($12,056 or more)',\n",
       " 'IBRD',\n",
       " 'Upper-middle-income countries ($3,896 to $12,055)',\n",
       " 'High-income countries($12,056 or more)',\n",
       " 'High-income countries($12,056 or more)',\n",
       " 'High-income countries($12,056 or more)',\n",
       " 'High-income countries($12,056 or more)',\n",
       " 'IBRD',\n",
       " 'Upper-middle-income countries ($3,896 to $12,055)',\n",
       " 'High-income countries($12,056 or more)',\n",
       " 'High-income countries($12,056 or more)',\n",
       " 'High-income countries($12,056 or more)',\n",
       " 'IDA',\n",
       " 'Low-income countries(995$ or less)',\n",
       " 'High-income countries($12,056 or more)',\n",
       " 'Unspecified',\n",
       " 'High-income countries($12,056 or more)',\n",
       " 'Middle-income countries($996 to $3,895)',\n",
       " 'IBRD',\n",
       " 'IDA',\n",
       " 'Middle-income countries($996 to $3,895)',\n",
       " 'BLEND',\n",
       " 'High-income countries($12,056 or more)',\n",
       " 'High-income countries($12,056 or more)',\n",
       " 'Unspecified',\n",
       " 'Unspecified',\n",
       " 'Unspecified',\n",
       " 'Unspecified',\n",
       " 'Unspecified',\n",
       " 'Unspecified',\n",
       " 'Unspecified',\n",
       " 'Unspecified',\n",
       " 'Unspecified',\n",
       " 'Unspecified',\n",
       " 'Unspecified',\n",
       " 'Unspecified',\n",
       " 'Unspecified',\n",
       " 'Unspecified',\n",
       " 'Unspecified',\n",
       " 'Unspecified',\n",
       " 'Unspecified',\n",
       " 'Unspecified',\n",
       " 'Unspecified',\n",
       " 'Unspecified',\n",
       " 'Unspecified',\n",
       " 'Unspecified',\n",
       " 'Unspecified',\n",
       " 'Unspecified',\n",
       " 'Unspecified',\n",
       " 'Unspecified',\n",
       " 'Unspecified',\n",
       " 'Unspecified',\n",
       " 'Unspecified',\n",
       " 'Unspecified',\n",
       " 'Unspecified',\n",
       " 'Unspecified',\n",
       " 'Unspecified',\n",
       " 'Unspecified',\n",
       " 'Unspecified',\n",
       " 'Unspecified',\n",
       " 'Unspecified',\n",
       " 'Unspecified',\n",
       " 'Unspecified',\n",
       " 'Unspecified',\n",
       " 'Unspecified',\n",
       " 'Unspecified',\n",
       " 'Unspecified',\n",
       " 'Unspecified',\n",
       " 'Unspecified',\n",
       " 'Unspecified',\n",
       " 'Unspecified',\n",
       " 'Unspecified',\n",
       " 'Unspecified',\n",
       " 'Unspecified',\n",
       " 'Unspecified',\n",
       " 'Unspecified',\n",
       " 'Unspecified',\n",
       " 'Unspecified',\n",
       " 'Unspecified']"
      ]
     },
     "execution_count": 102,
     "metadata": {},
     "output_type": "execute_result"
    }
   ],
   "source": [
    "unwrapped_list"
   ]
  },
  {
   "cell_type": "code",
   "execution_count": 103,
   "id": "d5d303d7",
   "metadata": {},
   "outputs": [],
   "source": [
    "from collections import Counter"
   ]
  },
  {
   "cell_type": "code",
   "execution_count": 104,
   "id": "d9543e56",
   "metadata": {},
   "outputs": [
    {
     "name": "stdout",
     "output_type": "stream",
     "text": [
      "Counter({'Unspecified': 201, 'High-income countries($12,056 or more)': 48, 'IBRD': 31, 'Middle-income countries($996 to $3,895)': 30, 'Upper-middle-income countries ($3,896 to $12,055)': 14, 'BLEND': 12, 'IDA': 10, 'Low-income countries(995$ or less)': 7})\n"
     ]
    }
   ],
   "source": [
    "occurrences = collections.Counter(unwrapped_list)\n",
    "print(occurrences)"
   ]
  },
  {
   "cell_type": "code",
   "execution_count": null,
   "id": "66d9dcaf",
   "metadata": {},
   "outputs": [],
   "source": []
  }
 ],
 "metadata": {
  "kernelspec": {
   "display_name": "Python (usaid)",
   "language": "python",
   "name": "usaid"
  },
  "language_info": {
   "codemirror_mode": {
    "name": "ipython",
    "version": 3
   },
   "file_extension": ".py",
   "mimetype": "text/x-python",
   "name": "python",
   "nbconvert_exporter": "python",
   "pygments_lexer": "ipython3",
   "version": "3.6.6"
  },
  "toc": {
   "base_numbering": 1,
   "nav_menu": {},
   "number_sections": true,
   "sideBar": true,
   "skip_h1_title": false,
   "title_cell": "Table of Contents",
   "title_sidebar": "Contents",
   "toc_cell": false,
   "toc_position": {},
   "toc_section_display": true,
   "toc_window_display": false
  }
 },
 "nbformat": 4,
 "nbformat_minor": 5
}
